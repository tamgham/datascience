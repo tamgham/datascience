{
  "cells": [
    {
      "cell_type": "markdown",
      "metadata": {
        "id": "32tm7wL3AMV8"
      },
      "source": [
        "## Regresión lineal\n",
        "En los sistemas de bicicletas compartidas, el proceso de arriendo y devolución es automatizado. Normalmente, las bicicletas se pueden arrendar en un lugar y regresar en otro sin tener que depender de humanos. Actualmente, existen varios programas para compartir bicicletas en diferentes ciudades. El conjunto de datos bikes.csv, se deriva de un registro de dos años de un sistema de uso compartido de bicicletas en determinada ciudad.\n",
        "\n",
        "Las variables disponibles son las siguientes:\n",
        "\n",
        "* date: La fecha completa, en formato año-mes-día.\n",
        "* season: Temporada del año, 1 a 4.\n",
        "* year: Año (0 = 2020, 1 = 2021).\n",
        "* month: Mes (1 a 12).\n",
        "* holiday: Si el día es feriado o no.\n",
        "* weekday: Día de la semana (codificado de 0 a 6).\n",
        "* workingday: 1 para días laborables, 0 para fines de semana y festivos.\n",
        "* weather: Codificado de la siguiente manera:\n",
        "  1. Claro a parcialmente nublado.\n",
        "  2. Niebla, pero sin precipitaciones más intensas.\n",
        "  3. Lluvia ligera o nieve, posiblemente con truenos.\n",
        "  4. Fuertes lluvias o nieve.\n",
        "* temp: Temperatura normalizada en grados celsius. Los valores se obtienen mediante (t − tmin)/(tmax − tmin), tmin = −8, tmax = +39.\n",
        "* atemp: Temperatura de sensación normalizada en grados celsius. Los valores se obtienen mediante (t − tmin)/(tmax − tmin), tmin = −16, tmax = +50.\n",
        "* humidity: Humedad normalizada (= humedad real dividida por 100).\n",
        "* windspeed: Velocidad normalizada del viento (= velocidad real del viento en millas por hora dividido por 67).\n",
        "* registered: Número de alquileres de bicicletas ese día por usuarios registrados.\n",
        "* Target: Cantidad total de arriendos de bicicletas ese día, incluidos los casuales y los usuarios registrados."
      ]
    },
    {
      "cell_type": "markdown",
      "metadata": {
        "id": "ixwUl_C3AMV_"
      },
      "source": [
        "### Pregunta 1\n",
        "Cargue la base de datos bike.csv. Realice las siguientes procesos de limpieza\n",
        "\n",
        "* Transforme a factor las variables categóricas.\n",
        "* Transforme las variables temp y atemp a grados celsius, ya que se encuentran en escala normalizada. Use las siguientes fórmulas respectivamente:\n",
        "(47*temp-8).\n",
        "(66*atemp-16).\n",
        "* Transforme la variable humedad a porcentaje (multiplique la variable por 100).\n",
        "* Transforme la velocidad del viento a millas por hora (multiplique por 67 el valor de la variable normalizada)."
      ]
    },
    {
      "cell_type": "code",
      "execution_count": null,
      "metadata": {
        "id": "46at7TJtAMWA"
      },
      "outputs": [],
      "source": [
        "import pandas as pd"
      ]
    },
    {
      "cell_type": "code",
      "execution_count": null,
      "metadata": {
        "id": "9KzCEl4zAMWA"
      },
      "outputs": [],
      "source": [
        "import pandas as csv"
      ]
    },
    {
      "cell_type": "code",
      "execution_count": null,
      "metadata": {
        "id": "7aGYs6QDAMWA"
      },
      "outputs": [],
      "source": [
        "data_bikes = pd.read_csv(\"bikes.csv\")"
      ]
    },
    {
      "cell_type": "code",
      "execution_count": null,
      "metadata": {
        "id": "vVvy0jFZAMWB",
        "outputId": "19846ec1-5760-4406-9c8d-0a5563068e54",
        "colab": {
          "base_uri": "https://localhost:8080/",
          "height": 443
        }
      },
      "outputs": [
        {
          "output_type": "execute_result",
          "data": {
            "text/plain": [
              "         date  season  year  month  holiday  weekday  workingday  weather  \\\n",
              "0  2011-01-01       1     0      1        0        6           0        2   \n",
              "1  2011-01-02       1     0      1        0        0           0        2   \n",
              "2  2011-01-03       1     0      1        0        1           1        1   \n",
              "3  2011-01-04       1     0      1        0        2           1        1   \n",
              "4  2011-01-05       1     0      1        0        3           1        1   \n",
              "\n",
              "       temp     atemp  humidity  windspeed  registered  Target  \n",
              "0  0.344167  0.363625  0.805833   0.160446         654     985  \n",
              "1  0.363478  0.353739  0.696087   0.248539         670     801  \n",
              "2  0.196364  0.189405  0.437273   0.248309        1229    1349  \n",
              "3  0.200000  0.212122  0.590435   0.160296        1454    1562  \n",
              "4  0.226957  0.229270  0.436957   0.186900        1518    1600  "
            ],
            "text/html": [
              "\n",
              "\n",
              "  <div id=\"df-0eb1e914-f850-4af5-b87a-cb85a4fea776\">\n",
              "    <div class=\"colab-df-container\">\n",
              "      <div>\n",
              "<style scoped>\n",
              "    .dataframe tbody tr th:only-of-type {\n",
              "        vertical-align: middle;\n",
              "    }\n",
              "\n",
              "    .dataframe tbody tr th {\n",
              "        vertical-align: top;\n",
              "    }\n",
              "\n",
              "    .dataframe thead th {\n",
              "        text-align: right;\n",
              "    }\n",
              "</style>\n",
              "<table border=\"1\" class=\"dataframe\">\n",
              "  <thead>\n",
              "    <tr style=\"text-align: right;\">\n",
              "      <th></th>\n",
              "      <th>date</th>\n",
              "      <th>season</th>\n",
              "      <th>year</th>\n",
              "      <th>month</th>\n",
              "      <th>holiday</th>\n",
              "      <th>weekday</th>\n",
              "      <th>workingday</th>\n",
              "      <th>weather</th>\n",
              "      <th>temp</th>\n",
              "      <th>atemp</th>\n",
              "      <th>humidity</th>\n",
              "      <th>windspeed</th>\n",
              "      <th>registered</th>\n",
              "      <th>Target</th>\n",
              "    </tr>\n",
              "  </thead>\n",
              "  <tbody>\n",
              "    <tr>\n",
              "      <th>0</th>\n",
              "      <td>2011-01-01</td>\n",
              "      <td>1</td>\n",
              "      <td>0</td>\n",
              "      <td>1</td>\n",
              "      <td>0</td>\n",
              "      <td>6</td>\n",
              "      <td>0</td>\n",
              "      <td>2</td>\n",
              "      <td>0.344167</td>\n",
              "      <td>0.363625</td>\n",
              "      <td>0.805833</td>\n",
              "      <td>0.160446</td>\n",
              "      <td>654</td>\n",
              "      <td>985</td>\n",
              "    </tr>\n",
              "    <tr>\n",
              "      <th>1</th>\n",
              "      <td>2011-01-02</td>\n",
              "      <td>1</td>\n",
              "      <td>0</td>\n",
              "      <td>1</td>\n",
              "      <td>0</td>\n",
              "      <td>0</td>\n",
              "      <td>0</td>\n",
              "      <td>2</td>\n",
              "      <td>0.363478</td>\n",
              "      <td>0.353739</td>\n",
              "      <td>0.696087</td>\n",
              "      <td>0.248539</td>\n",
              "      <td>670</td>\n",
              "      <td>801</td>\n",
              "    </tr>\n",
              "    <tr>\n",
              "      <th>2</th>\n",
              "      <td>2011-01-03</td>\n",
              "      <td>1</td>\n",
              "      <td>0</td>\n",
              "      <td>1</td>\n",
              "      <td>0</td>\n",
              "      <td>1</td>\n",
              "      <td>1</td>\n",
              "      <td>1</td>\n",
              "      <td>0.196364</td>\n",
              "      <td>0.189405</td>\n",
              "      <td>0.437273</td>\n",
              "      <td>0.248309</td>\n",
              "      <td>1229</td>\n",
              "      <td>1349</td>\n",
              "    </tr>\n",
              "    <tr>\n",
              "      <th>3</th>\n",
              "      <td>2011-01-04</td>\n",
              "      <td>1</td>\n",
              "      <td>0</td>\n",
              "      <td>1</td>\n",
              "      <td>0</td>\n",
              "      <td>2</td>\n",
              "      <td>1</td>\n",
              "      <td>1</td>\n",
              "      <td>0.200000</td>\n",
              "      <td>0.212122</td>\n",
              "      <td>0.590435</td>\n",
              "      <td>0.160296</td>\n",
              "      <td>1454</td>\n",
              "      <td>1562</td>\n",
              "    </tr>\n",
              "    <tr>\n",
              "      <th>4</th>\n",
              "      <td>2011-01-05</td>\n",
              "      <td>1</td>\n",
              "      <td>0</td>\n",
              "      <td>1</td>\n",
              "      <td>0</td>\n",
              "      <td>3</td>\n",
              "      <td>1</td>\n",
              "      <td>1</td>\n",
              "      <td>0.226957</td>\n",
              "      <td>0.229270</td>\n",
              "      <td>0.436957</td>\n",
              "      <td>0.186900</td>\n",
              "      <td>1518</td>\n",
              "      <td>1600</td>\n",
              "    </tr>\n",
              "  </tbody>\n",
              "</table>\n",
              "</div>\n",
              "      <button class=\"colab-df-convert\" onclick=\"convertToInteractive('df-0eb1e914-f850-4af5-b87a-cb85a4fea776')\"\n",
              "              title=\"Convert this dataframe to an interactive table.\"\n",
              "              style=\"display:none;\">\n",
              "\n",
              "  <svg xmlns=\"http://www.w3.org/2000/svg\" height=\"24px\"viewBox=\"0 0 24 24\"\n",
              "       width=\"24px\">\n",
              "    <path d=\"M0 0h24v24H0V0z\" fill=\"none\"/>\n",
              "    <path d=\"M18.56 5.44l.94 2.06.94-2.06 2.06-.94-2.06-.94-.94-2.06-.94 2.06-2.06.94zm-11 1L8.5 8.5l.94-2.06 2.06-.94-2.06-.94L8.5 2.5l-.94 2.06-2.06.94zm10 10l.94 2.06.94-2.06 2.06-.94-2.06-.94-.94-2.06-.94 2.06-2.06.94z\"/><path d=\"M17.41 7.96l-1.37-1.37c-.4-.4-.92-.59-1.43-.59-.52 0-1.04.2-1.43.59L10.3 9.45l-7.72 7.72c-.78.78-.78 2.05 0 2.83L4 21.41c.39.39.9.59 1.41.59.51 0 1.02-.2 1.41-.59l7.78-7.78 2.81-2.81c.8-.78.8-2.07 0-2.86zM5.41 20L4 18.59l7.72-7.72 1.47 1.35L5.41 20z\"/>\n",
              "  </svg>\n",
              "      </button>\n",
              "\n",
              "\n",
              "\n",
              "    <div id=\"df-f4132e03-f75c-40cd-919b-f553a590f53c\">\n",
              "      <button class=\"colab-df-quickchart\" onclick=\"quickchart('df-f4132e03-f75c-40cd-919b-f553a590f53c')\"\n",
              "              title=\"Suggest charts.\"\n",
              "              style=\"display:none;\">\n",
              "\n",
              "<svg xmlns=\"http://www.w3.org/2000/svg\" height=\"24px\"viewBox=\"0 0 24 24\"\n",
              "     width=\"24px\">\n",
              "    <g>\n",
              "        <path d=\"M19 3H5c-1.1 0-2 .9-2 2v14c0 1.1.9 2 2 2h14c1.1 0 2-.9 2-2V5c0-1.1-.9-2-2-2zM9 17H7v-7h2v7zm4 0h-2V7h2v10zm4 0h-2v-4h2v4z\"/>\n",
              "    </g>\n",
              "</svg>\n",
              "      </button>\n",
              "    </div>\n",
              "\n",
              "<style>\n",
              "  .colab-df-quickchart {\n",
              "    background-color: #E8F0FE;\n",
              "    border: none;\n",
              "    border-radius: 50%;\n",
              "    cursor: pointer;\n",
              "    display: none;\n",
              "    fill: #1967D2;\n",
              "    height: 32px;\n",
              "    padding: 0 0 0 0;\n",
              "    width: 32px;\n",
              "  }\n",
              "\n",
              "  .colab-df-quickchart:hover {\n",
              "    background-color: #E2EBFA;\n",
              "    box-shadow: 0px 1px 2px rgba(60, 64, 67, 0.3), 0px 1px 3px 1px rgba(60, 64, 67, 0.15);\n",
              "    fill: #174EA6;\n",
              "  }\n",
              "\n",
              "  [theme=dark] .colab-df-quickchart {\n",
              "    background-color: #3B4455;\n",
              "    fill: #D2E3FC;\n",
              "  }\n",
              "\n",
              "  [theme=dark] .colab-df-quickchart:hover {\n",
              "    background-color: #434B5C;\n",
              "    box-shadow: 0px 1px 3px 1px rgba(0, 0, 0, 0.15);\n",
              "    filter: drop-shadow(0px 1px 2px rgba(0, 0, 0, 0.3));\n",
              "    fill: #FFFFFF;\n",
              "  }\n",
              "</style>\n",
              "\n",
              "    <script>\n",
              "      async function quickchart(key) {\n",
              "        const containerElement = document.querySelector('#' + key);\n",
              "        const charts = await google.colab.kernel.invokeFunction(\n",
              "            'suggestCharts', [key], {});\n",
              "      }\n",
              "    </script>\n",
              "\n",
              "      <script>\n",
              "\n",
              "function displayQuickchartButton(domScope) {\n",
              "  let quickchartButtonEl =\n",
              "    domScope.querySelector('#df-f4132e03-f75c-40cd-919b-f553a590f53c button.colab-df-quickchart');\n",
              "  quickchartButtonEl.style.display =\n",
              "    google.colab.kernel.accessAllowed ? 'block' : 'none';\n",
              "}\n",
              "\n",
              "        displayQuickchartButton(document);\n",
              "      </script>\n",
              "      <style>\n",
              "    .colab-df-container {\n",
              "      display:flex;\n",
              "      flex-wrap:wrap;\n",
              "      gap: 12px;\n",
              "    }\n",
              "\n",
              "    .colab-df-convert {\n",
              "      background-color: #E8F0FE;\n",
              "      border: none;\n",
              "      border-radius: 50%;\n",
              "      cursor: pointer;\n",
              "      display: none;\n",
              "      fill: #1967D2;\n",
              "      height: 32px;\n",
              "      padding: 0 0 0 0;\n",
              "      width: 32px;\n",
              "    }\n",
              "\n",
              "    .colab-df-convert:hover {\n",
              "      background-color: #E2EBFA;\n",
              "      box-shadow: 0px 1px 2px rgba(60, 64, 67, 0.3), 0px 1px 3px 1px rgba(60, 64, 67, 0.15);\n",
              "      fill: #174EA6;\n",
              "    }\n",
              "\n",
              "    [theme=dark] .colab-df-convert {\n",
              "      background-color: #3B4455;\n",
              "      fill: #D2E3FC;\n",
              "    }\n",
              "\n",
              "    [theme=dark] .colab-df-convert:hover {\n",
              "      background-color: #434B5C;\n",
              "      box-shadow: 0px 1px 3px 1px rgba(0, 0, 0, 0.15);\n",
              "      filter: drop-shadow(0px 1px 2px rgba(0, 0, 0, 0.3));\n",
              "      fill: #FFFFFF;\n",
              "    }\n",
              "  </style>\n",
              "\n",
              "      <script>\n",
              "        const buttonEl =\n",
              "          document.querySelector('#df-0eb1e914-f850-4af5-b87a-cb85a4fea776 button.colab-df-convert');\n",
              "        buttonEl.style.display =\n",
              "          google.colab.kernel.accessAllowed ? 'block' : 'none';\n",
              "\n",
              "        async function convertToInteractive(key) {\n",
              "          const element = document.querySelector('#df-0eb1e914-f850-4af5-b87a-cb85a4fea776');\n",
              "          const dataTable =\n",
              "            await google.colab.kernel.invokeFunction('convertToInteractive',\n",
              "                                                     [key], {});\n",
              "          if (!dataTable) return;\n",
              "\n",
              "          const docLinkHtml = 'Like what you see? Visit the ' +\n",
              "            '<a target=\"_blank\" href=https://colab.research.google.com/notebooks/data_table.ipynb>data table notebook</a>'\n",
              "            + ' to learn more about interactive tables.';\n",
              "          element.innerHTML = '';\n",
              "          dataTable['output_type'] = 'display_data';\n",
              "          await google.colab.output.renderOutput(dataTable, element);\n",
              "          const docLink = document.createElement('div');\n",
              "          docLink.innerHTML = docLinkHtml;\n",
              "          element.appendChild(docLink);\n",
              "        }\n",
              "      </script>\n",
              "    </div>\n",
              "  </div>\n"
            ]
          },
          "metadata": {},
          "execution_count": 4
        }
      ],
      "source": [
        "data_bikes.head()"
      ]
    },
    {
      "cell_type": "code",
      "execution_count": null,
      "metadata": {
        "id": "ou_XrxP6AMWB",
        "outputId": "d675a57a-59e6-4778-9a33-67dc8d6ec6dd",
        "colab": {
          "base_uri": "https://localhost:8080/"
        }
      },
      "outputs": [
        {
          "output_type": "stream",
          "name": "stdout",
          "text": [
            "<class 'pandas.core.frame.DataFrame'>\n",
            "RangeIndex: 731 entries, 0 to 730\n",
            "Data columns (total 14 columns):\n",
            " #   Column      Non-Null Count  Dtype  \n",
            "---  ------      --------------  -----  \n",
            " 0   date        731 non-null    object \n",
            " 1   season      731 non-null    int64  \n",
            " 2   year        731 non-null    int64  \n",
            " 3   month       731 non-null    int64  \n",
            " 4   holiday     731 non-null    int64  \n",
            " 5   weekday     731 non-null    int64  \n",
            " 6   workingday  731 non-null    int64  \n",
            " 7   weather     731 non-null    int64  \n",
            " 8   temp        731 non-null    float64\n",
            " 9   atemp       731 non-null    float64\n",
            " 10  humidity    731 non-null    float64\n",
            " 11  windspeed   731 non-null    float64\n",
            " 12  registered  731 non-null    int64  \n",
            " 13  Target      731 non-null    int64  \n",
            "dtypes: float64(4), int64(9), object(1)\n",
            "memory usage: 80.1+ KB\n"
          ]
        }
      ],
      "source": [
        "data_bikes.info()"
      ]
    },
    {
      "cell_type": "code",
      "execution_count": null,
      "metadata": {
        "id": "ViCeQWCsAMWC"
      },
      "outputs": [],
      "source": [
        "# Transforme las variables temp y atemp a grados celsius.\n",
        "def transform_temp(temp):\n",
        "    return 47 * temp - 8\n",
        "\n",
        "def transform_atemp(atemp):\n",
        "    return 66 * atemp - 16\n",
        "\n",
        "data_bikes['temp'] = transform_temp(data_bikes['temp'])\n",
        "data_bikes['atemp'] = transform_atemp(data_bikes['atemp'])\n"
      ]
    },
    {
      "cell_type": "code",
      "execution_count": null,
      "metadata": {
        "id": "hFVBTRA_AMWC"
      },
      "outputs": [],
      "source": [
        "# Multiplicar la columna 'humedad' por 100 para convertir a porcentaje\n",
        "data_bikes['humidity'] = data_bikes['humidity'] * 100\n"
      ]
    },
    {
      "cell_type": "code",
      "execution_count": null,
      "metadata": {
        "id": "6QtgRIKcAMWC"
      },
      "outputs": [],
      "source": [
        "#Transforme la velocidad del viento a millas por hora\n",
        "data_bikes['windspeed'] = data_bikes['windspeed'] * 67"
      ]
    },
    {
      "cell_type": "code",
      "execution_count": null,
      "metadata": {
        "id": "D7RlTuRoAMWD",
        "outputId": "a926f4c6-ce88-4576-e1d7-c2bffada8f1f",
        "colab": {
          "base_uri": "https://localhost:8080/",
          "height": 443
        }
      },
      "outputs": [
        {
          "output_type": "execute_result",
          "data": {
            "text/plain": [
              "         date  season  year  month  holiday  weekday  workingday  weather  \\\n",
              "0  2011-01-01       1     0      1        0        6           0        2   \n",
              "1  2011-01-02       1     0      1        0        0           0        2   \n",
              "2  2011-01-03       1     0      1        0        1           1        1   \n",
              "3  2011-01-04       1     0      1        0        2           1        1   \n",
              "4  2011-01-05       1     0      1        0        3           1        1   \n",
              "\n",
              "       temp     atemp  humidity  windspeed  registered  Target  \n",
              "0  8.175849  7.999250   80.5833  10.749882         654     985  \n",
              "1  9.083466  7.346774   69.6087  16.652113         670     801  \n",
              "2  1.229108 -3.499270   43.7273  16.636703        1229    1349  \n",
              "3  1.400000 -1.999948   59.0435  10.739832        1454    1562  \n",
              "4  2.666979 -0.868180   43.6957  12.522300        1518    1600  "
            ],
            "text/html": [
              "\n",
              "\n",
              "  <div id=\"df-e7cca14d-7fed-4e12-bde4-c7c61676f0d4\">\n",
              "    <div class=\"colab-df-container\">\n",
              "      <div>\n",
              "<style scoped>\n",
              "    .dataframe tbody tr th:only-of-type {\n",
              "        vertical-align: middle;\n",
              "    }\n",
              "\n",
              "    .dataframe tbody tr th {\n",
              "        vertical-align: top;\n",
              "    }\n",
              "\n",
              "    .dataframe thead th {\n",
              "        text-align: right;\n",
              "    }\n",
              "</style>\n",
              "<table border=\"1\" class=\"dataframe\">\n",
              "  <thead>\n",
              "    <tr style=\"text-align: right;\">\n",
              "      <th></th>\n",
              "      <th>date</th>\n",
              "      <th>season</th>\n",
              "      <th>year</th>\n",
              "      <th>month</th>\n",
              "      <th>holiday</th>\n",
              "      <th>weekday</th>\n",
              "      <th>workingday</th>\n",
              "      <th>weather</th>\n",
              "      <th>temp</th>\n",
              "      <th>atemp</th>\n",
              "      <th>humidity</th>\n",
              "      <th>windspeed</th>\n",
              "      <th>registered</th>\n",
              "      <th>Target</th>\n",
              "    </tr>\n",
              "  </thead>\n",
              "  <tbody>\n",
              "    <tr>\n",
              "      <th>0</th>\n",
              "      <td>2011-01-01</td>\n",
              "      <td>1</td>\n",
              "      <td>0</td>\n",
              "      <td>1</td>\n",
              "      <td>0</td>\n",
              "      <td>6</td>\n",
              "      <td>0</td>\n",
              "      <td>2</td>\n",
              "      <td>8.175849</td>\n",
              "      <td>7.999250</td>\n",
              "      <td>80.5833</td>\n",
              "      <td>10.749882</td>\n",
              "      <td>654</td>\n",
              "      <td>985</td>\n",
              "    </tr>\n",
              "    <tr>\n",
              "      <th>1</th>\n",
              "      <td>2011-01-02</td>\n",
              "      <td>1</td>\n",
              "      <td>0</td>\n",
              "      <td>1</td>\n",
              "      <td>0</td>\n",
              "      <td>0</td>\n",
              "      <td>0</td>\n",
              "      <td>2</td>\n",
              "      <td>9.083466</td>\n",
              "      <td>7.346774</td>\n",
              "      <td>69.6087</td>\n",
              "      <td>16.652113</td>\n",
              "      <td>670</td>\n",
              "      <td>801</td>\n",
              "    </tr>\n",
              "    <tr>\n",
              "      <th>2</th>\n",
              "      <td>2011-01-03</td>\n",
              "      <td>1</td>\n",
              "      <td>0</td>\n",
              "      <td>1</td>\n",
              "      <td>0</td>\n",
              "      <td>1</td>\n",
              "      <td>1</td>\n",
              "      <td>1</td>\n",
              "      <td>1.229108</td>\n",
              "      <td>-3.499270</td>\n",
              "      <td>43.7273</td>\n",
              "      <td>16.636703</td>\n",
              "      <td>1229</td>\n",
              "      <td>1349</td>\n",
              "    </tr>\n",
              "    <tr>\n",
              "      <th>3</th>\n",
              "      <td>2011-01-04</td>\n",
              "      <td>1</td>\n",
              "      <td>0</td>\n",
              "      <td>1</td>\n",
              "      <td>0</td>\n",
              "      <td>2</td>\n",
              "      <td>1</td>\n",
              "      <td>1</td>\n",
              "      <td>1.400000</td>\n",
              "      <td>-1.999948</td>\n",
              "      <td>59.0435</td>\n",
              "      <td>10.739832</td>\n",
              "      <td>1454</td>\n",
              "      <td>1562</td>\n",
              "    </tr>\n",
              "    <tr>\n",
              "      <th>4</th>\n",
              "      <td>2011-01-05</td>\n",
              "      <td>1</td>\n",
              "      <td>0</td>\n",
              "      <td>1</td>\n",
              "      <td>0</td>\n",
              "      <td>3</td>\n",
              "      <td>1</td>\n",
              "      <td>1</td>\n",
              "      <td>2.666979</td>\n",
              "      <td>-0.868180</td>\n",
              "      <td>43.6957</td>\n",
              "      <td>12.522300</td>\n",
              "      <td>1518</td>\n",
              "      <td>1600</td>\n",
              "    </tr>\n",
              "  </tbody>\n",
              "</table>\n",
              "</div>\n",
              "      <button class=\"colab-df-convert\" onclick=\"convertToInteractive('df-e7cca14d-7fed-4e12-bde4-c7c61676f0d4')\"\n",
              "              title=\"Convert this dataframe to an interactive table.\"\n",
              "              style=\"display:none;\">\n",
              "\n",
              "  <svg xmlns=\"http://www.w3.org/2000/svg\" height=\"24px\"viewBox=\"0 0 24 24\"\n",
              "       width=\"24px\">\n",
              "    <path d=\"M0 0h24v24H0V0z\" fill=\"none\"/>\n",
              "    <path d=\"M18.56 5.44l.94 2.06.94-2.06 2.06-.94-2.06-.94-.94-2.06-.94 2.06-2.06.94zm-11 1L8.5 8.5l.94-2.06 2.06-.94-2.06-.94L8.5 2.5l-.94 2.06-2.06.94zm10 10l.94 2.06.94-2.06 2.06-.94-2.06-.94-.94-2.06-.94 2.06-2.06.94z\"/><path d=\"M17.41 7.96l-1.37-1.37c-.4-.4-.92-.59-1.43-.59-.52 0-1.04.2-1.43.59L10.3 9.45l-7.72 7.72c-.78.78-.78 2.05 0 2.83L4 21.41c.39.39.9.59 1.41.59.51 0 1.02-.2 1.41-.59l7.78-7.78 2.81-2.81c.8-.78.8-2.07 0-2.86zM5.41 20L4 18.59l7.72-7.72 1.47 1.35L5.41 20z\"/>\n",
              "  </svg>\n",
              "      </button>\n",
              "\n",
              "\n",
              "\n",
              "    <div id=\"df-71db75a1-0115-46fb-b5f0-fe3c16ec6508\">\n",
              "      <button class=\"colab-df-quickchart\" onclick=\"quickchart('df-71db75a1-0115-46fb-b5f0-fe3c16ec6508')\"\n",
              "              title=\"Suggest charts.\"\n",
              "              style=\"display:none;\">\n",
              "\n",
              "<svg xmlns=\"http://www.w3.org/2000/svg\" height=\"24px\"viewBox=\"0 0 24 24\"\n",
              "     width=\"24px\">\n",
              "    <g>\n",
              "        <path d=\"M19 3H5c-1.1 0-2 .9-2 2v14c0 1.1.9 2 2 2h14c1.1 0 2-.9 2-2V5c0-1.1-.9-2-2-2zM9 17H7v-7h2v7zm4 0h-2V7h2v10zm4 0h-2v-4h2v4z\"/>\n",
              "    </g>\n",
              "</svg>\n",
              "      </button>\n",
              "    </div>\n",
              "\n",
              "<style>\n",
              "  .colab-df-quickchart {\n",
              "    background-color: #E8F0FE;\n",
              "    border: none;\n",
              "    border-radius: 50%;\n",
              "    cursor: pointer;\n",
              "    display: none;\n",
              "    fill: #1967D2;\n",
              "    height: 32px;\n",
              "    padding: 0 0 0 0;\n",
              "    width: 32px;\n",
              "  }\n",
              "\n",
              "  .colab-df-quickchart:hover {\n",
              "    background-color: #E2EBFA;\n",
              "    box-shadow: 0px 1px 2px rgba(60, 64, 67, 0.3), 0px 1px 3px 1px rgba(60, 64, 67, 0.15);\n",
              "    fill: #174EA6;\n",
              "  }\n",
              "\n",
              "  [theme=dark] .colab-df-quickchart {\n",
              "    background-color: #3B4455;\n",
              "    fill: #D2E3FC;\n",
              "  }\n",
              "\n",
              "  [theme=dark] .colab-df-quickchart:hover {\n",
              "    background-color: #434B5C;\n",
              "    box-shadow: 0px 1px 3px 1px rgba(0, 0, 0, 0.15);\n",
              "    filter: drop-shadow(0px 1px 2px rgba(0, 0, 0, 0.3));\n",
              "    fill: #FFFFFF;\n",
              "  }\n",
              "</style>\n",
              "\n",
              "    <script>\n",
              "      async function quickchart(key) {\n",
              "        const containerElement = document.querySelector('#' + key);\n",
              "        const charts = await google.colab.kernel.invokeFunction(\n",
              "            'suggestCharts', [key], {});\n",
              "      }\n",
              "    </script>\n",
              "\n",
              "      <script>\n",
              "\n",
              "function displayQuickchartButton(domScope) {\n",
              "  let quickchartButtonEl =\n",
              "    domScope.querySelector('#df-71db75a1-0115-46fb-b5f0-fe3c16ec6508 button.colab-df-quickchart');\n",
              "  quickchartButtonEl.style.display =\n",
              "    google.colab.kernel.accessAllowed ? 'block' : 'none';\n",
              "}\n",
              "\n",
              "        displayQuickchartButton(document);\n",
              "      </script>\n",
              "      <style>\n",
              "    .colab-df-container {\n",
              "      display:flex;\n",
              "      flex-wrap:wrap;\n",
              "      gap: 12px;\n",
              "    }\n",
              "\n",
              "    .colab-df-convert {\n",
              "      background-color: #E8F0FE;\n",
              "      border: none;\n",
              "      border-radius: 50%;\n",
              "      cursor: pointer;\n",
              "      display: none;\n",
              "      fill: #1967D2;\n",
              "      height: 32px;\n",
              "      padding: 0 0 0 0;\n",
              "      width: 32px;\n",
              "    }\n",
              "\n",
              "    .colab-df-convert:hover {\n",
              "      background-color: #E2EBFA;\n",
              "      box-shadow: 0px 1px 2px rgba(60, 64, 67, 0.3), 0px 1px 3px 1px rgba(60, 64, 67, 0.15);\n",
              "      fill: #174EA6;\n",
              "    }\n",
              "\n",
              "    [theme=dark] .colab-df-convert {\n",
              "      background-color: #3B4455;\n",
              "      fill: #D2E3FC;\n",
              "    }\n",
              "\n",
              "    [theme=dark] .colab-df-convert:hover {\n",
              "      background-color: #434B5C;\n",
              "      box-shadow: 0px 1px 3px 1px rgba(0, 0, 0, 0.15);\n",
              "      filter: drop-shadow(0px 1px 2px rgba(0, 0, 0, 0.3));\n",
              "      fill: #FFFFFF;\n",
              "    }\n",
              "  </style>\n",
              "\n",
              "      <script>\n",
              "        const buttonEl =\n",
              "          document.querySelector('#df-e7cca14d-7fed-4e12-bde4-c7c61676f0d4 button.colab-df-convert');\n",
              "        buttonEl.style.display =\n",
              "          google.colab.kernel.accessAllowed ? 'block' : 'none';\n",
              "\n",
              "        async function convertToInteractive(key) {\n",
              "          const element = document.querySelector('#df-e7cca14d-7fed-4e12-bde4-c7c61676f0d4');\n",
              "          const dataTable =\n",
              "            await google.colab.kernel.invokeFunction('convertToInteractive',\n",
              "                                                     [key], {});\n",
              "          if (!dataTable) return;\n",
              "\n",
              "          const docLinkHtml = 'Like what you see? Visit the ' +\n",
              "            '<a target=\"_blank\" href=https://colab.research.google.com/notebooks/data_table.ipynb>data table notebook</a>'\n",
              "            + ' to learn more about interactive tables.';\n",
              "          element.innerHTML = '';\n",
              "          dataTable['output_type'] = 'display_data';\n",
              "          await google.colab.output.renderOutput(dataTable, element);\n",
              "          const docLink = document.createElement('div');\n",
              "          docLink.innerHTML = docLinkHtml;\n",
              "          element.appendChild(docLink);\n",
              "        }\n",
              "      </script>\n",
              "    </div>\n",
              "  </div>\n"
            ]
          },
          "metadata": {},
          "execution_count": 9
        }
      ],
      "source": [
        "data_bikes.head()"
      ]
    },
    {
      "cell_type": "markdown",
      "metadata": {
        "id": "MAQ8lIg0AMWD"
      },
      "source": [
        "### Pregunta 2\n",
        "Realice un gráfico del número de arriendos de bicicletas vs temperatura, además, añada una curva de regresión lineal. ¿Cuál es la relación entre el número de arriendos con la temperatura?"
      ]
    },
    {
      "cell_type": "code",
      "execution_count": null,
      "metadata": {
        "id": "QOWr8M8_AMWD"
      },
      "outputs": [],
      "source": [
        "import matplotlib.pyplot as plt\n",
        "from sklearn.linear_model import LinearRegression"
      ]
    },
    {
      "cell_type": "code",
      "execution_count": null,
      "metadata": {
        "id": "0C-aVVIyAMWD",
        "outputId": "0842f036-99d8-4633-d377-c6776435730d",
        "colab": {
          "base_uri": "https://localhost:8080/",
          "height": 546
        }
      },
      "outputs": [
        {
          "output_type": "display_data",
          "data": {
            "text/plain": [
              "<Figure size 1000x600 with 0 Axes>"
            ]
          },
          "metadata": {}
        },
        {
          "output_type": "display_data",
          "data": {
            "text/plain": [
              "<Figure size 500x500 with 1 Axes>"
            ],
            "image/png": "[encoded data removed]"
          },
          "metadata": {}
        }
      ],
      "source": [
        "import seaborn as sns\n",
        "plt.figure(figsize=(10, 6))\n",
        "sns.lmplot(y = 'Target', x = 'temp', data = data_bikes, line_kws={'color': 'turquoise'})\n",
        "plt.xlabel('Temperatura (Celsius)')\n",
        "plt.ylabel('Número de arriendos de bicicletas')\n",
        "plt.title('Número de arriendos vs Temperatura con Regresión Lineal')\n",
        "plt.grid(True)\n",
        "plt.show()\n"
      ]
    },
    {
      "cell_type": "markdown",
      "metadata": {
        "id": "WEZYUxubAMWD"
      },
      "source": [
        "Existe una correlacion directa entre el numero de arriendo de bicicletas y el aumento de la temperatura"
      ]
    },
    {
      "cell_type": "markdown",
      "metadata": {
        "id": "4Im_ZpKTAMWE"
      },
      "source": [
        "### Pregunta 3\n",
        "¿Es la relación entre la temperatura y el número de bicicletas arrendas igual en los dos años?, realice en un mismo gráfico la relación entre el número de arriendo vs temperatura para los dos años, añada las curvas de regresión lineal."
      ]
    },
    {
      "cell_type": "code",
      "execution_count": null,
      "metadata": {
        "id": "8FgCWNkvKdxD"
      },
      "outputs": [],
      "source": [
        "data_bikes['year'] = data_bikes['year'].astype('category')"
      ]
    },
    {
      "cell_type": "code",
      "execution_count": null,
      "metadata": {
        "id": "vzVc0__9AMWE",
        "outputId": "58bec445-e343-48ea-bb28-82e0f68e4c80"
      },
      "outputs": [
        {
          "data": {
            "image/png": "[encoded data removed]",
            "text/plain": [
              "<Figure size 585.5x500 with 1 Axes>"
            ]
          },
          "metadata": {},
          "output_type": "display_data"
        }
      ],
      "source": [
        "data_bikes['year'] = data_bikes['year'].map({0: '2020', 1: '2021'})\n",
        "\n",
        "# Definir una paleta de colores para los puntos\n",
        "custom_palette = {'2020': 'red', '2021': 'blue'}\n",
        "\n",
        "# Crear el gráfico de regresión lineal con colores personalizados\n",
        "sns.lmplot(y='Target', x='temp', hue='year', data=data_bikes, line_kws={'color':'blueviolet'}, palette=custom_palette)\n",
        "plt.xlabel('Temperatura (Celsius)')\n",
        "plt.ylabel('Número de arriendos de bicicletas')\n",
        "plt.title('Relación entre Número de Arriendos y Temperatura para 2020 y 2021')\n",
        "plt.grid(True)\n",
        "\n",
        "plt.show()"
      ]
    },
    {
      "cell_type": "markdown",
      "source": [
        "se observa que en los dos años analizados, existio una correlacion directa entre el numero de arriendo de bicicletas y el aumento de la temperaturea, siendo el año 2021 donde se arrendaron mas bicicletas."
      ],
      "metadata": {
        "id": "a20M9uEsOAML"
      }
    },
    {
      "cell_type": "markdown",
      "metadata": {
        "id": "8skfRlICAMWE"
      },
      "source": [
        "### Pregunta 4\n",
        "Por selección forward, construya un modelo sin considerar las variables\n",
        "*date\n",
        "*month\n",
        "*registered\n",
        "Interpreta el factor asociado a la Temperatura y días feriados."
      ]
    },
    {
      "cell_type": "code",
      "execution_count": null,
      "metadata": {
        "id": "4I3QZkzsAMWE",
        "outputId": "4306d92b-59d5-4669-d1f2-959351f792dc"
      },
      "outputs": [
        {
          "name": "stdout",
          "output_type": "stream",
          "text": [
            "Requirement already satisfied: statsmodels in c:\\users\\camil\\miniconda3\\envs\\default\\lib\\site-packages (0.14.0)\n",
            "Requirement already satisfied: packaging>=21.3 in c:\\users\\camil\\miniconda3\\envs\\default\\lib\\site-packages (from statsmodels) (23.0)\n",
            "Requirement already satisfied: scipy!=1.9.2,>=1.4 in c:\\users\\camil\\miniconda3\\envs\\default\\lib\\site-packages (from statsmodels) (1.10.1)\n",
            "Requirement already satisfied: pandas>=1.0 in c:\\users\\camil\\miniconda3\\envs\\default\\lib\\site-packages (from statsmodels) (1.5.3)\n",
            "Requirement already satisfied: patsy>=0.5.2 in c:\\users\\camil\\miniconda3\\envs\\default\\lib\\site-packages (from statsmodels) (0.5.3)\n",
            "Requirement already satisfied: numpy>=1.18 in c:\\users\\camil\\miniconda3\\envs\\default\\lib\\site-packages (from statsmodels) (1.24.3)\n",
            "Requirement already satisfied: pytz>=2020.1 in c:\\users\\camil\\miniconda3\\envs\\default\\lib\\site-packages (from pandas>=1.0->statsmodels) (2022.7)\n",
            "Requirement already satisfied: python-dateutil>=2.8.1 in c:\\users\\camil\\miniconda3\\envs\\default\\lib\\site-packages (from pandas>=1.0->statsmodels) (2.8.2)\n",
            "Requirement already satisfied: six in c:\\users\\camil\\miniconda3\\envs\\default\\lib\\site-packages (from patsy>=0.5.2->statsmodels) (1.16.0)\n",
            "Note: you may need to restart the kernel to use updated packages.\n"
          ]
        }
      ],
      "source": [
        "%pip install statsmodels"
      ]
    },
    {
      "cell_type": "code",
      "execution_count": null,
      "metadata": {
        "id": "8h1mgQSHAMWE"
      },
      "outputs": [],
      "source": [
        "import statsmodels.api as sm"
      ]
    },
    {
      "cell_type": "code",
      "execution_count": null,
      "metadata": {
        "id": "7fjZKxMxAMWH",
        "outputId": "30563423-aaae-4e2b-fcf7-33dcd9737ec5"
      },
      "outputs": [
        {
          "data": {
            "text/html": [
              "<div>\n",
              "<style scoped>\n",
              "    .dataframe tbody tr th:only-of-type {\n",
              "        vertical-align: middle;\n",
              "    }\n",
              "\n",
              "    .dataframe tbody tr th {\n",
              "        vertical-align: top;\n",
              "    }\n",
              "\n",
              "    .dataframe thead th {\n",
              "        text-align: right;\n",
              "    }\n",
              "</style>\n",
              "<table border=\"1\" class=\"dataframe\">\n",
              "  <thead>\n",
              "    <tr style=\"text-align: right;\">\n",
              "      <th></th>\n",
              "      <th>season</th>\n",
              "      <th>year</th>\n",
              "      <th>holiday</th>\n",
              "      <th>weekday</th>\n",
              "      <th>workingday</th>\n",
              "      <th>weather</th>\n",
              "      <th>temp</th>\n",
              "      <th>atemp</th>\n",
              "      <th>humidity</th>\n",
              "      <th>windspeed</th>\n",
              "      <th>Target</th>\n",
              "    </tr>\n",
              "  </thead>\n",
              "  <tbody>\n",
              "    <tr>\n",
              "      <th>0</th>\n",
              "      <td>1</td>\n",
              "      <td>2020</td>\n",
              "      <td>0</td>\n",
              "      <td>6</td>\n",
              "      <td>0</td>\n",
              "      <td>2</td>\n",
              "      <td>8.175849</td>\n",
              "      <td>7.999250</td>\n",
              "      <td>80.5833</td>\n",
              "      <td>10.749882</td>\n",
              "      <td>985</td>\n",
              "    </tr>\n",
              "    <tr>\n",
              "      <th>1</th>\n",
              "      <td>1</td>\n",
              "      <td>2020</td>\n",
              "      <td>0</td>\n",
              "      <td>0</td>\n",
              "      <td>0</td>\n",
              "      <td>2</td>\n",
              "      <td>9.083466</td>\n",
              "      <td>7.346774</td>\n",
              "      <td>69.6087</td>\n",
              "      <td>16.652113</td>\n",
              "      <td>801</td>\n",
              "    </tr>\n",
              "    <tr>\n",
              "      <th>2</th>\n",
              "      <td>1</td>\n",
              "      <td>2020</td>\n",
              "      <td>0</td>\n",
              "      <td>1</td>\n",
              "      <td>1</td>\n",
              "      <td>1</td>\n",
              "      <td>1.229108</td>\n",
              "      <td>-3.499270</td>\n",
              "      <td>43.7273</td>\n",
              "      <td>16.636703</td>\n",
              "      <td>1349</td>\n",
              "    </tr>\n",
              "    <tr>\n",
              "      <th>3</th>\n",
              "      <td>1</td>\n",
              "      <td>2020</td>\n",
              "      <td>0</td>\n",
              "      <td>2</td>\n",
              "      <td>1</td>\n",
              "      <td>1</td>\n",
              "      <td>1.400000</td>\n",
              "      <td>-1.999948</td>\n",
              "      <td>59.0435</td>\n",
              "      <td>10.739832</td>\n",
              "      <td>1562</td>\n",
              "    </tr>\n",
              "    <tr>\n",
              "      <th>4</th>\n",
              "      <td>1</td>\n",
              "      <td>2020</td>\n",
              "      <td>0</td>\n",
              "      <td>3</td>\n",
              "      <td>1</td>\n",
              "      <td>1</td>\n",
              "      <td>2.666979</td>\n",
              "      <td>-0.868180</td>\n",
              "      <td>43.6957</td>\n",
              "      <td>12.522300</td>\n",
              "      <td>1600</td>\n",
              "    </tr>\n",
              "  </tbody>\n",
              "</table>\n",
              "</div>"
            ],
            "text/plain": [
              "   season  year  holiday  weekday  workingday  weather      temp     atemp  \\\n",
              "0       1  2020        0        6           0        2  8.175849  7.999250   \n",
              "1       1  2020        0        0           0        2  9.083466  7.346774   \n",
              "2       1  2020        0        1           1        1  1.229108 -3.499270   \n",
              "3       1  2020        0        2           1        1  1.400000 -1.999948   \n",
              "4       1  2020        0        3           1        1  2.666979 -0.868180   \n",
              "\n",
              "   humidity  windspeed  Target  \n",
              "0   80.5833  10.749882     985  \n",
              "1   69.6087  16.652113     801  \n",
              "2   43.7273  16.636703    1349  \n",
              "3   59.0435  10.739832    1562  \n",
              "4   43.6957  12.522300    1600  "
            ]
          },
          "execution_count": 30,
          "metadata": {},
          "output_type": "execute_result"
        }
      ],
      "source": [
        "df = data_bikes.drop(['date', 'registered', 'month'], axis=1)\n",
        "df.head()"
      ]
    },
    {
      "cell_type": "code",
      "execution_count": null,
      "metadata": {
        "id": "Oz6_XBBdAMWH"
      },
      "outputs": [],
      "source": [
        "import statsmodels.api as sm"
      ]
    },
    {
      "cell_type": "code",
      "execution_count": null,
      "metadata": {
        "id": "UYay9zS0AMWH"
      },
      "outputs": [],
      "source": [
        "# para obtener dummies pasamos las siguinetes variables categoricas\n",
        "columns_to_convert = ['season', 'holiday', 'weekday', 'workingday', 'weather']\n",
        "\n",
        "for column in columns_to_convert:\n",
        "    df[column] = df[column].astype('str')\n",
        "\n"
      ]
    },
    {
      "cell_type": "code",
      "execution_count": null,
      "metadata": {
        "id": "KBtDKIJbAMWH"
      },
      "outputs": [],
      "source": [
        "df= pd.get_dummies(df, drop_first = True, dtype = int)"
      ]
    },
    {
      "cell_type": "code",
      "execution_count": null,
      "metadata": {
        "id": "ySnPW7D6AMWH",
        "outputId": "5eae6588-78b8-430e-e0ec-7ce9e5d1ed41"
      },
      "outputs": [
        {
          "name": "stdout",
          "output_type": "stream",
          "text": [
            "<class 'pandas.core.frame.DataFrame'>\n",
            "RangeIndex: 731 entries, 0 to 730\n",
            "Data columns (total 19 columns):\n",
            " #   Column        Non-Null Count  Dtype  \n",
            "---  ------        --------------  -----  \n",
            " 0   temp          731 non-null    float64\n",
            " 1   atemp         731 non-null    float64\n",
            " 2   humidity      731 non-null    float64\n",
            " 3   windspeed     731 non-null    float64\n",
            " 4   Target        731 non-null    int64  \n",
            " 5   season_2      731 non-null    int32  \n",
            " 6   season_3      731 non-null    int32  \n",
            " 7   season_4      731 non-null    int32  \n",
            " 8   year_2021     731 non-null    int32  \n",
            " 9   holiday_1     731 non-null    int32  \n",
            " 10  weekday_1     731 non-null    int32  \n",
            " 11  weekday_2     731 non-null    int32  \n",
            " 12  weekday_3     731 non-null    int32  \n",
            " 13  weekday_4     731 non-null    int32  \n",
            " 14  weekday_5     731 non-null    int32  \n",
            " 15  weekday_6     731 non-null    int32  \n",
            " 16  workingday_1  731 non-null    int32  \n",
            " 17  weather_2     731 non-null    int32  \n",
            " 18  weather_3     731 non-null    int32  \n",
            "dtypes: float64(4), int32(14), int64(1)\n",
            "memory usage: 68.7 KB\n"
          ]
        }
      ],
      "source": [
        "df.info()"
      ]
    },
    {
      "cell_type": "code",
      "execution_count": null,
      "metadata": {
        "id": "QRzx9aYYKdxH"
      },
      "outputs": [],
      "source": [
        "# Extraer los datos para la regresión\n",
        "X = df.drop(['Target'], axis=1)  # Temperatura como variable independiente\n",
        "y = df['Target']  # Número de arriendos como variable dependiente\n",
        "\n",
        "# Crear y ajustar el modelo de regresión lineal\n",
        "regressor = LinearRegression()\n",
        "regressor.fit(X, y)\n",
        "\n",
        "# Predecir los valores de arriendos usando el modelo ajustado\n",
        "y_pred = regressor.predict(X)\n"
      ]
    },
    {
      "cell_type": "code",
      "execution_count": null,
      "metadata": {
        "id": "90UJAYrVAMWH"
      },
      "outputs": [],
      "source": [
        "X=sm.add_constant(X)"
      ]
    },
    {
      "cell_type": "code",
      "execution_count": null,
      "metadata": {
        "id": "PT8v0Z0UAMWI"
      },
      "outputs": [],
      "source": [
        "model= sm.OLS(y, X).fit()"
      ]
    },
    {
      "cell_type": "code",
      "execution_count": null,
      "metadata": {
        "id": "7z8GwJprAMWI",
        "outputId": "326be012-d818-4939-cb72-799239679a19"
      },
      "outputs": [
        {
          "data": {
            "text/html": [
              "<table class=\"simpletable\">\n",
              "<caption>OLS Regression Results</caption>\n",
              "<tr>\n",
              "  <th>Dep. Variable:</th>         <td>Target</td>      <th>  R-squared:         </th> <td>   0.828</td> \n",
              "</tr>\n",
              "<tr>\n",
              "  <th>Model:</th>                   <td>OLS</td>       <th>  Adj. R-squared:    </th> <td>   0.823</td> \n",
              "</tr>\n",
              "<tr>\n",
              "  <th>Method:</th>             <td>Least Squares</td>  <th>  F-statistic:       </th> <td>   201.3</td> \n",
              "</tr>\n",
              "<tr>\n",
              "  <th>Date:</th>             <td>Tue, 08 Aug 2023</td> <th>  Prob (F-statistic):</th> <td>1.97e-258</td>\n",
              "</tr>\n",
              "<tr>\n",
              "  <th>Time:</th>                 <td>22:33:47</td>     <th>  Log-Likelihood:    </th> <td> -5927.3</td> \n",
              "</tr>\n",
              "<tr>\n",
              "  <th>No. Observations:</th>      <td>   731</td>      <th>  AIC:               </th> <td>1.189e+04</td>\n",
              "</tr>\n",
              "<tr>\n",
              "  <th>Df Residuals:</th>          <td>   713</td>      <th>  BIC:               </th> <td>1.197e+04</td>\n",
              "</tr>\n",
              "<tr>\n",
              "  <th>Df Model:</th>              <td>    17</td>      <th>                     </th>     <td> </td>    \n",
              "</tr>\n",
              "<tr>\n",
              "  <th>Covariance Type:</th>      <td>nonrobust</td>    <th>                     </th>     <td> </td>    \n",
              "</tr>\n",
              "</table>\n",
              "<table class=\"simpletable\">\n",
              "<tr>\n",
              "        <td></td>          <th>coef</th>     <th>std err</th>      <th>t</th>      <th>P>|t|</th>  <th>[0.025</th>    <th>0.975]</th>  \n",
              "</tr>\n",
              "<tr>\n",
              "  <th>const</th>        <td> 2246.9384</td> <td>  240.702</td> <td>    9.335</td> <td> 0.000</td> <td> 1774.370</td> <td> 2719.507</td>\n",
              "</tr>\n",
              "<tr>\n",
              "  <th>temp</th>         <td>   84.2605</td> <td>   29.510</td> <td>    2.855</td> <td> 0.004</td> <td>   26.324</td> <td>  142.197</td>\n",
              "</tr>\n",
              "<tr>\n",
              "  <th>atemp</th>        <td>   19.1717</td> <td>   22.949</td> <td>    0.835</td> <td> 0.404</td> <td>  -25.883</td> <td>   64.227</td>\n",
              "</tr>\n",
              "<tr>\n",
              "  <th>humidity</th>     <td>  -12.3543</td> <td>    2.944</td> <td>   -4.196</td> <td> 0.000</td> <td>  -18.134</td> <td>   -6.574</td>\n",
              "</tr>\n",
              "<tr>\n",
              "  <th>windspeed</th>    <td>  -40.5147</td> <td>    6.437</td> <td>   -6.294</td> <td> 0.000</td> <td>  -53.152</td> <td>  -27.878</td>\n",
              "</tr>\n",
              "<tr>\n",
              "  <th>season_2</th>     <td> 1136.9785</td> <td>  112.493</td> <td>   10.107</td> <td> 0.000</td> <td>  916.121</td> <td> 1357.836</td>\n",
              "</tr>\n",
              "<tr>\n",
              "  <th>season_3</th>     <td>  854.4831</td> <td>  149.178</td> <td>    5.728</td> <td> 0.000</td> <td>  561.603</td> <td> 1147.363</td>\n",
              "</tr>\n",
              "<tr>\n",
              "  <th>season_4</th>     <td> 1538.9881</td> <td>   95.919</td> <td>   16.045</td> <td> 0.000</td> <td> 1350.671</td> <td> 1727.305</td>\n",
              "</tr>\n",
              "<tr>\n",
              "  <th>year_2021</th>    <td> 2017.7533</td> <td>   61.156</td> <td>   32.993</td> <td> 0.000</td> <td> 1897.685</td> <td> 2137.821</td>\n",
              "</tr>\n",
              "<tr>\n",
              "  <th>holiday_1</th>    <td> -320.6520</td> <td>  168.101</td> <td>   -1.907</td> <td> 0.057</td> <td> -650.684</td> <td>    9.380</td>\n",
              "</tr>\n",
              "<tr>\n",
              "  <th>weekday_1</th>    <td> -127.3514</td> <td>   75.589</td> <td>   -1.685</td> <td> 0.092</td> <td> -275.755</td> <td>   21.053</td>\n",
              "</tr>\n",
              "<tr>\n",
              "  <th>weekday_2</th>    <td>  -40.1262</td> <td>   81.587</td> <td>   -0.492</td> <td> 0.623</td> <td> -200.306</td> <td>  120.053</td>\n",
              "</tr>\n",
              "<tr>\n",
              "  <th>weekday_3</th>    <td>   30.8555</td> <td>   81.926</td> <td>    0.377</td> <td> 0.707</td> <td> -129.990</td> <td>  191.701</td>\n",
              "</tr>\n",
              "<tr>\n",
              "  <th>weekday_4</th>    <td>   53.2454</td> <td>   81.077</td> <td>    0.657</td> <td> 0.512</td> <td> -105.932</td> <td>  212.423</td>\n",
              "</tr>\n",
              "<tr>\n",
              "  <th>weekday_5</th>    <td>   98.3948</td> <td>   81.530</td> <td>    1.207</td> <td> 0.228</td> <td>  -61.672</td> <td>  258.462</td>\n",
              "</tr>\n",
              "<tr>\n",
              "  <th>weekday_6</th>    <td>  442.9183</td> <td>  112.695</td> <td>    3.930</td> <td> 0.000</td> <td>  221.665</td> <td>  664.171</td>\n",
              "</tr>\n",
              "<tr>\n",
              "  <th>workingday_1</th> <td>  335.6701</td> <td>   70.483</td> <td>    4.762</td> <td> 0.000</td> <td>  197.291</td> <td>  474.049</td>\n",
              "</tr>\n",
              "<tr>\n",
              "  <th>weather_2</th>    <td> -448.2993</td> <td>   80.783</td> <td>   -5.549</td> <td> 0.000</td> <td> -606.900</td> <td> -289.699</td>\n",
              "</tr>\n",
              "<tr>\n",
              "  <th>weather_3</th>    <td>-1965.5276</td> <td>  206.748</td> <td>   -9.507</td> <td> 0.000</td> <td>-2371.434</td> <td>-1559.621</td>\n",
              "</tr>\n",
              "</table>\n",
              "<table class=\"simpletable\">\n",
              "<tr>\n",
              "  <th>Omnibus:</th>       <td>98.125</td> <th>  Durbin-Watson:     </th> <td>   1.061</td>\n",
              "</tr>\n",
              "<tr>\n",
              "  <th>Prob(Omnibus):</th> <td> 0.000</td> <th>  Jarque-Bera (JB):  </th> <td> 227.130</td>\n",
              "</tr>\n",
              "<tr>\n",
              "  <th>Skew:</th>          <td>-0.737</td> <th>  Prob(JB):          </th> <td>4.78e-50</td>\n",
              "</tr>\n",
              "<tr>\n",
              "  <th>Kurtosis:</th>      <td> 5.299</td> <th>  Cond. No.          </th> <td>9.36e+17</td>\n",
              "</tr>\n",
              "</table><br/><br/>Notes:<br/>[1] Standard Errors assume that the covariance matrix of the errors is correctly specified.<br/>[2] The smallest eigenvalue is 3.99e-30. This might indicate that there are<br/>strong multicollinearity problems or that the design matrix is singular."
            ],
            "text/latex": [
              "\\begin{center}\n",
              "\\begin{tabular}{lclc}\n",
              "\\toprule\n",
              "\\textbf{Dep. Variable:}    &      Target      & \\textbf{  R-squared:         } &     0.828   \\\\\n",
              "\\textbf{Model:}            &       OLS        & \\textbf{  Adj. R-squared:    } &     0.823   \\\\\n",
              "\\textbf{Method:}           &  Least Squares   & \\textbf{  F-statistic:       } &     201.3   \\\\\n",
              "\\textbf{Date:}             & Tue, 08 Aug 2023 & \\textbf{  Prob (F-statistic):} & 1.97e-258   \\\\\n",
              "\\textbf{Time:}             &     22:33:47     & \\textbf{  Log-Likelihood:    } &   -5927.3   \\\\\n",
              "\\textbf{No. Observations:} &         731      & \\textbf{  AIC:               } & 1.189e+04   \\\\\n",
              "\\textbf{Df Residuals:}     &         713      & \\textbf{  BIC:               } & 1.197e+04   \\\\\n",
              "\\textbf{Df Model:}         &          17      & \\textbf{                     } &             \\\\\n",
              "\\textbf{Covariance Type:}  &    nonrobust     & \\textbf{                     } &             \\\\\n",
              "\\bottomrule\n",
              "\\end{tabular}\n",
              "\\begin{tabular}{lcccccc}\n",
              "                       & \\textbf{coef} & \\textbf{std err} & \\textbf{t} & \\textbf{P$> |$t$|$} & \\textbf{[0.025} & \\textbf{0.975]}  \\\\\n",
              "\\midrule\n",
              "\\textbf{const}         &    2246.9384  &      240.702     &     9.335  &         0.000        &     1774.370    &     2719.507     \\\\\n",
              "\\textbf{temp}          &      84.2605  &       29.510     &     2.855  &         0.004        &       26.324    &      142.197     \\\\\n",
              "\\textbf{atemp}         &      19.1717  &       22.949     &     0.835  &         0.404        &      -25.883    &       64.227     \\\\\n",
              "\\textbf{humidity}      &     -12.3543  &        2.944     &    -4.196  &         0.000        &      -18.134    &       -6.574     \\\\\n",
              "\\textbf{windspeed}     &     -40.5147  &        6.437     &    -6.294  &         0.000        &      -53.152    &      -27.878     \\\\\n",
              "\\textbf{season\\_2}     &    1136.9785  &      112.493     &    10.107  &         0.000        &      916.121    &     1357.836     \\\\\n",
              "\\textbf{season\\_3}     &     854.4831  &      149.178     &     5.728  &         0.000        &      561.603    &     1147.363     \\\\\n",
              "\\textbf{season\\_4}     &    1538.9881  &       95.919     &    16.045  &         0.000        &     1350.671    &     1727.305     \\\\\n",
              "\\textbf{year\\_2021}    &    2017.7533  &       61.156     &    32.993  &         0.000        &     1897.685    &     2137.821     \\\\\n",
              "\\textbf{holiday\\_1}    &    -320.6520  &      168.101     &    -1.907  &         0.057        &     -650.684    &        9.380     \\\\\n",
              "\\textbf{weekday\\_1}    &    -127.3514  &       75.589     &    -1.685  &         0.092        &     -275.755    &       21.053     \\\\\n",
              "\\textbf{weekday\\_2}    &     -40.1262  &       81.587     &    -0.492  &         0.623        &     -200.306    &      120.053     \\\\\n",
              "\\textbf{weekday\\_3}    &      30.8555  &       81.926     &     0.377  &         0.707        &     -129.990    &      191.701     \\\\\n",
              "\\textbf{weekday\\_4}    &      53.2454  &       81.077     &     0.657  &         0.512        &     -105.932    &      212.423     \\\\\n",
              "\\textbf{weekday\\_5}    &      98.3948  &       81.530     &     1.207  &         0.228        &      -61.672    &      258.462     \\\\\n",
              "\\textbf{weekday\\_6}    &     442.9183  &      112.695     &     3.930  &         0.000        &      221.665    &      664.171     \\\\\n",
              "\\textbf{workingday\\_1} &     335.6701  &       70.483     &     4.762  &         0.000        &      197.291    &      474.049     \\\\\n",
              "\\textbf{weather\\_2}    &    -448.2993  &       80.783     &    -5.549  &         0.000        &     -606.900    &     -289.699     \\\\\n",
              "\\textbf{weather\\_3}    &   -1965.5276  &      206.748     &    -9.507  &         0.000        &    -2371.434    &    -1559.621     \\\\\n",
              "\\bottomrule\n",
              "\\end{tabular}\n",
              "\\begin{tabular}{lclc}\n",
              "\\textbf{Omnibus:}       & 98.125 & \\textbf{  Durbin-Watson:     } &    1.061  \\\\\n",
              "\\textbf{Prob(Omnibus):} &  0.000 & \\textbf{  Jarque-Bera (JB):  } &  227.130  \\\\\n",
              "\\textbf{Skew:}          & -0.737 & \\textbf{  Prob(JB):          } & 4.78e-50  \\\\\n",
              "\\textbf{Kurtosis:}      &  5.299 & \\textbf{  Cond. No.          } & 9.36e+17  \\\\\n",
              "\\bottomrule\n",
              "\\end{tabular}\n",
              "%\\caption{OLS Regression Results}\n",
              "\\end{center}\n",
              "\n",
              "Notes: \\newline\n",
              " [1] Standard Errors assume that the covariance matrix of the errors is correctly specified. \\newline\n",
              " [2] The smallest eigenvalue is 3.99e-30. This might indicate that there are \\newline\n",
              " strong multicollinearity problems or that the design matrix is singular."
            ],
            "text/plain": [
              "<class 'statsmodels.iolib.summary.Summary'>\n",
              "\"\"\"\n",
              "                            OLS Regression Results                            \n",
              "==============================================================================\n",
              "Dep. Variable:                 Target   R-squared:                       0.828\n",
              "Model:                            OLS   Adj. R-squared:                  0.823\n",
              "Method:                 Least Squares   F-statistic:                     201.3\n",
              "Date:                Tue, 08 Aug 2023   Prob (F-statistic):          1.97e-258\n",
              "Time:                        22:33:47   Log-Likelihood:                -5927.3\n",
              "No. Observations:                 731   AIC:                         1.189e+04\n",
              "Df Residuals:                     713   BIC:                         1.197e+04\n",
              "Df Model:                          17                                         \n",
              "Covariance Type:            nonrobust                                         \n",
              "================================================================================\n",
              "                   coef    std err          t      P>|t|      [0.025      0.975]\n",
              "--------------------------------------------------------------------------------\n",
              "const         2246.9384    240.702      9.335      0.000    1774.370    2719.507\n",
              "temp            84.2605     29.510      2.855      0.004      26.324     142.197\n",
              "atemp           19.1717     22.949      0.835      0.404     -25.883      64.227\n",
              "humidity       -12.3543      2.944     -4.196      0.000     -18.134      -6.574\n",
              "windspeed      -40.5147      6.437     -6.294      0.000     -53.152     -27.878\n",
              "season_2      1136.9785    112.493     10.107      0.000     916.121    1357.836\n",
              "season_3       854.4831    149.178      5.728      0.000     561.603    1147.363\n",
              "season_4      1538.9881     95.919     16.045      0.000    1350.671    1727.305\n",
              "year_2021     2017.7533     61.156     32.993      0.000    1897.685    2137.821\n",
              "holiday_1     -320.6520    168.101     -1.907      0.057    -650.684       9.380\n",
              "weekday_1     -127.3514     75.589     -1.685      0.092    -275.755      21.053\n",
              "weekday_2      -40.1262     81.587     -0.492      0.623    -200.306     120.053\n",
              "weekday_3       30.8555     81.926      0.377      0.707    -129.990     191.701\n",
              "weekday_4       53.2454     81.077      0.657      0.512    -105.932     212.423\n",
              "weekday_5       98.3948     81.530      1.207      0.228     -61.672     258.462\n",
              "weekday_6      442.9183    112.695      3.930      0.000     221.665     664.171\n",
              "workingday_1   335.6701     70.483      4.762      0.000     197.291     474.049\n",
              "weather_2     -448.2993     80.783     -5.549      0.000    -606.900    -289.699\n",
              "weather_3    -1965.5276    206.748     -9.507      0.000   -2371.434   -1559.621\n",
              "==============================================================================\n",
              "Omnibus:                       98.125   Durbin-Watson:                   1.061\n",
              "Prob(Omnibus):                  0.000   Jarque-Bera (JB):              227.130\n",
              "Skew:                          -0.737   Prob(JB):                     4.78e-50\n",
              "Kurtosis:                       5.299   Cond. No.                     9.36e+17\n",
              "==============================================================================\n",
              "\n",
              "Notes:\n",
              "[1] Standard Errors assume that the covariance matrix of the errors is correctly specified.\n",
              "[2] The smallest eigenvalue is 3.99e-30. This might indicate that there are\n",
              "strong multicollinearity problems or that the design matrix is singular.\n",
              "\"\"\""
            ]
          },
          "execution_count": 38,
          "metadata": {},
          "output_type": "execute_result"
        }
      ],
      "source": [
        "model.summary()"
      ]
    },
    {
      "cell_type": "code",
      "execution_count": null,
      "metadata": {
        "id": "o4z_E4UHAMWI",
        "outputId": "0cfc8040-efba-43b9-e4d5-f11b9d3c5378"
      },
      "outputs": [
        {
          "name": "stdout",
          "output_type": "stream",
          "text": [
            "Requirement already satisfied: stepwise_regression in c:\\users\\camil\\miniconda3\\envs\\default\\lib\\site-packages (1.0.3)\n",
            "Requirement already satisfied: statsmodels in c:\\users\\camil\\miniconda3\\envs\\default\\lib\\site-packages (from stepwise_regression) (0.14.0)\n",
            "Requirement already satisfied: pandas in c:\\users\\camil\\miniconda3\\envs\\default\\lib\\site-packages (from stepwise_regression) (1.5.3)\n",
            "Requirement already satisfied: numpy>=1.20.3 in c:\\users\\camil\\miniconda3\\envs\\default\\lib\\site-packages (from pandas->stepwise_regression) (1.24.3)\n",
            "Requirement already satisfied: pytz>=2020.1 in c:\\users\\camil\\miniconda3\\envs\\default\\lib\\site-packages (from pandas->stepwise_regression) (2022.7)\n",
            "Requirement already satisfied: python-dateutil>=2.8.1 in c:\\users\\camil\\miniconda3\\envs\\default\\lib\\site-packages (from pandas->stepwise_regression) (2.8.2)\n",
            "Requirement already satisfied: scipy!=1.9.2,>=1.4 in c:\\users\\camil\\miniconda3\\envs\\default\\lib\\site-packages (from statsmodels->stepwise_regression) (1.10.1)\n",
            "Requirement already satisfied: packaging>=21.3 in c:\\users\\camil\\miniconda3\\envs\\default\\lib\\site-packages (from statsmodels->stepwise_regression) (23.0)\n",
            "Requirement already satisfied: patsy>=0.5.2 in c:\\users\\camil\\miniconda3\\envs\\default\\lib\\site-packages (from statsmodels->stepwise_regression) (0.5.3)\n",
            "Requirement already satisfied: six in c:\\users\\camil\\miniconda3\\envs\\default\\lib\\site-packages (from patsy>=0.5.2->statsmodels->stepwise_regression) (1.16.0)\n",
            "Note: you may need to restart the kernel to use updated packages.\n"
          ]
        }
      ],
      "source": [
        "pip install stepwise_regression"
      ]
    },
    {
      "cell_type": "code",
      "execution_count": null,
      "metadata": {
        "id": "_uaxiYdiAMWI"
      },
      "outputs": [],
      "source": [
        "import stepwise_regression"
      ]
    },
    {
      "cell_type": "code",
      "execution_count": null,
      "metadata": {
        "id": "b8Xa3cNTAMWI"
      },
      "outputs": [],
      "source": [
        "from stepwise_regression import step_reg"
      ]
    },
    {
      "cell_type": "code",
      "execution_count": null,
      "metadata": {
        "id": "gzCt1_NyAMWI",
        "outputId": "d88936fa-5730-4d43-8161-2ea66c47f664"
      },
      "outputs": [
        {
          "name": "stderr",
          "output_type": "stream",
          "text": [
            "c:\\Users\\camil\\miniconda3\\envs\\default\\lib\\site-packages\\stepwise_regression\\step_reg.py:13: FutureWarning: The default dtype for empty Series will be 'object' instead of 'float64' in a future version. Specify a dtype explicitly to silence this warning.\n",
            "  new_pval = pd.Series(index=excluded)\n",
            "c:\\Users\\camil\\miniconda3\\envs\\default\\lib\\site-packages\\stepwise_regression\\step_reg.py:13: FutureWarning: The default dtype for empty Series will be 'object' instead of 'float64' in a future version. Specify a dtype explicitly to silence this warning.\n",
            "  new_pval = pd.Series(index=excluded)\n",
            "c:\\Users\\camil\\miniconda3\\envs\\default\\lib\\site-packages\\stepwise_regression\\step_reg.py:13: FutureWarning: The default dtype for empty Series will be 'object' instead of 'float64' in a future version. Specify a dtype explicitly to silence this warning.\n",
            "  new_pval = pd.Series(index=excluded)\n",
            "c:\\Users\\camil\\miniconda3\\envs\\default\\lib\\site-packages\\stepwise_regression\\step_reg.py:13: FutureWarning: The default dtype for empty Series will be 'object' instead of 'float64' in a future version. Specify a dtype explicitly to silence this warning.\n",
            "  new_pval = pd.Series(index=excluded)\n",
            "c:\\Users\\camil\\miniconda3\\envs\\default\\lib\\site-packages\\stepwise_regression\\step_reg.py:13: FutureWarning: The default dtype for empty Series will be 'object' instead of 'float64' in a future version. Specify a dtype explicitly to silence this warning.\n",
            "  new_pval = pd.Series(index=excluded)\n",
            "c:\\Users\\camil\\miniconda3\\envs\\default\\lib\\site-packages\\stepwise_regression\\step_reg.py:13: FutureWarning: The default dtype for empty Series will be 'object' instead of 'float64' in a future version. Specify a dtype explicitly to silence this warning.\n",
            "  new_pval = pd.Series(index=excluded)\n",
            "c:\\Users\\camil\\miniconda3\\envs\\default\\lib\\site-packages\\stepwise_regression\\step_reg.py:13: FutureWarning: The default dtype for empty Series will be 'object' instead of 'float64' in a future version. Specify a dtype explicitly to silence this warning.\n",
            "  new_pval = pd.Series(index=excluded)\n",
            "c:\\Users\\camil\\miniconda3\\envs\\default\\lib\\site-packages\\stepwise_regression\\step_reg.py:13: FutureWarning: The default dtype for empty Series will be 'object' instead of 'float64' in a future version. Specify a dtype explicitly to silence this warning.\n",
            "  new_pval = pd.Series(index=excluded)\n",
            "c:\\Users\\camil\\miniconda3\\envs\\default\\lib\\site-packages\\stepwise_regression\\step_reg.py:13: FutureWarning: The default dtype for empty Series will be 'object' instead of 'float64' in a future version. Specify a dtype explicitly to silence this warning.\n",
            "  new_pval = pd.Series(index=excluded)\n",
            "c:\\Users\\camil\\miniconda3\\envs\\default\\lib\\site-packages\\stepwise_regression\\step_reg.py:13: FutureWarning: The default dtype for empty Series will be 'object' instead of 'float64' in a future version. Specify a dtype explicitly to silence this warning.\n",
            "  new_pval = pd.Series(index=excluded)\n",
            "c:\\Users\\camil\\miniconda3\\envs\\default\\lib\\site-packages\\stepwise_regression\\step_reg.py:13: FutureWarning: The default dtype for empty Series will be 'object' instead of 'float64' in a future version. Specify a dtype explicitly to silence this warning.\n",
            "  new_pval = pd.Series(index=excluded)\n",
            "c:\\Users\\camil\\miniconda3\\envs\\default\\lib\\site-packages\\stepwise_regression\\step_reg.py:13: FutureWarning: The default dtype for empty Series will be 'object' instead of 'float64' in a future version. Specify a dtype explicitly to silence this warning.\n",
            "  new_pval = pd.Series(index=excluded)\n",
            "c:\\Users\\camil\\miniconda3\\envs\\default\\lib\\site-packages\\stepwise_regression\\step_reg.py:13: FutureWarning: The default dtype for empty Series will be 'object' instead of 'float64' in a future version. Specify a dtype explicitly to silence this warning.\n",
            "  new_pval = pd.Series(index=excluded)\n"
          ]
        },
        {
          "data": {
            "text/plain": [
              "['const',\n",
              " 'atemp',\n",
              " 'year_2021',\n",
              " 'season_4',\n",
              " 'weather_3',\n",
              " 'weather_2',\n",
              " 'season_2',\n",
              " 'season_3',\n",
              " 'windspeed',\n",
              " 'humidity',\n",
              " 'holiday_1',\n",
              " 'temp']"
            ]
          },
          "execution_count": 42,
          "metadata": {},
          "output_type": "execute_result"
        }
      ],
      "source": [
        "ford_selection= step_reg.forward_regression(X, y, 0.05, verbose= False)\n",
        "ford_selection"
      ]
    },
    {
      "cell_type": "code",
      "execution_count": null,
      "metadata": {
        "id": "T1BW48GUAMWI"
      },
      "outputs": [],
      "source": [
        "X_ford= X[ford_selection]"
      ]
    },
    {
      "cell_type": "code",
      "execution_count": null,
      "metadata": {
        "id": "groeaqU8AMWI"
      },
      "outputs": [],
      "source": [
        "model_fordward= sm.OLS(y, X_ford).fit()"
      ]
    },
    {
      "cell_type": "code",
      "execution_count": null,
      "metadata": {
        "id": "BjHBSgKWAMWI",
        "outputId": "44b997c3-2a8b-4450-fadd-1972c93a63f8"
      },
      "outputs": [
        {
          "data": {
            "text/html": [
              "<table class=\"simpletable\">\n",
              "<caption>OLS Regression Results</caption>\n",
              "<tr>\n",
              "  <th>Dep. Variable:</th>         <td>Target</td>      <th>  R-squared:         </th> <td>   0.822</td> \n",
              "</tr>\n",
              "<tr>\n",
              "  <th>Model:</th>                   <td>OLS</td>       <th>  Adj. R-squared:    </th> <td>   0.819</td> \n",
              "</tr>\n",
              "<tr>\n",
              "  <th>Method:</th>             <td>Least Squares</td>  <th>  F-statistic:       </th> <td>   301.7</td> \n",
              "</tr>\n",
              "<tr>\n",
              "  <th>Date:</th>             <td>Tue, 08 Aug 2023</td> <th>  Prob (F-statistic):</th> <td>9.87e-261</td>\n",
              "</tr>\n",
              "<tr>\n",
              "  <th>Time:</th>                 <td>22:33:50</td>     <th>  Log-Likelihood:    </th> <td> -5939.0</td> \n",
              "</tr>\n",
              "<tr>\n",
              "  <th>No. Observations:</th>      <td>   731</td>      <th>  AIC:               </th> <td>1.190e+04</td>\n",
              "</tr>\n",
              "<tr>\n",
              "  <th>Df Residuals:</th>          <td>   719</td>      <th>  BIC:               </th> <td>1.196e+04</td>\n",
              "</tr>\n",
              "<tr>\n",
              "  <th>Df Model:</th>              <td>    11</td>      <th>                     </th>     <td> </td>    \n",
              "</tr>\n",
              "<tr>\n",
              "  <th>Covariance Type:</th>      <td>nonrobust</td>    <th>                     </th>     <td> </td>    \n",
              "</tr>\n",
              "</table>\n",
              "<table class=\"simpletable\">\n",
              "<tr>\n",
              "      <td></td>         <th>coef</th>     <th>std err</th>      <th>t</th>      <th>P>|t|</th>  <th>[0.025</th>    <th>0.975]</th>  \n",
              "</tr>\n",
              "<tr>\n",
              "  <th>const</th>     <td> 2595.2769</td> <td>  229.670</td> <td>   11.300</td> <td> 0.000</td> <td> 2144.373</td> <td> 3046.180</td>\n",
              "</tr>\n",
              "<tr>\n",
              "  <th>atemp</th>     <td>   14.0195</td> <td>   23.132</td> <td>    0.606</td> <td> 0.545</td> <td>  -31.394</td> <td>   59.433</td>\n",
              "</tr>\n",
              "<tr>\n",
              "  <th>year_2021</th> <td> 2013.2853</td> <td>   61.868</td> <td>   32.542</td> <td> 0.000</td> <td> 1891.822</td> <td> 2134.749</td>\n",
              "</tr>\n",
              "<tr>\n",
              "  <th>season_4</th>  <td> 1539.3617</td> <td>   97.019</td> <td>   15.867</td> <td> 0.000</td> <td> 1348.887</td> <td> 1729.836</td>\n",
              "</tr>\n",
              "<tr>\n",
              "  <th>weather_3</th> <td>-1891.9461</td> <td>  207.877</td> <td>   -9.101</td> <td> 0.000</td> <td>-2300.064</td> <td>-1483.828</td>\n",
              "</tr>\n",
              "<tr>\n",
              "  <th>weather_2</th> <td> -415.1872</td> <td>   81.286</td> <td>   -5.108</td> <td> 0.000</td> <td> -574.773</td> <td> -255.602</td>\n",
              "</tr>\n",
              "<tr>\n",
              "  <th>season_2</th>  <td> 1130.3972</td> <td>  113.750</td> <td>    9.938</td> <td> 0.000</td> <td>  907.076</td> <td> 1353.718</td>\n",
              "</tr>\n",
              "<tr>\n",
              "  <th>season_3</th>  <td>  841.4258</td> <td>  150.748</td> <td>    5.582</td> <td> 0.000</td> <td>  545.466</td> <td> 1137.385</td>\n",
              "</tr>\n",
              "<tr>\n",
              "  <th>windspeed</th> <td>  -41.2764</td> <td>    6.503</td> <td>   -6.347</td> <td> 0.000</td> <td>  -54.043</td> <td>  -28.509</td>\n",
              "</tr>\n",
              "<tr>\n",
              "  <th>humidity</th>  <td>  -13.5668</td> <td>    2.960</td> <td>   -4.583</td> <td> 0.000</td> <td>  -19.379</td> <td>   -7.755</td>\n",
              "</tr>\n",
              "<tr>\n",
              "  <th>holiday_1</th> <td> -702.1517</td> <td>  182.875</td> <td>   -3.840</td> <td> 0.000</td> <td>-1061.185</td> <td> -343.118</td>\n",
              "</tr>\n",
              "<tr>\n",
              "  <th>temp</th>      <td>   91.8754</td> <td>   29.738</td> <td>    3.089</td> <td> 0.002</td> <td>   33.492</td> <td>  150.259</td>\n",
              "</tr>\n",
              "</table>\n",
              "<table class=\"simpletable\">\n",
              "<tr>\n",
              "  <th>Omnibus:</th>       <td>92.058</td> <th>  Durbin-Watson:     </th> <td>   1.082</td>\n",
              "</tr>\n",
              "<tr>\n",
              "  <th>Prob(Omnibus):</th> <td> 0.000</td> <th>  Jarque-Bera (JB):  </th> <td> 208.265</td>\n",
              "</tr>\n",
              "<tr>\n",
              "  <th>Skew:</th>          <td>-0.703</td> <th>  Prob(JB):          </th> <td>5.97e-46</td>\n",
              "</tr>\n",
              "<tr>\n",
              "  <th>Kurtosis:</th>      <td> 5.205</td> <th>  Cond. No.          </th> <td>    589.</td>\n",
              "</tr>\n",
              "</table><br/><br/>Notes:<br/>[1] Standard Errors assume that the covariance matrix of the errors is correctly specified."
            ],
            "text/latex": [
              "\\begin{center}\n",
              "\\begin{tabular}{lclc}\n",
              "\\toprule\n",
              "\\textbf{Dep. Variable:}    &      Target      & \\textbf{  R-squared:         } &     0.822   \\\\\n",
              "\\textbf{Model:}            &       OLS        & \\textbf{  Adj. R-squared:    } &     0.819   \\\\\n",
              "\\textbf{Method:}           &  Least Squares   & \\textbf{  F-statistic:       } &     301.7   \\\\\n",
              "\\textbf{Date:}             & Tue, 08 Aug 2023 & \\textbf{  Prob (F-statistic):} & 9.87e-261   \\\\\n",
              "\\textbf{Time:}             &     22:33:50     & \\textbf{  Log-Likelihood:    } &   -5939.0   \\\\\n",
              "\\textbf{No. Observations:} &         731      & \\textbf{  AIC:               } & 1.190e+04   \\\\\n",
              "\\textbf{Df Residuals:}     &         719      & \\textbf{  BIC:               } & 1.196e+04   \\\\\n",
              "\\textbf{Df Model:}         &          11      & \\textbf{                     } &             \\\\\n",
              "\\textbf{Covariance Type:}  &    nonrobust     & \\textbf{                     } &             \\\\\n",
              "\\bottomrule\n",
              "\\end{tabular}\n",
              "\\begin{tabular}{lcccccc}\n",
              "                    & \\textbf{coef} & \\textbf{std err} & \\textbf{t} & \\textbf{P$> |$t$|$} & \\textbf{[0.025} & \\textbf{0.975]}  \\\\\n",
              "\\midrule\n",
              "\\textbf{const}      &    2595.2769  &      229.670     &    11.300  &         0.000        &     2144.373    &     3046.180     \\\\\n",
              "\\textbf{atemp}      &      14.0195  &       23.132     &     0.606  &         0.545        &      -31.394    &       59.433     \\\\\n",
              "\\textbf{year\\_2021} &    2013.2853  &       61.868     &    32.542  &         0.000        &     1891.822    &     2134.749     \\\\\n",
              "\\textbf{season\\_4}  &    1539.3617  &       97.019     &    15.867  &         0.000        &     1348.887    &     1729.836     \\\\\n",
              "\\textbf{weather\\_3} &   -1891.9461  &      207.877     &    -9.101  &         0.000        &    -2300.064    &    -1483.828     \\\\\n",
              "\\textbf{weather\\_2} &    -415.1872  &       81.286     &    -5.108  &         0.000        &     -574.773    &     -255.602     \\\\\n",
              "\\textbf{season\\_2}  &    1130.3972  &      113.750     &     9.938  &         0.000        &      907.076    &     1353.718     \\\\\n",
              "\\textbf{season\\_3}  &     841.4258  &      150.748     &     5.582  &         0.000        &      545.466    &     1137.385     \\\\\n",
              "\\textbf{windspeed}  &     -41.2764  &        6.503     &    -6.347  &         0.000        &      -54.043    &      -28.509     \\\\\n",
              "\\textbf{humidity}   &     -13.5668  &        2.960     &    -4.583  &         0.000        &      -19.379    &       -7.755     \\\\\n",
              "\\textbf{holiday\\_1} &    -702.1517  &      182.875     &    -3.840  &         0.000        &    -1061.185    &     -343.118     \\\\\n",
              "\\textbf{temp}       &      91.8754  &       29.738     &     3.089  &         0.002        &       33.492    &      150.259     \\\\\n",
              "\\bottomrule\n",
              "\\end{tabular}\n",
              "\\begin{tabular}{lclc}\n",
              "\\textbf{Omnibus:}       & 92.058 & \\textbf{  Durbin-Watson:     } &    1.082  \\\\\n",
              "\\textbf{Prob(Omnibus):} &  0.000 & \\textbf{  Jarque-Bera (JB):  } &  208.265  \\\\\n",
              "\\textbf{Skew:}          & -0.703 & \\textbf{  Prob(JB):          } & 5.97e-46  \\\\\n",
              "\\textbf{Kurtosis:}      &  5.205 & \\textbf{  Cond. No.          } &     589.  \\\\\n",
              "\\bottomrule\n",
              "\\end{tabular}\n",
              "%\\caption{OLS Regression Results}\n",
              "\\end{center}\n",
              "\n",
              "Notes: \\newline\n",
              " [1] Standard Errors assume that the covariance matrix of the errors is correctly specified."
            ],
            "text/plain": [
              "<class 'statsmodels.iolib.summary.Summary'>\n",
              "\"\"\"\n",
              "                            OLS Regression Results                            \n",
              "==============================================================================\n",
              "Dep. Variable:                 Target   R-squared:                       0.822\n",
              "Model:                            OLS   Adj. R-squared:                  0.819\n",
              "Method:                 Least Squares   F-statistic:                     301.7\n",
              "Date:                Tue, 08 Aug 2023   Prob (F-statistic):          9.87e-261\n",
              "Time:                        22:33:50   Log-Likelihood:                -5939.0\n",
              "No. Observations:                 731   AIC:                         1.190e+04\n",
              "Df Residuals:                     719   BIC:                         1.196e+04\n",
              "Df Model:                          11                                         \n",
              "Covariance Type:            nonrobust                                         \n",
              "==============================================================================\n",
              "                 coef    std err          t      P>|t|      [0.025      0.975]\n",
              "------------------------------------------------------------------------------\n",
              "const       2595.2769    229.670     11.300      0.000    2144.373    3046.180\n",
              "atemp         14.0195     23.132      0.606      0.545     -31.394      59.433\n",
              "year_2021   2013.2853     61.868     32.542      0.000    1891.822    2134.749\n",
              "season_4    1539.3617     97.019     15.867      0.000    1348.887    1729.836\n",
              "weather_3  -1891.9461    207.877     -9.101      0.000   -2300.064   -1483.828\n",
              "weather_2   -415.1872     81.286     -5.108      0.000    -574.773    -255.602\n",
              "season_2    1130.3972    113.750      9.938      0.000     907.076    1353.718\n",
              "season_3     841.4258    150.748      5.582      0.000     545.466    1137.385\n",
              "windspeed    -41.2764      6.503     -6.347      0.000     -54.043     -28.509\n",
              "humidity     -13.5668      2.960     -4.583      0.000     -19.379      -7.755\n",
              "holiday_1   -702.1517    182.875     -3.840      0.000   -1061.185    -343.118\n",
              "temp          91.8754     29.738      3.089      0.002      33.492     150.259\n",
              "==============================================================================\n",
              "Omnibus:                       92.058   Durbin-Watson:                   1.082\n",
              "Prob(Omnibus):                  0.000   Jarque-Bera (JB):              208.265\n",
              "Skew:                          -0.703   Prob(JB):                     5.97e-46\n",
              "Kurtosis:                       5.205   Cond. No.                         589.\n",
              "==============================================================================\n",
              "\n",
              "Notes:\n",
              "[1] Standard Errors assume that the covariance matrix of the errors is correctly specified.\n",
              "\"\"\""
            ]
          },
          "execution_count": 45,
          "metadata": {},
          "output_type": "execute_result"
        }
      ],
      "source": [
        "\n",
        "model_fordward.summary()"
      ]
    },
    {
      "cell_type": "markdown",
      "source": [
        "temperatura, holiday\n"
      ],
      "metadata": {
        "id": "j-1t_Jz5Pv6r"
      }
    },
    {
      "cell_type": "markdown",
      "metadata": {
        "id": "sZQ4o1wfAMWJ"
      },
      "source": [
        "## Pregunta 5\n",
        "Utilice los residuos del modelo elegido para estudiar la validez de los supuestos:\n",
        "\n",
        "Normalidad.\n",
        "Independencia\n",
        "Igualdad de varianzas (homocedasticidad)\n",
        "¿Es un modelo adecuado estadísticamente? Justifique sus afirmaciones."
      ]
    },
    {
      "cell_type": "markdown",
      "metadata": {
        "id": "uvX-Xn6tAMWN"
      },
      "source": [
        "### Normalidad\n",
        "H0: Los residuos siguen una distribución normal.\n",
        "H1: Los residuos no siguen una distribución normal."
      ]
    },
    {
      "cell_type": "code",
      "execution_count": null,
      "metadata": {
        "id": "sjBU35K_AMWN",
        "outputId": "723e9717-b6f3-41ca-ba79-8d42530c4ceb"
      },
      "outputs": [
        {
          "data": {
            "text/plain": [
              "Text(0.5, 1.0, 'Gráfico QQ de residuos del modelo')"
            ]
          },
          "execution_count": 46,
          "metadata": {},
          "output_type": "execute_result"
        },
        {
          "data": {
            "image/png": "[encoded data removed]",
            "text/plain": [
              "<Figure size 640x480 with 1 Axes>"
            ]
          },
          "metadata": {},
          "output_type": "display_data"
        }
      ],
      "source": [
        "sm.qqplot(model_fordward.resid, line='q');\n",
        "plt.title('Gráfico QQ de residuos del modelo')"
      ]
    },
    {
      "cell_type": "code",
      "execution_count": null,
      "metadata": {
        "id": "5Kol3_EzAMWN"
      },
      "outputs": [],
      "source": [
        "from scipy.stats import kstest"
      ]
    },
    {
      "cell_type": "code",
      "execution_count": null,
      "metadata": {
        "id": "G8_yd9mdAMWO"
      },
      "outputs": [],
      "source": [
        "## TEST\n",
        "# H0: Normalidad\n",
        "# H1: No Normalidad\n",
        "ks_test = kstest(model_fordward.resid, 'norm')"
      ]
    },
    {
      "cell_type": "code",
      "execution_count": null,
      "metadata": {
        "id": "fl20YC9qAMWO",
        "outputId": "91a54b5f-1823-423b-b250-a0958cc47378"
      },
      "outputs": [
        {
          "data": {
            "text/plain": [
              "True"
            ]
          },
          "execution_count": 49,
          "metadata": {},
          "output_type": "execute_result"
        }
      ],
      "source": [
        "ks_test.pvalue < 0.05\n",
        "# El modelo o los residuos del modelo no cumplen con la hipótesis de normalidad"
      ]
    },
    {
      "cell_type": "markdown",
      "metadata": {
        "id": "8_M6fUvzAMWO"
      },
      "source": [
        "### Homocedasticidad\n",
        "H0: Los residuos son homocedasticidad.\n",
        "H1: Los residuos son heterocedasticidad."
      ]
    },
    {
      "cell_type": "code",
      "execution_count": null,
      "metadata": {
        "id": "ACh3xnk3AMWO",
        "outputId": "85c379a5-db8a-4359-9aba-f8ca16628a5a"
      },
      "outputs": [
        {
          "name": "stdout",
          "output_type": "stream",
          "text": [
            "Los residuos son heterocedásticos.\n"
          ]
        },
        {
          "data": {
            "image/png": "[encoded data removed]",
            "text/plain": [
              "<Figure size 640x480 with 1 Axes>"
            ]
          },
          "metadata": {},
          "output_type": "display_data"
        }
      ],
      "source": [
        "import matplotlib.pyplot as plt\n",
        "import statsmodels.stats.api as sms\n",
        "\n",
        "# Calcular el estadístico de Breusch-Pagan y el valor p\n",
        "estadistico, valor_p, _, _ = sms.het_breuschpagan(model_fordward.resid, model_fordward.model.exog)\n",
        "\n",
        "# Comprobar si los residuos son homocedásticos o heterocedásticos\n",
        "if valor_p < 0.05:\n",
        "    print(\"Los residuos son heterocedásticos.\")\n",
        "else:\n",
        "    print(\"Los residuos son homocedásticos.\")\n",
        "\n",
        "# Crear el gráfico de homocedasticidad\n",
        "plt.scatter(model_fordward.fittedvalues, model_fordward.resid)\n",
        "plt.xlabel('Valores ajustados')\n",
        "plt.ylabel('Residuos estandarizados')\n",
        "plt.title('Gráfico de Homocedasticidad')\n",
        "plt.axhline(y=0, color='red', linestyle='--')  # Línea horizontal en y=0 para referencia\n",
        "plt.show()\n"
      ]
    },
    {
      "cell_type": "code",
      "execution_count": null,
      "metadata": {
        "id": "hb6LYkvMAMWO"
      },
      "outputs": [],
      "source": [
        "# Homocedasticidad -> varianza iguales\n",
        "### Test Breuch-Pagan\n",
        "#### H0: Homocedasticidad\n",
        "#### H1: Heterocedasticos\n",
        "import statsmodels.stats.api as sms\n",
        "estadistico, valor_p, _, _ = sms.het_breuschpagan(model_fordward.resid, model_fordward.model.exog)"
      ]
    },
    {
      "cell_type": "code",
      "execution_count": null,
      "metadata": {
        "id": "sRfUQATqAMWO",
        "outputId": "df1c65c0-93b2-44ce-fb70-328d21d37a6e"
      },
      "outputs": [
        {
          "data": {
            "text/plain": [
              "True"
            ]
          },
          "execution_count": 52,
          "metadata": {},
          "output_type": "execute_result"
        }
      ],
      "source": [
        "valor_p < 0.05"
      ]
    },
    {
      "cell_type": "markdown",
      "metadata": {
        "id": "g1lNfgxPAMWO"
      },
      "source": [
        "### No se cumple el supuesto de Homocedasticidad, eso quiere decir que en general nuestro modelo\n",
        "### no es bueno"
      ]
    },
    {
      "cell_type": "markdown",
      "metadata": {
        "id": "_6DJMlEVAMWO"
      },
      "source": [
        "### Autocorrelación\n",
        "H0: Los residuos son independientes\n",
        "H1: Los residuos están correlacionados."
      ]
    },
    {
      "cell_type": "code",
      "execution_count": null,
      "metadata": {
        "id": "f5IunlkFAMWP",
        "outputId": "db0644d4-a416-46b7-ff47-3a4e1a3e357e"
      },
      "outputs": [
        {
          "data": {
            "image/png": "[encoded data removed]",
            "text/plain": [
              "<Figure size 640x480 with 1 Axes>"
            ]
          },
          "metadata": {},
          "output_type": "display_data"
        }
      ],
      "source": [
        "# Crear el gráfico de independencia de los residuos\n",
        "plt.scatter(data_bikes.index, model_fordward.resid)\n",
        "plt.xlabel('Orden de observación (Índice)')\n",
        "plt.ylabel('Residuos')\n",
        "plt.title('Gráfico de Independencia de Residuos')\n",
        "plt.axhline(y=0, color='red', linestyle='--')  # Línea horizontal en y=0 para referencia\n",
        "plt.show()\n"
      ]
    },
    {
      "cell_type": "code",
      "execution_count": null,
      "metadata": {
        "id": "h0li3hRxAMWP"
      },
      "outputs": [],
      "source": [
        "## Independencia de los residuos\n",
        "\n",
        "# H0: Los residuos no están autocorrelacionados (son independientes)\n",
        "# H1: Los residuos están correlacionados (no son independientes)\n",
        "# Durbin-Watson: 1.251\n",
        "# si nosotros tenemos valores entre [1.8, 2.2], entonces no se rechaza H0\n",
        "# En este caso nosotros tenemos un valor de 1.251, es decir rechazamos H0, por lo tanto\n",
        "# los residuos no son independientes.\n",
        "\n",
        "#En este gráfico, si los puntos están dispersos de manera aleatoria alrededor de la línea horizontal roja en y=0,\n",
        "#esto sugiere independencia de los residuos. Si los puntos forman algún patrón o tendencia, podría indicar que los residuos no son independientes,\n",
        "#y esto podría ser problemático para el modelo.\n",
        "\n",
        "#Es importante recordar que la independencia de los residuos es un supuesto importante en la regresión lineal y,\n",
        "#si no se cumple, puede afectar la validez de los resultados y las inferencias realizadas con el modelo.\n",
        "#Si observas algún patrón claro en el gráfico de independencia de los residuos,\n",
        "#es posible que necesites considerar modelos más avanzados que tengan en cuenta la estructura de dependencia en los datos.\n"
      ]
    },
    {
      "cell_type": "code",
      "execution_count": null,
      "metadata": {
        "id": "hP1ESvDpKdxX",
        "outputId": "a57711de-fa5c-4404-99bc-b7cd693b6f96"
      },
      "outputs": [
        {
          "data": {
            "text/plain": [
              "1.0610474867896602"
            ]
          },
          "execution_count": 55,
          "metadata": {},
          "output_type": "execute_result"
        }
      ],
      "source": [
        "#gráfico de correlación -tabla\n",
        "from statsmodels.stats.stattools import durbin_watson\n",
        "\n",
        "# realizar la prueba de Durbin-Watson\n",
        "durbin_watson (model.resid)"
      ]
    },
    {
      "cell_type": "code",
      "execution_count": null,
      "metadata": {
        "id": "M5CblMCnKdxX"
      },
      "outputs": [],
      "source": [
        "residuos= model_fordward.resid"
      ]
    },
    {
      "cell_type": "code",
      "execution_count": null,
      "metadata": {
        "id": "J5kAVRy3KdxY",
        "outputId": "89b1df38-13cd-471a-ee5b-766795359455"
      },
      "outputs": [
        {
          "data": {
            "text/plain": [
              "['const',\n",
              " 'temp',\n",
              " 'atemp',\n",
              " 'humidity',\n",
              " 'windspeed',\n",
              " 'season_2',\n",
              " 'season_3',\n",
              " 'season_4',\n",
              " 'year_2021',\n",
              " 'holiday_1',\n",
              " 'weekday_1',\n",
              " 'weekday_2',\n",
              " 'weekday_3',\n",
              " 'weekday_4',\n",
              " 'weekday_5',\n",
              " 'weekday_6',\n",
              " 'workingday_1',\n",
              " 'weather_2',\n",
              " 'weather_3']"
            ]
          },
          "execution_count": 57,
          "metadata": {},
          "output_type": "execute_result"
        }
      ],
      "source": [
        "model.model.exog_names"
      ]
    },
    {
      "cell_type": "markdown",
      "metadata": {
        "id": "Birs6HAnAMWP"
      },
      "source": [
        "### Pregunta 6\n",
        "Realice una predicción de arriendos de bicicletas para un día con las siguientes cualidades"
      ]
    },
    {
      "cell_type": "code",
      "execution_count": null,
      "metadata": {
        "id": "bQP6iVC-AMWP",
        "outputId": "0e60b1d9-9f15-4cac-d6e1-5082a83430cc"
      },
      "outputs": [
        {
          "data": {
            "text/html": [
              "<div>\n",
              "<style scoped>\n",
              "    .dataframe tbody tr th:only-of-type {\n",
              "        vertical-align: middle;\n",
              "    }\n",
              "\n",
              "    .dataframe tbody tr th {\n",
              "        vertical-align: top;\n",
              "    }\n",
              "\n",
              "    .dataframe thead th {\n",
              "        text-align: right;\n",
              "    }\n",
              "</style>\n",
              "<table border=\"1\" class=\"dataframe\">\n",
              "  <thead>\n",
              "    <tr style=\"text-align: right;\">\n",
              "      <th></th>\n",
              "      <th>temp</th>\n",
              "      <th>atemp</th>\n",
              "      <th>humidity</th>\n",
              "      <th>windspeed</th>\n",
              "      <th>season_2</th>\n",
              "      <th>season_3</th>\n",
              "      <th>season_4</th>\n",
              "      <th>year_2021</th>\n",
              "      <th>holiday_1</th>\n",
              "      <th>weekday_1</th>\n",
              "      <th>weekday_2</th>\n",
              "      <th>weekday_3</th>\n",
              "      <th>weekday_4</th>\n",
              "      <th>weekday_5</th>\n",
              "      <th>weekday_6</th>\n",
              "      <th>workingday_1:</th>\n",
              "      <th>weather_2</th>\n",
              "      <th>weather_3</th>\n",
              "    </tr>\n",
              "  </thead>\n",
              "  <tbody>\n",
              "    <tr>\n",
              "      <th>0</th>\n",
              "      <td>12</td>\n",
              "      <td>11</td>\n",
              "      <td>66.3</td>\n",
              "      <td>12.5</td>\n",
              "      <td>1</td>\n",
              "      <td>0</td>\n",
              "      <td>0</td>\n",
              "      <td>1</td>\n",
              "      <td>1</td>\n",
              "      <td>0</td>\n",
              "      <td>0</td>\n",
              "      <td>0</td>\n",
              "      <td>0</td>\n",
              "      <td>0</td>\n",
              "      <td>1</td>\n",
              "      <td>0</td>\n",
              "      <td>1</td>\n",
              "      <td>0</td>\n",
              "    </tr>\n",
              "  </tbody>\n",
              "</table>\n",
              "</div>"
            ],
            "text/plain": [
              "   temp  atemp  humidity  windspeed  season_2  season_3  season_4  year_2021  \\\n",
              "0    12     11      66.3       12.5         1         0         0          1   \n",
              "\n",
              "   holiday_1  weekday_1  weekday_2  weekday_3  weekday_4  weekday_5  \\\n",
              "0          1          0          0          0          0          0   \n",
              "\n",
              "   weekday_6  workingday_1:  weather_2  weather_3  \n",
              "0          1              0          1          0  "
            ]
          },
          "execution_count": 58,
          "metadata": {},
          "output_type": "execute_result"
        }
      ],
      "source": [
        "prediction= pd.DataFrame({\n",
        " 'temp': 12,\n",
        " 'atemp': 11,\n",
        " 'humidity': 66.3,\n",
        " 'windspeed': 12.5,\n",
        " 'season_2': 1,\n",
        " 'season_3': 0,\n",
        " 'season_4': 0,\n",
        " 'year_2021': 1,\n",
        " 'holiday_1': 1,\n",
        " 'weekday_1': 0,\n",
        " 'weekday_2': 0,\n",
        " 'weekday_3': 0,\n",
        " 'weekday_4': 0,\n",
        " 'weekday_5': 0,\n",
        " 'weekday_6': 1,\n",
        " 'workingday_1:': 0,\n",
        " 'weather_2': 1,\n",
        " 'weather_3': 0}, index = ['0'])\n",
        "prediction"
      ]
    },
    {
      "cell_type": "code",
      "execution_count": null,
      "metadata": {
        "id": "hBWPvcAqAMWP"
      },
      "outputs": [],
      "source": [
        "orden_deseado = ['temp', 'atemp', 'humidity', 'windspeed', 'season_2', 'season_3', 'season_4',\n",
        "                 'year_2012', 'holiday_1', 'weekday_1', 'weekday_2', 'weekday_3', 'weekday_4', 'weekday_5',\n",
        "                 'weekday_6', 'workingday_1', 'weather_2', 'weather_3']"
      ]
    },
    {
      "cell_type": "code",
      "execution_count": null,
      "metadata": {
        "id": "t1y7Eq8wAMWP",
        "outputId": "fde34656-991a-4b45-ecfa-87c81bc54542"
      },
      "outputs": [
        {
          "data": {
            "text/html": [
              "<div>\n",
              "<style scoped>\n",
              "    .dataframe tbody tr th:only-of-type {\n",
              "        vertical-align: middle;\n",
              "    }\n",
              "\n",
              "    .dataframe tbody tr th {\n",
              "        vertical-align: top;\n",
              "    }\n",
              "\n",
              "    .dataframe thead th {\n",
              "        text-align: right;\n",
              "    }\n",
              "</style>\n",
              "<table border=\"1\" class=\"dataframe\">\n",
              "  <thead>\n",
              "    <tr style=\"text-align: right;\">\n",
              "      <th></th>\n",
              "      <th>temp</th>\n",
              "      <th>atemp</th>\n",
              "      <th>humidity</th>\n",
              "      <th>windspeed</th>\n",
              "      <th>season_2</th>\n",
              "      <th>season_3</th>\n",
              "      <th>season_4</th>\n",
              "      <th>year_2021</th>\n",
              "      <th>holiday_1</th>\n",
              "      <th>weekday_1</th>\n",
              "      <th>weekday_2</th>\n",
              "      <th>weekday_3</th>\n",
              "      <th>weekday_4</th>\n",
              "      <th>weekday_5</th>\n",
              "      <th>weekday_6</th>\n",
              "      <th>workingday_1:</th>\n",
              "      <th>weather_2</th>\n",
              "      <th>weather_3</th>\n",
              "    </tr>\n",
              "  </thead>\n",
              "  <tbody>\n",
              "    <tr>\n",
              "      <th>0</th>\n",
              "      <td>12</td>\n",
              "      <td>11</td>\n",
              "      <td>66.3</td>\n",
              "      <td>12.5</td>\n",
              "      <td>1</td>\n",
              "      <td>0</td>\n",
              "      <td>0</td>\n",
              "      <td>1</td>\n",
              "      <td>1</td>\n",
              "      <td>0</td>\n",
              "      <td>0</td>\n",
              "      <td>0</td>\n",
              "      <td>0</td>\n",
              "      <td>0</td>\n",
              "      <td>1</td>\n",
              "      <td>0</td>\n",
              "      <td>1</td>\n",
              "      <td>0</td>\n",
              "    </tr>\n",
              "  </tbody>\n",
              "</table>\n",
              "</div>"
            ],
            "text/plain": [
              "   temp  atemp  humidity  windspeed  season_2  season_3  season_4  year_2021  \\\n",
              "0    12     11      66.3       12.5         1         0         0          1   \n",
              "\n",
              "   holiday_1  weekday_1  weekday_2  weekday_3  weekday_4  weekday_5  \\\n",
              "0          1          0          0          0          0          0   \n",
              "\n",
              "   weekday_6  workingday_1:  weather_2  weather_3  \n",
              "0          1              0          1          0  "
            ]
          },
          "execution_count": 60,
          "metadata": {},
          "output_type": "execute_result"
        }
      ],
      "source": [
        "prediction"
      ]
    },
    {
      "cell_type": "code",
      "execution_count": null,
      "metadata": {
        "id": "6X2W0MLXKdxZ"
      },
      "outputs": [],
      "source": [
        "prediction['const'] = 1.0"
      ]
    },
    {
      "cell_type": "code",
      "execution_count": null,
      "metadata": {
        "id": "iTkIwxSoKdxa",
        "outputId": "d94f5760-4845-4e14-ad0c-6d20c606b5cd"
      },
      "outputs": [
        {
          "data": {
            "text/html": [
              "<div>\n",
              "<style scoped>\n",
              "    .dataframe tbody tr th:only-of-type {\n",
              "        vertical-align: middle;\n",
              "    }\n",
              "\n",
              "    .dataframe tbody tr th {\n",
              "        vertical-align: top;\n",
              "    }\n",
              "\n",
              "    .dataframe thead th {\n",
              "        text-align: right;\n",
              "    }\n",
              "</style>\n",
              "<table border=\"1\" class=\"dataframe\">\n",
              "  <thead>\n",
              "    <tr style=\"text-align: right;\">\n",
              "      <th></th>\n",
              "      <th>const</th>\n",
              "      <th>atemp</th>\n",
              "      <th>year_2021</th>\n",
              "      <th>season_4</th>\n",
              "      <th>weather_3</th>\n",
              "      <th>weather_2</th>\n",
              "      <th>season_2</th>\n",
              "      <th>season_3</th>\n",
              "      <th>windspeed</th>\n",
              "      <th>humidity</th>\n",
              "      <th>holiday_1</th>\n",
              "      <th>temp</th>\n",
              "    </tr>\n",
              "  </thead>\n",
              "  <tbody>\n",
              "    <tr>\n",
              "      <th>0</th>\n",
              "      <td>1.0</td>\n",
              "      <td>11</td>\n",
              "      <td>1</td>\n",
              "      <td>0</td>\n",
              "      <td>0</td>\n",
              "      <td>1</td>\n",
              "      <td>1</td>\n",
              "      <td>0</td>\n",
              "      <td>12.5</td>\n",
              "      <td>66.3</td>\n",
              "      <td>1</td>\n",
              "      <td>12</td>\n",
              "    </tr>\n",
              "  </tbody>\n",
              "</table>\n",
              "</div>"
            ],
            "text/plain": [
              "   const  atemp  year_2021  season_4  weather_3  weather_2  season_2  \\\n",
              "0    1.0     11          1         0          0          1         1   \n",
              "\n",
              "   season_3  windspeed  humidity  holiday_1  temp  \n",
              "0         0       12.5      66.3          1    12  "
            ]
          },
          "execution_count": 62,
          "metadata": {},
          "output_type": "execute_result"
        }
      ],
      "source": [
        "variables_prediccion = prediction[ford_selection]\n",
        "variables_prediccion"
      ]
    },
    {
      "cell_type": "code",
      "execution_count": null,
      "metadata": {
        "id": "4fW_Dw6TKdxa",
        "outputId": "f2abb2ca-d92b-4293-db20-9199fb31d3bf"
      },
      "outputs": [
        {
          "name": "stdout",
          "output_type": "stream",
          "text": [
            "Predicción de arriendos de bicicletas para el día dado:\n"
          ]
        },
        {
          "data": {
            "text/plain": [
              "0    4462.903848\n",
              "dtype: float64"
            ]
          },
          "execution_count": 63,
          "metadata": {},
          "output_type": "execute_result"
        }
      ],
      "source": [
        "y_pred= model_fordward.predict(variables_prediccion)\n",
        "print(\"Predicción de arriendos de bicicletas para el día dado:\")\n",
        "y_pred"
      ]
    },
    {
      "cell_type": "code",
      "execution_count": null,
      "metadata": {
        "id": "nC4JdDJqAMWP",
        "outputId": "3f73bb27-5514-44d9-c693-ecfed9a029cc"
      },
      "outputs": [
        {
          "name": "stdout",
          "output_type": "stream",
          "text": [
            "Predicción de arriendos de bicicletas para el día:\n",
            "0    4462.903848\n",
            "dtype: float64\n"
          ]
        }
      ],
      "source": [
        "print(\"Predicción de arriendos de bicicletas para el día:\")\n",
        "print(y_pred)"
      ]
    },
    {
      "cell_type": "markdown",
      "metadata": {
        "id": "XowLkyv7AMWQ"
      },
      "source": [
        "## Regresión logística\n",
        "En un centro meteorológico, se contratan sus servicios como Data Scientist para construir un modelo que prediga si lloverá o no en las próximas 24 horas, utilizando información de las 24 horas previas. Se dispone de un conjunto de 19 variables meteorológicas. La descripción de las variables es la siguiente:\n",
        "\n",
        "* MinTemp Temperatura mínima registrada.\n",
        "* MaxTemp Temperatura máxima registrada.\n",
        "* Lluvia Cantidad de lluvia registrada ese día en mm.\n",
        "* Evaporacion Evaporación (mm) en 24 horas.\n",
        "* Sol Número de horas de sol brillante en el día.\n",
        "* VelRafaga La velocidad (km/h) de la ráfaga de viento más fuerte en las 24 horas hasta la medianoche.\n",
        "* Vel9am La velocidad (km/h) de la ráfaga de viento a las 9am.\n",
        "* Vel3pm La velocidad (km/h) de la ráfaga de viento a las 9am.\n",
        "* Hum9am Porcentaje de humedad a las 9am.\n",
        "* Hum3pm Porcentaje de humedad a las 3pm.\n",
        "* Pres9am Presión atmosférica (hpa) a nivel del mar a las 9am.\n",
        "* Pre3pm Presión atmosférica (hpa) a nivel del mar a las 3pm.\n",
        "* Nub9am Fracción del cielo cubierto por nubes a las 9am. Se mide en “octavos”, de manera que un valor 0 indica cielo. totalmente despejado y 8, cielo totalmente cubierto.\n",
        "* Nub3pm Fracción del cielo cubierto por nubes a las 3pm. Se mide en “octavos”, de manera que un valor 0 indica cielo. totalmente despejado y 8, cielo totalmente cubierto.\n",
        "* Temp9am Temperatura en grados celsius a las 9am.\n",
        "* Temp3pm Temperatura en grados celsius a las 3pm.\n",
        "* LluviaHoy Variable indicadora que toma el valor 1 si la precipitación en mm. en las últimas 24 horas. excede 1 mm. y 0, si no.\n",
        "* Koppen Clasificación Koppen de la zona de medición (Temperate, Subtropical, Grassland, Tropical, Desert).\n",
        "* Estación Estación del Año.\n",
        "* LluviaMan Indicador de lluvia al día siguiente de la medición."
      ]
    },
    {
      "cell_type": "markdown",
      "metadata": {
        "id": "Vr_KXYItAMWQ"
      },
      "source": [
        "### Pregunta 7\n",
        "Cargue la base de datos Lluvia_full.csv, codifique la variable LluviaMan como 0 y 1 para los días sin lluvia y con lluvia respectivamente. Además, realice una separación de la base de datos en un set de entrenamiento y set de validación. Utilice una proporción de 80:20 respectivamente. Para poder replicar sus resultados, fije una semilla antes de obtener los indices. Para ello utilice la función random.seed(2023)."
      ]
    },
    {
      "cell_type": "code",
      "execution_count": null,
      "metadata": {
        "id": "E61QsGU3AMWQ",
        "outputId": "7110b3e8-ef14-409a-f73b-dbc821c3d92e"
      },
      "outputs": [
        {
          "data": {
            "text/plain": [
              "No     43993\n",
              "Yes    12427\n",
              "Name: LluviaMan, dtype: int64"
            ]
          },
          "execution_count": 65,
          "metadata": {},
          "output_type": "execute_result"
        }
      ],
      "source": [
        "data_lluvia = pd.read_csv(\"Lluvia_full.csv\")\n",
        "data_lluvia.LluviaMan.value_counts()"
      ]
    },
    {
      "cell_type": "code",
      "execution_count": null,
      "metadata": {
        "id": "-pU7V0GZAMWQ",
        "outputId": "67073197-19df-49d7-b942-4aad2088720b"
      },
      "outputs": [
        {
          "data": {
            "text/plain": [
              "<bound method NDFrame.head of        MinTemp  MaxTemp  Lluvia  Evaporacion   Sol  VelRafaga  Vel9am  Vel3pm  \\\n",
              "0          7.6     19.3     0.0          3.4   9.4       35.0    13.0    13.0   \n",
              "1          6.8     19.5     0.0          3.4   9.4       46.0    19.0    28.0   \n",
              "2          5.5     13.9     0.0          2.8   3.8       44.0    26.0    13.0   \n",
              "3          8.6     14.3     0.0          2.8   3.8       35.0    13.0    17.0   \n",
              "4          7.9     13.0     0.0          2.8   3.8       39.0    15.0    17.0   \n",
              "...        ...      ...     ...          ...   ...        ...     ...     ...   \n",
              "56415      7.6     16.1     2.8          5.6  10.6       50.0    20.0    28.0   \n",
              "56416     13.3     15.5    39.8          7.2   9.1       54.0    30.0    24.0   \n",
              "56417     13.7     23.4     3.6          5.8   3.3       85.0     6.0     6.0   \n",
              "56418     14.0     26.9     3.6          4.4   9.7       39.0     4.0    17.0   \n",
              "56419      8.0     24.3     0.0          3.4   6.3       30.0     6.0    20.0   \n",
              "\n",
              "       Hum9am  Hum3pm  Pres9am  Pre3pm  Nub9am  Nub3pm  Temp9am  Temp3pm  \\\n",
              "0        73.0    32.0   1018.6  1015.4     1.0     1.0      9.4     18.8   \n",
              "1        67.0    42.0   1018.4  1015.2     1.0     1.0     11.9     17.9   \n",
              "2        72.0    58.0   1017.8  1015.5     7.0     7.0      8.1     12.2   \n",
              "3        67.0    56.0   1017.4  1015.0     7.0     7.0      9.3     13.4   \n",
              "4        68.0    69.0   1017.6  1015.3     7.0     7.0      9.0     11.7   \n",
              "...       ...     ...      ...     ...     ...     ...      ...      ...   \n",
              "56415    68.0    49.0   1018.3  1018.5     7.0     7.0     11.1     15.4   \n",
              "56416    62.0    56.0   1005.5  1007.0     2.0     7.0     13.5     14.1   \n",
              "56417    82.0    69.0   1009.5  1007.2     8.0     7.0     15.4     20.2   \n",
              "56418    80.0    36.0   1012.4  1008.4     5.0     3.0     17.5     25.7   \n",
              "56419    68.0    29.0   1019.7  1015.0     7.0     7.0     14.4     23.6   \n",
              "\n",
              "      LluviaHoy LluviaMan       Koppen   Estacion  \n",
              "0            No        No  Subtropical   Invierno  \n",
              "1            No        No  Subtropical   Invierno  \n",
              "2            No        No    Temperate   Invierno  \n",
              "3            No       Yes    Temperate   Invierno  \n",
              "4            No        No    Temperate   Invierno  \n",
              "...         ...       ...          ...        ...  \n",
              "56415       Yes        No    Temperate  Primavera  \n",
              "56416       Yes       Yes    Temperate  Primavera  \n",
              "56417       Yes       Yes    Temperate  Primavera  \n",
              "56418       Yes       Yes    Temperate  Primavera  \n",
              "56419        No       Yes    Temperate  Primavera  \n",
              "\n",
              "[56420 rows x 20 columns]>"
            ]
          },
          "execution_count": 66,
          "metadata": {},
          "output_type": "execute_result"
        }
      ],
      "source": [
        "data_lluvia.head"
      ]
    },
    {
      "cell_type": "code",
      "execution_count": null,
      "metadata": {
        "id": "_AkasbuzAMWQ",
        "outputId": "c212e18b-01b3-4dda-ccd2-6805f71e4360"
      },
      "outputs": [
        {
          "name": "stdout",
          "output_type": "stream",
          "text": [
            "<class 'pandas.core.frame.DataFrame'>\n",
            "RangeIndex: 56420 entries, 0 to 56419\n",
            "Data columns (total 20 columns):\n",
            " #   Column       Non-Null Count  Dtype  \n",
            "---  ------       --------------  -----  \n",
            " 0   MinTemp      56420 non-null  float64\n",
            " 1   MaxTemp      56420 non-null  float64\n",
            " 2   Lluvia       56420 non-null  float64\n",
            " 3   Evaporacion  56420 non-null  float64\n",
            " 4   Sol          56420 non-null  float64\n",
            " 5   VelRafaga    56420 non-null  float64\n",
            " 6   Vel9am       56420 non-null  float64\n",
            " 7   Vel3pm       56420 non-null  float64\n",
            " 8   Hum9am       56420 non-null  float64\n",
            " 9   Hum3pm       56420 non-null  float64\n",
            " 10  Pres9am      56420 non-null  float64\n",
            " 11  Pre3pm       56420 non-null  float64\n",
            " 12  Nub9am       56420 non-null  float64\n",
            " 13  Nub3pm       56420 non-null  float64\n",
            " 14  Temp9am      56420 non-null  float64\n",
            " 15  Temp3pm      56420 non-null  float64\n",
            " 16  LluviaHoy    56420 non-null  object \n",
            " 17  LluviaMan    56420 non-null  object \n",
            " 18  Koppen       56420 non-null  object \n",
            " 19  Estacion     56420 non-null  object \n",
            "dtypes: float64(16), object(4)\n",
            "memory usage: 8.6+ MB\n"
          ]
        }
      ],
      "source": [
        "data_lluvia.info()"
      ]
    },
    {
      "cell_type": "code",
      "execution_count": null,
      "metadata": {
        "id": "PSYfQyooAMWQ"
      },
      "outputs": [],
      "source": [
        "import numpy as np"
      ]
    },
    {
      "cell_type": "code",
      "execution_count": null,
      "metadata": {
        "id": "Q_vqx7u1AMWQ"
      },
      "outputs": [],
      "source": [
        "data_lluvia['LluviaMan'] = np.where(data_lluvia['LluviaMan']==\"Yes\",1,0)"
      ]
    },
    {
      "cell_type": "code",
      "execution_count": null,
      "metadata": {
        "id": "ipTPspluAMWQ",
        "outputId": "330d28c7-68b4-4654-fdbd-a5620efe4bb5"
      },
      "outputs": [
        {
          "name": "stdout",
          "output_type": "stream",
          "text": [
            "<class 'pandas.core.frame.DataFrame'>\n",
            "RangeIndex: 56420 entries, 0 to 56419\n",
            "Data columns (total 20 columns):\n",
            " #   Column       Non-Null Count  Dtype  \n",
            "---  ------       --------------  -----  \n",
            " 0   MinTemp      56420 non-null  float64\n",
            " 1   MaxTemp      56420 non-null  float64\n",
            " 2   Lluvia       56420 non-null  float64\n",
            " 3   Evaporacion  56420 non-null  float64\n",
            " 4   Sol          56420 non-null  float64\n",
            " 5   VelRafaga    56420 non-null  float64\n",
            " 6   Vel9am       56420 non-null  float64\n",
            " 7   Vel3pm       56420 non-null  float64\n",
            " 8   Hum9am       56420 non-null  float64\n",
            " 9   Hum3pm       56420 non-null  float64\n",
            " 10  Pres9am      56420 non-null  float64\n",
            " 11  Pre3pm       56420 non-null  float64\n",
            " 12  Nub9am       56420 non-null  float64\n",
            " 13  Nub3pm       56420 non-null  float64\n",
            " 14  Temp9am      56420 non-null  float64\n",
            " 15  Temp3pm      56420 non-null  float64\n",
            " 16  LluviaHoy    56420 non-null  object \n",
            " 17  LluviaMan    56420 non-null  int32  \n",
            " 18  Koppen       56420 non-null  object \n",
            " 19  Estacion     56420 non-null  object \n",
            "dtypes: float64(16), int32(1), object(3)\n",
            "memory usage: 8.4+ MB\n"
          ]
        }
      ],
      "source": [
        "data_lluvia.info()"
      ]
    },
    {
      "cell_type": "code",
      "execution_count": null,
      "metadata": {
        "id": "GPRfeLAOAMWR",
        "outputId": "131bafcd-db0b-481f-c037-8ab824046511"
      },
      "outputs": [
        {
          "data": {
            "text/plain": [
              "MinTemp        0\n",
              "MaxTemp        0\n",
              "Lluvia         0\n",
              "Evaporacion    0\n",
              "Sol            0\n",
              "VelRafaga      0\n",
              "Vel9am         0\n",
              "Vel3pm         0\n",
              "Hum9am         0\n",
              "Hum3pm         0\n",
              "Pres9am        0\n",
              "Pre3pm         0\n",
              "Nub9am         0\n",
              "Nub3pm         0\n",
              "Temp9am        0\n",
              "Temp3pm        0\n",
              "LluviaHoy      0\n",
              "LluviaMan      0\n",
              "Koppen         0\n",
              "Estacion       0\n",
              "dtype: int64"
            ]
          },
          "execution_count": 71,
          "metadata": {},
          "output_type": "execute_result"
        }
      ],
      "source": [
        "data_lluvia.isna().sum()"
      ]
    },
    {
      "cell_type": "code",
      "execution_count": null,
      "metadata": {
        "id": "ajXfXQXCAMWR"
      },
      "outputs": [],
      "source": [
        "from sklearn.model_selection import train_test_split"
      ]
    },
    {
      "cell_type": "code",
      "execution_count": null,
      "metadata": {
        "id": "ivSpRmjiAMWR"
      },
      "outputs": [],
      "source": [
        "import random"
      ]
    },
    {
      "cell_type": "code",
      "execution_count": null,
      "metadata": {
        "id": "PeRkeXI0AMWR"
      },
      "outputs": [],
      "source": [
        "X = data_lluvia.drop(['LluviaMan'], axis = 1)\n",
        "y = data_lluvia['LluviaMan']\n",
        "X_train, X_test, y_train, y_test = train_test_split(X, y,\n",
        "                                                   test_size = 0.20,\n",
        "                                                   # train_size = 0.8\n",
        "                                                   random_state = 2023)"
      ]
    },
    {
      "cell_type": "code",
      "execution_count": null,
      "metadata": {
        "id": "wAeCRZyFAMWR",
        "outputId": "0f73d7d8-0421-4749-f875-fc78d0d84e7c"
      },
      "outputs": [
        {
          "data": {
            "text/html": [
              "<div>\n",
              "<style scoped>\n",
              "    .dataframe tbody tr th:only-of-type {\n",
              "        vertical-align: middle;\n",
              "    }\n",
              "\n",
              "    .dataframe tbody tr th {\n",
              "        vertical-align: top;\n",
              "    }\n",
              "\n",
              "    .dataframe thead th {\n",
              "        text-align: right;\n",
              "    }\n",
              "</style>\n",
              "<table border=\"1\" class=\"dataframe\">\n",
              "  <thead>\n",
              "    <tr style=\"text-align: right;\">\n",
              "      <th></th>\n",
              "      <th>MinTemp</th>\n",
              "      <th>MaxTemp</th>\n",
              "      <th>Lluvia</th>\n",
              "      <th>Evaporacion</th>\n",
              "      <th>Sol</th>\n",
              "      <th>VelRafaga</th>\n",
              "      <th>Vel9am</th>\n",
              "      <th>Vel3pm</th>\n",
              "      <th>Hum9am</th>\n",
              "      <th>Hum3pm</th>\n",
              "      <th>Pres9am</th>\n",
              "      <th>Pre3pm</th>\n",
              "      <th>Nub9am</th>\n",
              "      <th>Nub3pm</th>\n",
              "      <th>Temp9am</th>\n",
              "      <th>Temp3pm</th>\n",
              "      <th>LluviaHoy</th>\n",
              "      <th>Koppen</th>\n",
              "      <th>Estacion</th>\n",
              "    </tr>\n",
              "  </thead>\n",
              "  <tbody>\n",
              "    <tr>\n",
              "      <th>31665</th>\n",
              "      <td>17.2</td>\n",
              "      <td>32.8</td>\n",
              "      <td>0.0</td>\n",
              "      <td>12.6</td>\n",
              "      <td>13.4</td>\n",
              "      <td>54.0</td>\n",
              "      <td>22.0</td>\n",
              "      <td>20.0</td>\n",
              "      <td>50.0</td>\n",
              "      <td>33.0</td>\n",
              "      <td>1012.6</td>\n",
              "      <td>1008.8</td>\n",
              "      <td>1.0</td>\n",
              "      <td>2.0</td>\n",
              "      <td>20.4</td>\n",
              "      <td>31.2</td>\n",
              "      <td>No</td>\n",
              "      <td>Temperate</td>\n",
              "      <td>Verano</td>\n",
              "    </tr>\n",
              "    <tr>\n",
              "      <th>36405</th>\n",
              "      <td>8.7</td>\n",
              "      <td>13.8</td>\n",
              "      <td>4.4</td>\n",
              "      <td>0.2</td>\n",
              "      <td>3.2</td>\n",
              "      <td>44.0</td>\n",
              "      <td>13.0</td>\n",
              "      <td>22.0</td>\n",
              "      <td>99.0</td>\n",
              "      <td>65.0</td>\n",
              "      <td>1010.2</td>\n",
              "      <td>1012.1</td>\n",
              "      <td>7.0</td>\n",
              "      <td>6.0</td>\n",
              "      <td>10.8</td>\n",
              "      <td>13.1</td>\n",
              "      <td>Yes</td>\n",
              "      <td>Temperate</td>\n",
              "      <td>Otoño</td>\n",
              "    </tr>\n",
              "    <tr>\n",
              "      <th>35309</th>\n",
              "      <td>4.3</td>\n",
              "      <td>16.6</td>\n",
              "      <td>0.0</td>\n",
              "      <td>2.4</td>\n",
              "      <td>9.4</td>\n",
              "      <td>24.0</td>\n",
              "      <td>7.0</td>\n",
              "      <td>9.0</td>\n",
              "      <td>65.0</td>\n",
              "      <td>38.0</td>\n",
              "      <td>1023.0</td>\n",
              "      <td>1020.7</td>\n",
              "      <td>3.0</td>\n",
              "      <td>2.0</td>\n",
              "      <td>11.3</td>\n",
              "      <td>16.5</td>\n",
              "      <td>No</td>\n",
              "      <td>Temperate</td>\n",
              "      <td>Invierno</td>\n",
              "    </tr>\n",
              "    <tr>\n",
              "      <th>24159</th>\n",
              "      <td>11.1</td>\n",
              "      <td>18.5</td>\n",
              "      <td>1.0</td>\n",
              "      <td>2.8</td>\n",
              "      <td>1.4</td>\n",
              "      <td>52.0</td>\n",
              "      <td>11.0</td>\n",
              "      <td>31.0</td>\n",
              "      <td>93.0</td>\n",
              "      <td>52.0</td>\n",
              "      <td>1019.4</td>\n",
              "      <td>1020.2</td>\n",
              "      <td>8.0</td>\n",
              "      <td>7.0</td>\n",
              "      <td>13.3</td>\n",
              "      <td>16.5</td>\n",
              "      <td>No</td>\n",
              "      <td>Temperate</td>\n",
              "      <td>Otoño</td>\n",
              "    </tr>\n",
              "    <tr>\n",
              "      <th>27018</th>\n",
              "      <td>10.2</td>\n",
              "      <td>15.1</td>\n",
              "      <td>14.8</td>\n",
              "      <td>6.8</td>\n",
              "      <td>5.2</td>\n",
              "      <td>67.0</td>\n",
              "      <td>15.0</td>\n",
              "      <td>37.0</td>\n",
              "      <td>74.0</td>\n",
              "      <td>45.0</td>\n",
              "      <td>1010.6</td>\n",
              "      <td>1013.6</td>\n",
              "      <td>7.0</td>\n",
              "      <td>7.0</td>\n",
              "      <td>12.5</td>\n",
              "      <td>13.0</td>\n",
              "      <td>Yes</td>\n",
              "      <td>Subtropical</td>\n",
              "      <td>Primavera</td>\n",
              "    </tr>\n",
              "  </tbody>\n",
              "</table>\n",
              "</div>"
            ],
            "text/plain": [
              "       MinTemp  MaxTemp  Lluvia  Evaporacion   Sol  VelRafaga  Vel9am  Vel3pm  \\\n",
              "31665     17.2     32.8     0.0         12.6  13.4       54.0    22.0    20.0   \n",
              "36405      8.7     13.8     4.4          0.2   3.2       44.0    13.0    22.0   \n",
              "35309      4.3     16.6     0.0          2.4   9.4       24.0     7.0     9.0   \n",
              "24159     11.1     18.5     1.0          2.8   1.4       52.0    11.0    31.0   \n",
              "27018     10.2     15.1    14.8          6.8   5.2       67.0    15.0    37.0   \n",
              "\n",
              "       Hum9am  Hum3pm  Pres9am  Pre3pm  Nub9am  Nub3pm  Temp9am  Temp3pm  \\\n",
              "31665    50.0    33.0   1012.6  1008.8     1.0     2.0     20.4     31.2   \n",
              "36405    99.0    65.0   1010.2  1012.1     7.0     6.0     10.8     13.1   \n",
              "35309    65.0    38.0   1023.0  1020.7     3.0     2.0     11.3     16.5   \n",
              "24159    93.0    52.0   1019.4  1020.2     8.0     7.0     13.3     16.5   \n",
              "27018    74.0    45.0   1010.6  1013.6     7.0     7.0     12.5     13.0   \n",
              "\n",
              "      LluviaHoy       Koppen   Estacion  \n",
              "31665        No    Temperate     Verano  \n",
              "36405       Yes    Temperate      Otoño  \n",
              "35309        No    Temperate   Invierno  \n",
              "24159        No    Temperate      Otoño  \n",
              "27018       Yes  Subtropical  Primavera  "
            ]
          },
          "execution_count": 75,
          "metadata": {},
          "output_type": "execute_result"
        }
      ],
      "source": [
        "X_train.head()"
      ]
    },
    {
      "cell_type": "code",
      "execution_count": null,
      "metadata": {
        "id": "LuytneC5AMWR",
        "outputId": "315061c7-73e2-4dc3-cb6d-1677f9c2cfee"
      },
      "outputs": [
        {
          "data": {
            "text/html": [
              "<div>\n",
              "<style scoped>\n",
              "    .dataframe tbody tr th:only-of-type {\n",
              "        vertical-align: middle;\n",
              "    }\n",
              "\n",
              "    .dataframe tbody tr th {\n",
              "        vertical-align: top;\n",
              "    }\n",
              "\n",
              "    .dataframe thead th {\n",
              "        text-align: right;\n",
              "    }\n",
              "</style>\n",
              "<table border=\"1\" class=\"dataframe\">\n",
              "  <thead>\n",
              "    <tr style=\"text-align: right;\">\n",
              "      <th></th>\n",
              "      <th>MinTemp</th>\n",
              "      <th>MaxTemp</th>\n",
              "      <th>Lluvia</th>\n",
              "      <th>Evaporacion</th>\n",
              "      <th>Sol</th>\n",
              "      <th>VelRafaga</th>\n",
              "      <th>Vel9am</th>\n",
              "      <th>Vel3pm</th>\n",
              "      <th>Hum9am</th>\n",
              "      <th>Hum3pm</th>\n",
              "      <th>Pres9am</th>\n",
              "      <th>Pre3pm</th>\n",
              "      <th>Nub9am</th>\n",
              "      <th>Nub3pm</th>\n",
              "      <th>Temp9am</th>\n",
              "      <th>Temp3pm</th>\n",
              "      <th>LluviaHoy</th>\n",
              "      <th>Koppen</th>\n",
              "      <th>Estacion</th>\n",
              "    </tr>\n",
              "  </thead>\n",
              "  <tbody>\n",
              "    <tr>\n",
              "      <th>14215</th>\n",
              "      <td>19.6</td>\n",
              "      <td>29.6</td>\n",
              "      <td>0.0</td>\n",
              "      <td>10.6</td>\n",
              "      <td>11.1</td>\n",
              "      <td>41.0</td>\n",
              "      <td>24.0</td>\n",
              "      <td>22.0</td>\n",
              "      <td>58.0</td>\n",
              "      <td>46.0</td>\n",
              "      <td>1016.7</td>\n",
              "      <td>1013.7</td>\n",
              "      <td>4.0</td>\n",
              "      <td>2.0</td>\n",
              "      <td>25.5</td>\n",
              "      <td>27.7</td>\n",
              "      <td>No</td>\n",
              "      <td>Temperate</td>\n",
              "      <td>Primavera</td>\n",
              "    </tr>\n",
              "    <tr>\n",
              "      <th>35351</th>\n",
              "      <td>8.6</td>\n",
              "      <td>11.2</td>\n",
              "      <td>2.0</td>\n",
              "      <td>0.0</td>\n",
              "      <td>0.0</td>\n",
              "      <td>54.0</td>\n",
              "      <td>30.0</td>\n",
              "      <td>30.0</td>\n",
              "      <td>83.0</td>\n",
              "      <td>75.0</td>\n",
              "      <td>1027.7</td>\n",
              "      <td>1026.8</td>\n",
              "      <td>7.0</td>\n",
              "      <td>7.0</td>\n",
              "      <td>10.3</td>\n",
              "      <td>10.9</td>\n",
              "      <td>Yes</td>\n",
              "      <td>Temperate</td>\n",
              "      <td>Invierno</td>\n",
              "    </tr>\n",
              "    <tr>\n",
              "      <th>40305</th>\n",
              "      <td>6.7</td>\n",
              "      <td>16.2</td>\n",
              "      <td>0.8</td>\n",
              "      <td>3.4</td>\n",
              "      <td>6.0</td>\n",
              "      <td>46.0</td>\n",
              "      <td>22.0</td>\n",
              "      <td>28.0</td>\n",
              "      <td>76.0</td>\n",
              "      <td>66.0</td>\n",
              "      <td>1021.8</td>\n",
              "      <td>1022.8</td>\n",
              "      <td>7.0</td>\n",
              "      <td>7.0</td>\n",
              "      <td>11.8</td>\n",
              "      <td>14.1</td>\n",
              "      <td>No</td>\n",
              "      <td>Temperate</td>\n",
              "      <td>Primavera</td>\n",
              "    </tr>\n",
              "    <tr>\n",
              "      <th>27060</th>\n",
              "      <td>7.1</td>\n",
              "      <td>26.3</td>\n",
              "      <td>0.0</td>\n",
              "      <td>8.0</td>\n",
              "      <td>9.8</td>\n",
              "      <td>43.0</td>\n",
              "      <td>31.0</td>\n",
              "      <td>15.0</td>\n",
              "      <td>22.0</td>\n",
              "      <td>12.0</td>\n",
              "      <td>1019.2</td>\n",
              "      <td>1013.9</td>\n",
              "      <td>0.0</td>\n",
              "      <td>0.0</td>\n",
              "      <td>18.0</td>\n",
              "      <td>24.9</td>\n",
              "      <td>No</td>\n",
              "      <td>Desert</td>\n",
              "      <td>Primavera</td>\n",
              "    </tr>\n",
              "    <tr>\n",
              "      <th>17976</th>\n",
              "      <td>21.0</td>\n",
              "      <td>26.7</td>\n",
              "      <td>0.0</td>\n",
              "      <td>11.8</td>\n",
              "      <td>6.7</td>\n",
              "      <td>43.0</td>\n",
              "      <td>26.0</td>\n",
              "      <td>28.0</td>\n",
              "      <td>58.0</td>\n",
              "      <td>47.0</td>\n",
              "      <td>1015.5</td>\n",
              "      <td>1013.3</td>\n",
              "      <td>8.0</td>\n",
              "      <td>5.0</td>\n",
              "      <td>22.3</td>\n",
              "      <td>25.9</td>\n",
              "      <td>No</td>\n",
              "      <td>Subtropical</td>\n",
              "      <td>Otoño</td>\n",
              "    </tr>\n",
              "  </tbody>\n",
              "</table>\n",
              "</div>"
            ],
            "text/plain": [
              "       MinTemp  MaxTemp  Lluvia  Evaporacion   Sol  VelRafaga  Vel9am  Vel3pm  \\\n",
              "14215     19.6     29.6     0.0         10.6  11.1       41.0    24.0    22.0   \n",
              "35351      8.6     11.2     2.0          0.0   0.0       54.0    30.0    30.0   \n",
              "40305      6.7     16.2     0.8          3.4   6.0       46.0    22.0    28.0   \n",
              "27060      7.1     26.3     0.0          8.0   9.8       43.0    31.0    15.0   \n",
              "17976     21.0     26.7     0.0         11.8   6.7       43.0    26.0    28.0   \n",
              "\n",
              "       Hum9am  Hum3pm  Pres9am  Pre3pm  Nub9am  Nub3pm  Temp9am  Temp3pm  \\\n",
              "14215    58.0    46.0   1016.7  1013.7     4.0     2.0     25.5     27.7   \n",
              "35351    83.0    75.0   1027.7  1026.8     7.0     7.0     10.3     10.9   \n",
              "40305    76.0    66.0   1021.8  1022.8     7.0     7.0     11.8     14.1   \n",
              "27060    22.0    12.0   1019.2  1013.9     0.0     0.0     18.0     24.9   \n",
              "17976    58.0    47.0   1015.5  1013.3     8.0     5.0     22.3     25.9   \n",
              "\n",
              "      LluviaHoy       Koppen   Estacion  \n",
              "14215        No    Temperate  Primavera  \n",
              "35351       Yes    Temperate   Invierno  \n",
              "40305        No    Temperate  Primavera  \n",
              "27060        No       Desert  Primavera  \n",
              "17976        No  Subtropical      Otoño  "
            ]
          },
          "execution_count": 76,
          "metadata": {},
          "output_type": "execute_result"
        }
      ],
      "source": [
        "X_test.head()"
      ]
    },
    {
      "cell_type": "markdown",
      "metadata": {
        "id": "d91Vu6I1AMWR"
      },
      "source": [
        "### Pregunta 8\n",
        "Realice un modelo de regresión logística para predecir si lloverá mañana utilizando la variable Evaporación, ¿es este Un factor significativo? Intérprete el odd ratio de la evaporación."
      ]
    },
    {
      "cell_type": "code",
      "execution_count": null,
      "metadata": {
        "colab": {
          "base_uri": "https://localhost:8080/",
          "height": 175
        },
        "id": "2oWbTSprAMWR",
        "outputId": "1bd377f8-5362-4f69-cacd-57c9fcdd4761"
      },
      "outputs": [
        {
          "data": {
            "text/plain": [
              "0    43993\n",
              "1    12427\n",
              "Name: LluviaMan, dtype: int64"
            ]
          },
          "execution_count": 77,
          "metadata": {},
          "output_type": "execute_result"
        }
      ],
      "source": [
        "data_lluvia[\"LluviaMan\"].value_counts()"
      ]
    },
    {
      "cell_type": "code",
      "execution_count": null,
      "metadata": {
        "id": "EAWaLCrGAMWS",
        "outputId": "f1461dc4-4cfc-4c4f-b112-77034822bdff"
      },
      "outputs": [
        {
          "name": "stdout",
          "output_type": "stream",
          "text": [
            "Requirement already satisfied: estyp in c:\\users\\camil\\miniconda3\\envs\\default\\lib\\site-packages (0.6.0)\n",
            "Requirement already satisfied: tqdm>=4.65.0 in c:\\users\\camil\\miniconda3\\envs\\default\\lib\\site-packages (from estyp) (4.65.2)\n",
            "Requirement already satisfied: scipy>=1.10.1 in c:\\users\\camil\\miniconda3\\envs\\default\\lib\\site-packages (from estyp) (1.10.1)\n",
            "Requirement already satisfied: statsmodels>=0.13.5 in c:\\users\\camil\\miniconda3\\envs\\default\\lib\\site-packages (from estyp) (0.14.0)\n",
            "Requirement already satisfied: scikit-learn>=1.3.0 in c:\\users\\camil\\miniconda3\\envs\\default\\lib\\site-packages (from estyp) (1.3.0)\n",
            "Requirement already satisfied: numpy>=1.22.3 in c:\\users\\camil\\miniconda3\\envs\\default\\lib\\site-packages (from estyp) (1.24.3)\n",
            "Requirement already satisfied: matplotlib>=3.4.3 in c:\\users\\camil\\miniconda3\\envs\\default\\lib\\site-packages (from estyp) (3.7.1)\n",
            "Requirement already satisfied: patsy>=0.5.3 in c:\\users\\camil\\miniconda3\\envs\\default\\lib\\site-packages (from estyp) (0.5.3)\n",
            "Requirement already satisfied: kmodes>=0.12.2 in c:\\users\\camil\\miniconda3\\envs\\default\\lib\\site-packages (from estyp) (0.12.2)\n",
            "Requirement already satisfied: joblib>=0.11 in c:\\users\\camil\\miniconda3\\envs\\default\\lib\\site-packages (from kmodes>=0.12.2->estyp) (1.1.1)\n",
            "Requirement already satisfied: fonttools>=4.22.0 in c:\\users\\camil\\miniconda3\\envs\\default\\lib\\site-packages (from matplotlib>=3.4.3->estyp) (4.25.0)\n",
            "Requirement already satisfied: python-dateutil>=2.7 in c:\\users\\camil\\miniconda3\\envs\\default\\lib\\site-packages (from matplotlib>=3.4.3->estyp) (2.8.2)\n",
            "Requirement already satisfied: kiwisolver>=1.0.1 in c:\\users\\camil\\miniconda3\\envs\\default\\lib\\site-packages (from matplotlib>=3.4.3->estyp) (1.4.4)\n",
            "Requirement already satisfied: contourpy>=1.0.1 in c:\\users\\camil\\miniconda3\\envs\\default\\lib\\site-packages (from matplotlib>=3.4.3->estyp) (1.0.5)\n",
            "Requirement already satisfied: importlib-resources>=3.2.0 in c:\\users\\camil\\miniconda3\\envs\\default\\lib\\site-packages (from matplotlib>=3.4.3->estyp) (5.2.0)\n",
            "Requirement already satisfied: pyparsing>=2.3.1 in c:\\users\\camil\\miniconda3\\envs\\default\\lib\\site-packages (from matplotlib>=3.4.3->estyp) (3.0.9)\n",
            "Requirement already satisfied: cycler>=0.10 in c:\\users\\camil\\miniconda3\\envs\\default\\lib\\site-packages (from matplotlib>=3.4.3->estyp) (0.11.0)\n",
            "Requirement already satisfied: packaging>=20.0 in c:\\users\\camil\\miniconda3\\envs\\default\\lib\\site-packages (from matplotlib>=3.4.3->estyp) (23.0)\n",
            "Requirement already satisfied: pillow>=6.2.0 in c:\\users\\camil\\miniconda3\\envs\\default\\lib\\site-packages (from matplotlib>=3.4.3->estyp) (9.4.0)\n",
            "Requirement already satisfied: six in c:\\users\\camil\\miniconda3\\envs\\default\\lib\\site-packages (from patsy>=0.5.3->estyp) (1.16.0)\n",
            "Requirement already satisfied: threadpoolctl>=2.0.0 in c:\\users\\camil\\miniconda3\\envs\\default\\lib\\site-packages (from scikit-learn>=1.3.0->estyp) (2.2.0)\n",
            "Requirement already satisfied: pandas>=1.0 in c:\\users\\camil\\miniconda3\\envs\\default\\lib\\site-packages (from statsmodels>=0.13.5->estyp) (1.5.3)\n",
            "Requirement already satisfied: colorama in c:\\users\\camil\\miniconda3\\envs\\default\\lib\\site-packages (from tqdm>=4.65.0->estyp) (0.4.6)\n",
            "Requirement already satisfied: zipp>=3.1.0 in c:\\users\\camil\\miniconda3\\envs\\default\\lib\\site-packages (from importlib-resources>=3.2.0->matplotlib>=3.4.3->estyp) (3.11.0)\n",
            "Requirement already satisfied: pytz>=2020.1 in c:\\users\\camil\\miniconda3\\envs\\default\\lib\\site-packages (from pandas>=1.0->statsmodels>=0.13.5->estyp) (2022.7)\n",
            "Note: you may need to restart the kernel to use updated packages.\n"
          ]
        }
      ],
      "source": [
        "%pip install estyp -U"
      ]
    },
    {
      "cell_type": "code",
      "execution_count": null,
      "metadata": {
        "id": "kictIbKSAMWS",
        "outputId": "8eb324fb-f932-41a4-e289-85e78c9aaab0"
      },
      "outputs": [
        {
          "name": "stdout",
          "output_type": "stream",
          "text": [
            "Made by Esteban Rucán. Contact me in LinkedIn: https://www.linkedin.com/in/estebanrucan/\n"
          ]
        }
      ],
      "source": [
        "from estyp.linear_model import LogisticRegression"
      ]
    },
    {
      "cell_type": "code",
      "execution_count": null,
      "metadata": {
        "id": "dE6yGq_rKdxf"
      },
      "outputs": [],
      "source": [
        "df_train = pd.concat([X_train, y_train], axis=1)"
      ]
    },
    {
      "cell_type": "code",
      "execution_count": null,
      "metadata": {
        "id": "YnGXvROBKdxf",
        "outputId": "0db0fef1-dc2d-4a8a-87e0-ea2a59273d4e"
      },
      "outputs": [
        {
          "data": {
            "text/plain": [
              "'MinTemp + MaxTemp + Lluvia + Evaporacion + Sol + VelRafaga + Vel9am + Vel3pm + Hum9am + Hum3pm + Pres9am + Pre3pm + Nub9am + Nub3pm + Temp9am + Temp3pm + LluviaHoy + Koppen + Estacion'"
            ]
          },
          "execution_count": 81,
          "metadata": {},
          "output_type": "execute_result"
        }
      ],
      "source": [
        "' + '.join(X_train.columns)"
      ]
    },
    {
      "cell_type": "code",
      "execution_count": null,
      "metadata": {
        "id": "H8cEnZs5Kdxf"
      },
      "outputs": [],
      "source": [
        "formula_LL_EV = 'LluviaMan ~ Evaporacion' + ' + '.join(X_train.columns)"
      ]
    },
    {
      "cell_type": "code",
      "execution_count": null,
      "metadata": {
        "id": "5pvcFjDdKdxf",
        "outputId": "00588130-730a-4a7e-f550-8734808608d2"
      },
      "outputs": [
        {
          "data": {
            "text/html": [
              "<div>\n",
              "<style scoped>\n",
              "    .dataframe tbody tr th:only-of-type {\n",
              "        vertical-align: middle;\n",
              "    }\n",
              "\n",
              "    .dataframe tbody tr th {\n",
              "        vertical-align: top;\n",
              "    }\n",
              "\n",
              "    .dataframe thead th {\n",
              "        text-align: right;\n",
              "    }\n",
              "</style>\n",
              "<table border=\"1\" class=\"dataframe\">\n",
              "  <thead>\n",
              "    <tr style=\"text-align: right;\">\n",
              "      <th></th>\n",
              "      <th>Estimate</th>\n",
              "      <th>S.E.</th>\n",
              "      <th>z</th>\n",
              "      <th>Pr(&gt;|z|)</th>\n",
              "      <th>[Lower,</th>\n",
              "      <th>Upper]</th>\n",
              "    </tr>\n",
              "  </thead>\n",
              "  <tbody>\n",
              "    <tr>\n",
              "      <th>Intercept</th>\n",
              "      <td>-0.729810</td>\n",
              "      <td>0.021186</td>\n",
              "      <td>-34.447901</td>\n",
              "      <td>4.840826e-260</td>\n",
              "      <td>-0.771334</td>\n",
              "      <td>-0.688287</td>\n",
              "    </tr>\n",
              "    <tr>\n",
              "      <th>Evaporacion</th>\n",
              "      <td>-0.103043</td>\n",
              "      <td>0.003711</td>\n",
              "      <td>-27.765121</td>\n",
              "      <td>1.144599e-169</td>\n",
              "      <td>-0.110317</td>\n",
              "      <td>-0.095769</td>\n",
              "    </tr>\n",
              "  </tbody>\n",
              "</table>\n",
              "</div>"
            ],
            "text/plain": [
              "             Estimate      S.E.          z       Pr(>|z|)   [Lower,    Upper]\n",
              "Intercept   -0.729810  0.021186 -34.447901  4.840826e-260 -0.771334 -0.688287\n",
              "Evaporacion -0.103043  0.003711 -27.765121  1.144599e-169 -0.110317 -0.095769"
            ]
          },
          "execution_count": 83,
          "metadata": {},
          "output_type": "execute_result"
        }
      ],
      "source": [
        "model_logist = LogisticRegression.from_formula('LluviaMan ~ Evaporacion',df_train).fit()\n",
        "model_logist.summary()"
      ]
    },
    {
      "cell_type": "markdown",
      "metadata": {
        "id": "J8paYAQ7AMWS"
      },
      "source": [
        "Un aumento de una unidad en la variable \"Evaporación\" se asocia con una disminución de aproximadamente 9.8% en la odds de que ocurra el evento \"lloverá mañana\". En otras palabras, a medida que la evaporación aumenta, la probabilidad de que ocurra lluvia mañana disminuye en alrededor del 9.8%.\n",
        "\n",
        "La significancia de la variable \"Evaporación\" se evalúa mediante el valor p (Pr(>|z|)). En este caso, el valor p es muy cercano a cero (1.144599e-169), lo que indica que la variable \"Evaporación\" es altamente significativa en la predicción del evento \"lloverá mañana\".\n",
        "\n",
        "En resumen, según el modelo de regresión logística, la variable \"Evaporación\" es un factor significativo para predecir si lloverá mañana. Un aumento en la evaporación se asocia con una disminución en las probabilidades de lluvia, y el odd ratio de la evaporación es aproximadamente 0.902, lo que significa una reducción del 9.8% en las odds de lluvia por cada unidad de aumento en la evaporación."
      ]
    },
    {
      "cell_type": "markdown",
      "metadata": {
        "id": "XL4K1yorAMWS"
      },
      "source": [
        "### Pregunta 9\n",
        "Utilizando un método automatizado, ajuste un modelo de regresión logística, utilizando la metodología de dirección both (forward y backward a la vez)."
      ]
    },
    {
      "cell_type": "code",
      "execution_count": null,
      "metadata": {
        "id": "xryAP_-TAMWS"
      },
      "outputs": [],
      "source": [
        "# data, X_train y y_train\n",
        "data_train = pd.concat([X_train, y_train], axis=1)"
      ]
    },
    {
      "cell_type": "code",
      "execution_count": null,
      "metadata": {
        "id": "AUqFaL5FAMWT",
        "outputId": "f26e8b74-fd3b-4e12-81a4-e32142813b7a"
      },
      "outputs": [
        {
          "data": {
            "text/plain": [
              "'MinTemp + MaxTemp + Lluvia + Evaporacion + Sol + VelRafaga + Vel9am + Vel3pm + Hum9am + Hum3pm + Pres9am + Pre3pm + Nub9am + Nub3pm + Temp9am + Temp3pm + LluviaHoy + Koppen + Estacion'"
            ]
          },
          "execution_count": 85,
          "metadata": {},
          "output_type": "execute_result"
        }
      ],
      "source": [
        "' + '.join(X_train.columns)"
      ]
    },
    {
      "cell_type": "code",
      "execution_count": null,
      "metadata": {
        "id": "CO7NNEJrAMWT",
        "outputId": "75439c3d-ec66-4ae4-a989-982edee5f63c"
      },
      "outputs": [
        {
          "data": {
            "text/plain": [
              "31665    0\n",
              "36405    1\n",
              "35309    0\n",
              "24159    1\n",
              "27018    1\n",
              "        ..\n",
              "38817    0\n",
              "51895    0\n",
              "47558    0\n",
              "22041    1\n",
              "54103    0\n",
              "Name: LluviaMan, Length: 45136, dtype: int32"
            ]
          },
          "execution_count": 86,
          "metadata": {},
          "output_type": "execute_result"
        }
      ],
      "source": [
        "y_train"
      ]
    },
    {
      "cell_type": "code",
      "execution_count": null,
      "metadata": {
        "id": "8Fi08HneAMWT"
      },
      "outputs": [],
      "source": [
        "formula = 'LluviaMan ~ ' + ' + '.join(X_train.columns)# y ~ x1+ x2 + x3,"
      ]
    },
    {
      "cell_type": "code",
      "execution_count": null,
      "metadata": {
        "id": "GyvhjYUTAMWT"
      },
      "outputs": [],
      "source": [
        "from estyp.linear_model import LogisticRegression\n",
        "from estyp.linear_model.stepwise import both_selection\n",
        "from warnings import filterwarnings\n",
        "filterwarnings('ignore') # ignorar las advertencias\n",
        "formula_resultante = both_selection(\n",
        "                        formula = formula,# y ~ x1+ x2 + x3,\n",
        "                        data = data_train,# tiene los predictores y tiene la variable respuesta,\n",
        "                        model = LogisticRegression)"
      ]
    },
    {
      "cell_type": "code",
      "execution_count": null,
      "metadata": {
        "id": "UBYeyoHNAMWT",
        "outputId": "3819c168-2b94-4dc6-d979-c3e27314fae9"
      },
      "outputs": [
        {
          "data": {
            "text/plain": [
              "'LluviaMan ~ MinTemp + MaxTemp + Lluvia + Evaporacion + Sol + VelRafaga + Vel9am + Vel3pm + Hum9am + Hum3pm + Pres9am + Pre3pm + Nub9am + Nub3pm + Temp3pm + LluviaHoy + Koppen + Estacion'"
            ]
          },
          "execution_count": 89,
          "metadata": {},
          "output_type": "execute_result"
        }
      ],
      "source": [
        "formula_resultante"
      ]
    },
    {
      "cell_type": "code",
      "execution_count": null,
      "metadata": {
        "id": "vvhfyxmcAMWU",
        "outputId": "51f25b24-2a17-419d-873a-759a329b0958"
      },
      "outputs": [
        {
          "name": "stdout",
          "output_type": "stream",
          "text": [
            "Optimization terminated successfully.\n",
            "         Current function value: 0.332973\n",
            "         Iterations 7\n"
          ]
        }
      ],
      "source": [
        "import statsmodels.formula.api as smf\n",
        "#statsmodels.api -> Logit\n",
        "model = smf.logit(formula_resultante, data = data_train).fit()"
      ]
    },
    {
      "cell_type": "code",
      "execution_count": null,
      "metadata": {
        "id": "_AQkpAp6AMWU",
        "outputId": "cbe1f5b8-a96e-4cb2-eabb-6b075fae5917"
      },
      "outputs": [
        {
          "name": "stdout",
          "output_type": "stream",
          "text": [
            "<class 'pandas.core.frame.DataFrame'>\n",
            "Int64Index: 45136 entries, 31665 to 54103\n",
            "Data columns (total 20 columns):\n",
            " #   Column       Non-Null Count  Dtype  \n",
            "---  ------       --------------  -----  \n",
            " 0   MinTemp      45136 non-null  float64\n",
            " 1   MaxTemp      45136 non-null  float64\n",
            " 2   Lluvia       45136 non-null  float64\n",
            " 3   Evaporacion  45136 non-null  float64\n",
            " 4   Sol          45136 non-null  float64\n",
            " 5   VelRafaga    45136 non-null  float64\n",
            " 6   Vel9am       45136 non-null  float64\n",
            " 7   Vel3pm       45136 non-null  float64\n",
            " 8   Hum9am       45136 non-null  float64\n",
            " 9   Hum3pm       45136 non-null  float64\n",
            " 10  Pres9am      45136 non-null  float64\n",
            " 11  Pre3pm       45136 non-null  float64\n",
            " 12  Nub9am       45136 non-null  float64\n",
            " 13  Nub3pm       45136 non-null  float64\n",
            " 14  Temp9am      45136 non-null  float64\n",
            " 15  Temp3pm      45136 non-null  float64\n",
            " 16  LluviaHoy    45136 non-null  object \n",
            " 17  Koppen       45136 non-null  object \n",
            " 18  Estacion     45136 non-null  object \n",
            " 19  LluviaMan    45136 non-null  int32  \n",
            "dtypes: float64(16), int32(1), object(3)\n",
            "memory usage: 7.1+ MB\n"
          ]
        }
      ],
      "source": [
        "data_train.info()"
      ]
    },
    {
      "cell_type": "code",
      "execution_count": null,
      "metadata": {
        "id": "O48xSlDKAMWU",
        "outputId": "b4cf82ab-5814-4005-e9a7-a83bfd2554c9"
      },
      "outputs": [
        {
          "data": {
            "text/html": [
              "<table class=\"simpletable\">\n",
              "<caption>Logit Regression Results</caption>\n",
              "<tr>\n",
              "  <th>Dep. Variable:</th>       <td>LluviaMan</td>    <th>  No. Observations:  </th>  <td> 45136</td> \n",
              "</tr>\n",
              "<tr>\n",
              "  <th>Model:</th>                 <td>Logit</td>      <th>  Df Residuals:      </th>  <td> 45113</td> \n",
              "</tr>\n",
              "<tr>\n",
              "  <th>Method:</th>                 <td>MLE</td>       <th>  Df Model:          </th>  <td>    22</td> \n",
              "</tr>\n",
              "<tr>\n",
              "  <th>Date:</th>            <td>Tue, 08 Aug 2023</td> <th>  Pseudo R-squ.:     </th>  <td>0.3697</td> \n",
              "</tr>\n",
              "<tr>\n",
              "  <th>Time:</th>                <td>22:36:35</td>     <th>  Log-Likelihood:    </th> <td> -15029.</td>\n",
              "</tr>\n",
              "<tr>\n",
              "  <th>converged:</th>             <td>True</td>       <th>  LL-Null:           </th> <td> -23846.</td>\n",
              "</tr>\n",
              "<tr>\n",
              "  <th>Covariance Type:</th>     <td>nonrobust</td>    <th>  LLR p-value:       </th>  <td> 0.000</td> \n",
              "</tr>\n",
              "</table>\n",
              "<table class=\"simpletable\">\n",
              "<tr>\n",
              "            <td></td>               <th>coef</th>     <th>std err</th>      <th>z</th>      <th>P>|z|</th>  <th>[0.025</th>    <th>0.975]</th>  \n",
              "</tr>\n",
              "<tr>\n",
              "  <th>Intercept</th>             <td>   63.1688</td> <td>    2.823</td> <td>   22.376</td> <td> 0.000</td> <td>   57.636</td> <td>   68.702</td>\n",
              "</tr>\n",
              "<tr>\n",
              "  <th>LluviaHoy[T.Yes]</th>      <td>    0.4644</td> <td>    0.041</td> <td>   11.447</td> <td> 0.000</td> <td>    0.385</td> <td>    0.544</td>\n",
              "</tr>\n",
              "<tr>\n",
              "  <th>Koppen[T.Grassland]</th>   <td>   -0.0091</td> <td>    0.150</td> <td>   -0.061</td> <td> 0.951</td> <td>   -0.302</td> <td>    0.284</td>\n",
              "</tr>\n",
              "<tr>\n",
              "  <th>Koppen[T.Subtropical]</th> <td>    0.4526</td> <td>    0.135</td> <td>    3.343</td> <td> 0.001</td> <td>    0.187</td> <td>    0.718</td>\n",
              "</tr>\n",
              "<tr>\n",
              "  <th>Koppen[T.Temperate]</th>   <td>    0.0450</td> <td>    0.135</td> <td>    0.334</td> <td> 0.738</td> <td>   -0.219</td> <td>    0.309</td>\n",
              "</tr>\n",
              "<tr>\n",
              "  <th>Estacion[T.Otoño]</th>     <td>    0.0251</td> <td>    0.045</td> <td>    0.556</td> <td> 0.578</td> <td>   -0.063</td> <td>    0.113</td>\n",
              "</tr>\n",
              "<tr>\n",
              "  <th>Estacion[T.Primavera]</th> <td>    0.0653</td> <td>    0.046</td> <td>    1.406</td> <td> 0.160</td> <td>   -0.026</td> <td>    0.156</td>\n",
              "</tr>\n",
              "<tr>\n",
              "  <th>Estacion[T.Verano]</th>    <td>   -0.2229</td> <td>    0.056</td> <td>   -3.949</td> <td> 0.000</td> <td>   -0.334</td> <td>   -0.112</td>\n",
              "</tr>\n",
              "<tr>\n",
              "  <th>MinTemp</th>               <td>   -0.0414</td> <td>    0.006</td> <td>   -6.591</td> <td> 0.000</td> <td>   -0.054</td> <td>   -0.029</td>\n",
              "</tr>\n",
              "<tr>\n",
              "  <th>MaxTemp</th>               <td>    0.0144</td> <td>    0.013</td> <td>    1.103</td> <td> 0.270</td> <td>   -0.011</td> <td>    0.040</td>\n",
              "</tr>\n",
              "<tr>\n",
              "  <th>Lluvia</th>                <td>    0.0095</td> <td>    0.002</td> <td>    4.033</td> <td> 0.000</td> <td>    0.005</td> <td>    0.014</td>\n",
              "</tr>\n",
              "<tr>\n",
              "  <th>Evaporacion</th>           <td>    0.0023</td> <td>    0.007</td> <td>    0.350</td> <td> 0.726</td> <td>   -0.011</td> <td>    0.015</td>\n",
              "</tr>\n",
              "<tr>\n",
              "  <th>Sol</th>                   <td>   -0.1475</td> <td>    0.007</td> <td>  -21.309</td> <td> 0.000</td> <td>   -0.161</td> <td>   -0.134</td>\n",
              "</tr>\n",
              "<tr>\n",
              "  <th>VelRafaga</th>             <td>    0.0589</td> <td>    0.002</td> <td>   33.222</td> <td> 0.000</td> <td>    0.055</td> <td>    0.062</td>\n",
              "</tr>\n",
              "<tr>\n",
              "  <th>Vel9am</th>                <td>   -0.0145</td> <td>    0.002</td> <td>   -6.165</td> <td> 0.000</td> <td>   -0.019</td> <td>   -0.010</td>\n",
              "</tr>\n",
              "<tr>\n",
              "  <th>Vel3pm</th>                <td>   -0.0227</td> <td>    0.002</td> <td>   -9.335</td> <td> 0.000</td> <td>   -0.027</td> <td>   -0.018</td>\n",
              "</tr>\n",
              "<tr>\n",
              "  <th>Hum9am</th>                <td>    0.0019</td> <td>    0.001</td> <td>    1.331</td> <td> 0.183</td> <td>   -0.001</td> <td>    0.005</td>\n",
              "</tr>\n",
              "<tr>\n",
              "  <th>Hum3pm</th>                <td>    0.0586</td> <td>    0.002</td> <td>   35.215</td> <td> 0.000</td> <td>    0.055</td> <td>    0.062</td>\n",
              "</tr>\n",
              "<tr>\n",
              "  <th>Pres9am</th>               <td>    0.1118</td> <td>    0.009</td> <td>   12.072</td> <td> 0.000</td> <td>    0.094</td> <td>    0.130</td>\n",
              "</tr>\n",
              "<tr>\n",
              "  <th>Pre3pm</th>                <td>   -0.1811</td> <td>    0.009</td> <td>  -19.559</td> <td> 0.000</td> <td>   -0.199</td> <td>   -0.163</td>\n",
              "</tr>\n",
              "<tr>\n",
              "  <th>Nub9am</th>                <td>   -0.0162</td> <td>    0.008</td> <td>   -1.908</td> <td> 0.056</td> <td>   -0.033</td> <td>    0.000</td>\n",
              "</tr>\n",
              "<tr>\n",
              "  <th>Nub3pm</th>                <td>    0.1325</td> <td>    0.009</td> <td>   14.313</td> <td> 0.000</td> <td>    0.114</td> <td>    0.151</td>\n",
              "</tr>\n",
              "<tr>\n",
              "  <th>Temp3pm</th>               <td>    0.0352</td> <td>    0.015</td> <td>    2.404</td> <td> 0.016</td> <td>    0.007</td> <td>    0.064</td>\n",
              "</tr>\n",
              "</table>"
            ],
            "text/latex": [
              "\\begin{center}\n",
              "\\begin{tabular}{lclc}\n",
              "\\toprule\n",
              "\\textbf{Dep. Variable:}        &    LluviaMan     & \\textbf{  No. Observations:  } &    45136    \\\\\n",
              "\\textbf{Model:}                &      Logit       & \\textbf{  Df Residuals:      } &    45113    \\\\\n",
              "\\textbf{Method:}               &       MLE        & \\textbf{  Df Model:          } &       22    \\\\\n",
              "\\textbf{Date:}                 & Tue, 08 Aug 2023 & \\textbf{  Pseudo R-squ.:     } &   0.3697    \\\\\n",
              "\\textbf{Time:}                 &     22:36:35     & \\textbf{  Log-Likelihood:    } &   -15029.   \\\\\n",
              "\\textbf{converged:}            &       True       & \\textbf{  LL-Null:           } &   -23846.   \\\\\n",
              "\\textbf{Covariance Type:}      &    nonrobust     & \\textbf{  LLR p-value:       } &    0.000    \\\\\n",
              "\\bottomrule\n",
              "\\end{tabular}\n",
              "\\begin{tabular}{lcccccc}\n",
              "                               & \\textbf{coef} & \\textbf{std err} & \\textbf{z} & \\textbf{P$> |$z$|$} & \\textbf{[0.025} & \\textbf{0.975]}  \\\\\n",
              "\\midrule\n",
              "\\textbf{Intercept}             &      63.1688  &        2.823     &    22.376  &         0.000        &       57.636    &       68.702     \\\\\n",
              "\\textbf{LluviaHoy[T.Yes]}      &       0.4644  &        0.041     &    11.447  &         0.000        &        0.385    &        0.544     \\\\\n",
              "\\textbf{Koppen[T.Grassland]}   &      -0.0091  &        0.150     &    -0.061  &         0.951        &       -0.302    &        0.284     \\\\\n",
              "\\textbf{Koppen[T.Subtropical]} &       0.4526  &        0.135     &     3.343  &         0.001        &        0.187    &        0.718     \\\\\n",
              "\\textbf{Koppen[T.Temperate]}   &       0.0450  &        0.135     &     0.334  &         0.738        &       -0.219    &        0.309     \\\\\n",
              "\\textbf{Estacion[T.Otoño]}     &       0.0251  &        0.045     &     0.556  &         0.578        &       -0.063    &        0.113     \\\\\n",
              "\\textbf{Estacion[T.Primavera]} &       0.0653  &        0.046     &     1.406  &         0.160        &       -0.026    &        0.156     \\\\\n",
              "\\textbf{Estacion[T.Verano]}    &      -0.2229  &        0.056     &    -3.949  &         0.000        &       -0.334    &       -0.112     \\\\\n",
              "\\textbf{MinTemp}               &      -0.0414  &        0.006     &    -6.591  &         0.000        &       -0.054    &       -0.029     \\\\\n",
              "\\textbf{MaxTemp}               &       0.0144  &        0.013     &     1.103  &         0.270        &       -0.011    &        0.040     \\\\\n",
              "\\textbf{Lluvia}                &       0.0095  &        0.002     &     4.033  &         0.000        &        0.005    &        0.014     \\\\\n",
              "\\textbf{Evaporacion}           &       0.0023  &        0.007     &     0.350  &         0.726        &       -0.011    &        0.015     \\\\\n",
              "\\textbf{Sol}                   &      -0.1475  &        0.007     &   -21.309  &         0.000        &       -0.161    &       -0.134     \\\\\n",
              "\\textbf{VelRafaga}             &       0.0589  &        0.002     &    33.222  &         0.000        &        0.055    &        0.062     \\\\\n",
              "\\textbf{Vel9am}                &      -0.0145  &        0.002     &    -6.165  &         0.000        &       -0.019    &       -0.010     \\\\\n",
              "\\textbf{Vel3pm}                &      -0.0227  &        0.002     &    -9.335  &         0.000        &       -0.027    &       -0.018     \\\\\n",
              "\\textbf{Hum9am}                &       0.0019  &        0.001     &     1.331  &         0.183        &       -0.001    &        0.005     \\\\\n",
              "\\textbf{Hum3pm}                &       0.0586  &        0.002     &    35.215  &         0.000        &        0.055    &        0.062     \\\\\n",
              "\\textbf{Pres9am}               &       0.1118  &        0.009     &    12.072  &         0.000        &        0.094    &        0.130     \\\\\n",
              "\\textbf{Pre3pm}                &      -0.1811  &        0.009     &   -19.559  &         0.000        &       -0.199    &       -0.163     \\\\\n",
              "\\textbf{Nub9am}                &      -0.0162  &        0.008     &    -1.908  &         0.056        &       -0.033    &        0.000     \\\\\n",
              "\\textbf{Nub3pm}                &       0.1325  &        0.009     &    14.313  &         0.000        &        0.114    &        0.151     \\\\\n",
              "\\textbf{Temp3pm}               &       0.0352  &        0.015     &     2.404  &         0.016        &        0.007    &        0.064     \\\\\n",
              "\\bottomrule\n",
              "\\end{tabular}\n",
              "%\\caption{Logit Regression Results}\n",
              "\\end{center}"
            ],
            "text/plain": [
              "<class 'statsmodels.iolib.summary.Summary'>\n",
              "\"\"\"\n",
              "                           Logit Regression Results                           \n",
              "==============================================================================\n",
              "Dep. Variable:              LluviaMan   No. Observations:                45136\n",
              "Model:                          Logit   Df Residuals:                    45113\n",
              "Method:                           MLE   Df Model:                           22\n",
              "Date:                Tue, 08 Aug 2023   Pseudo R-squ.:                  0.3697\n",
              "Time:                        22:36:35   Log-Likelihood:                -15029.\n",
              "converged:                       True   LL-Null:                       -23846.\n",
              "Covariance Type:            nonrobust   LLR p-value:                     0.000\n",
              "=========================================================================================\n",
              "                            coef    std err          z      P>|z|      [0.025      0.975]\n",
              "-----------------------------------------------------------------------------------------\n",
              "Intercept                63.1688      2.823     22.376      0.000      57.636      68.702\n",
              "LluviaHoy[T.Yes]          0.4644      0.041     11.447      0.000       0.385       0.544\n",
              "Koppen[T.Grassland]      -0.0091      0.150     -0.061      0.951      -0.302       0.284\n",
              "Koppen[T.Subtropical]     0.4526      0.135      3.343      0.001       0.187       0.718\n",
              "Koppen[T.Temperate]       0.0450      0.135      0.334      0.738      -0.219       0.309\n",
              "Estacion[T.Otoño]         0.0251      0.045      0.556      0.578      -0.063       0.113\n",
              "Estacion[T.Primavera]     0.0653      0.046      1.406      0.160      -0.026       0.156\n",
              "Estacion[T.Verano]       -0.2229      0.056     -3.949      0.000      -0.334      -0.112\n",
              "MinTemp                  -0.0414      0.006     -6.591      0.000      -0.054      -0.029\n",
              "MaxTemp                   0.0144      0.013      1.103      0.270      -0.011       0.040\n",
              "Lluvia                    0.0095      0.002      4.033      0.000       0.005       0.014\n",
              "Evaporacion               0.0023      0.007      0.350      0.726      -0.011       0.015\n",
              "Sol                      -0.1475      0.007    -21.309      0.000      -0.161      -0.134\n",
              "VelRafaga                 0.0589      0.002     33.222      0.000       0.055       0.062\n",
              "Vel9am                   -0.0145      0.002     -6.165      0.000      -0.019      -0.010\n",
              "Vel3pm                   -0.0227      0.002     -9.335      0.000      -0.027      -0.018\n",
              "Hum9am                    0.0019      0.001      1.331      0.183      -0.001       0.005\n",
              "Hum3pm                    0.0586      0.002     35.215      0.000       0.055       0.062\n",
              "Pres9am                   0.1118      0.009     12.072      0.000       0.094       0.130\n",
              "Pre3pm                   -0.1811      0.009    -19.559      0.000      -0.199      -0.163\n",
              "Nub9am                   -0.0162      0.008     -1.908      0.056      -0.033       0.000\n",
              "Nub3pm                    0.1325      0.009     14.313      0.000       0.114       0.151\n",
              "Temp3pm                   0.0352      0.015      2.404      0.016       0.007       0.064\n",
              "=========================================================================================\n",
              "\"\"\""
            ]
          },
          "execution_count": 92,
          "metadata": {},
          "output_type": "execute_result"
        }
      ],
      "source": [
        "model.summary()"
      ]
    },
    {
      "cell_type": "markdown",
      "source": [
        "Pseudo R-squared  es de 0.3697, lo que sugiere que el modelo explica aproximadamente el 36.97% de la variabilidad en los datos. en relacion al valor P no es significativo en Hum9am, Evaporacion, Lluvia, MaxTemp, Estacion[T.Primavera], Estacion[T.Otoño], Koppen[T.Temperate] y Koppen[T.Grassland]."
      ],
      "metadata": {
        "id": "qCMPAJxTV8rP"
      }
    },
    {
      "cell_type": "markdown",
      "metadata": {
        "id": "zy-tLKhlAMWU"
      },
      "source": [
        "### Pregunta 10\n",
        "Considerando la base de entrenamiento, ajuste la curva ROC y KS asociada al modelo, ¿Qué puede concluir sobre la discriminación del modelo?. Con la información obtenida encuentre un punto de corte que tenga una sensibilidad mínima del 80% y la máxima especificidad."
      ]
    },
    {
      "cell_type": "code",
      "execution_count": null,
      "metadata": {
        "id": "mVpwVskNAMWU"
      },
      "outputs": [],
      "source": [
        "y_pred = model.predict(X_test)"
      ]
    },
    {
      "cell_type": "code",
      "execution_count": null,
      "metadata": {
        "id": "kbWpcmJtAMWU",
        "outputId": "d7eb50aa-4f31-4e70-f089-0e4288596b43"
      },
      "outputs": [
        {
          "data": {
            "text/html": [
              "<div>\n",
              "<style scoped>\n",
              "    .dataframe tbody tr th:only-of-type {\n",
              "        vertical-align: middle;\n",
              "    }\n",
              "\n",
              "    .dataframe tbody tr th {\n",
              "        vertical-align: top;\n",
              "    }\n",
              "\n",
              "    .dataframe thead th {\n",
              "        text-align: right;\n",
              "    }\n",
              "</style>\n",
              "<table border=\"1\" class=\"dataframe\">\n",
              "  <thead>\n",
              "    <tr style=\"text-align: right;\">\n",
              "      <th></th>\n",
              "      <th>0</th>\n",
              "    </tr>\n",
              "  </thead>\n",
              "  <tbody>\n",
              "    <tr>\n",
              "      <th>14215</th>\n",
              "      <td>0.041</td>\n",
              "    </tr>\n",
              "    <tr>\n",
              "      <th>35351</th>\n",
              "      <td>0.544</td>\n",
              "    </tr>\n",
              "    <tr>\n",
              "      <th>40305</th>\n",
              "      <td>0.164</td>\n",
              "    </tr>\n",
              "    <tr>\n",
              "      <th>27060</th>\n",
              "      <td>0.011</td>\n",
              "    </tr>\n",
              "    <tr>\n",
              "      <th>17976</th>\n",
              "      <td>0.116</td>\n",
              "    </tr>\n",
              "    <tr>\n",
              "      <th>...</th>\n",
              "      <td>...</td>\n",
              "    </tr>\n",
              "    <tr>\n",
              "      <th>53304</th>\n",
              "      <td>0.031</td>\n",
              "    </tr>\n",
              "    <tr>\n",
              "      <th>47149</th>\n",
              "      <td>0.010</td>\n",
              "    </tr>\n",
              "    <tr>\n",
              "      <th>46165</th>\n",
              "      <td>0.067</td>\n",
              "    </tr>\n",
              "    <tr>\n",
              "      <th>42598</th>\n",
              "      <td>0.128</td>\n",
              "    </tr>\n",
              "    <tr>\n",
              "      <th>50157</th>\n",
              "      <td>0.104</td>\n",
              "    </tr>\n",
              "  </tbody>\n",
              "</table>\n",
              "<p>11284 rows × 1 columns</p>\n",
              "</div>"
            ],
            "text/plain": [
              "           0\n",
              "14215  0.041\n",
              "35351  0.544\n",
              "40305  0.164\n",
              "27060  0.011\n",
              "17976  0.116\n",
              "...      ...\n",
              "53304  0.031\n",
              "47149  0.010\n",
              "46165  0.067\n",
              "42598  0.128\n",
              "50157  0.104\n",
              "\n",
              "[11284 rows x 1 columns]"
            ]
          },
          "execution_count": 94,
          "metadata": {},
          "output_type": "execute_result"
        }
      ],
      "source": [
        "pd.DataFrame(round(y_pred, 3))"
      ]
    },
    {
      "cell_type": "code",
      "execution_count": null,
      "metadata": {
        "id": "qSINdUmzAMWV"
      },
      "outputs": [],
      "source": [
        "from sklearn.metrics import roc_curve\n",
        "fpr, tpr, thresholds = roc_curve(y_test, y_pred)"
      ]
    },
    {
      "cell_type": "code",
      "execution_count": null,
      "metadata": {
        "id": "JixMTj6RAMWV"
      },
      "outputs": [],
      "source": [
        "df_resumen = pd.DataFrame({'Falsos positivos' : fpr,\n",
        "                          'Verdaderos positivos': tpr,\n",
        "                          'Umbral': thresholds})"
      ]
    },
    {
      "cell_type": "code",
      "execution_count": null,
      "metadata": {
        "id": "1WhSFMjeAMWV",
        "outputId": "f2848e68-5e07-429b-fa90-ad18e898c1a8"
      },
      "outputs": [
        {
          "data": {
            "text/html": [
              "<div>\n",
              "<style scoped>\n",
              "    .dataframe tbody tr th:only-of-type {\n",
              "        vertical-align: middle;\n",
              "    }\n",
              "\n",
              "    .dataframe tbody tr th {\n",
              "        vertical-align: top;\n",
              "    }\n",
              "\n",
              "    .dataframe thead th {\n",
              "        text-align: right;\n",
              "    }\n",
              "</style>\n",
              "<table border=\"1\" class=\"dataframe\">\n",
              "  <thead>\n",
              "    <tr style=\"text-align: right;\">\n",
              "      <th></th>\n",
              "      <th>Falsos positivos</th>\n",
              "      <th>Verdaderos positivos</th>\n",
              "      <th>Umbral</th>\n",
              "    </tr>\n",
              "  </thead>\n",
              "  <tbody>\n",
              "    <tr>\n",
              "      <th>0</th>\n",
              "      <td>0.000000</td>\n",
              "      <td>0.000000</td>\n",
              "      <td>inf</td>\n",
              "    </tr>\n",
              "    <tr>\n",
              "      <th>1</th>\n",
              "      <td>0.000000</td>\n",
              "      <td>0.000409</td>\n",
              "      <td>0.998919</td>\n",
              "    </tr>\n",
              "    <tr>\n",
              "      <th>2</th>\n",
              "      <td>0.000000</td>\n",
              "      <td>0.006539</td>\n",
              "      <td>0.993138</td>\n",
              "    </tr>\n",
              "    <tr>\n",
              "      <th>3</th>\n",
              "      <td>0.000113</td>\n",
              "      <td>0.006539</td>\n",
              "      <td>0.993122</td>\n",
              "    </tr>\n",
              "    <tr>\n",
              "      <th>4</th>\n",
              "      <td>0.000113</td>\n",
              "      <td>0.008582</td>\n",
              "      <td>0.990742</td>\n",
              "    </tr>\n",
              "    <tr>\n",
              "      <th>...</th>\n",
              "      <td>...</td>\n",
              "      <td>...</td>\n",
              "      <td>...</td>\n",
              "    </tr>\n",
              "    <tr>\n",
              "      <th>2282</th>\n",
              "      <td>0.784542</td>\n",
              "      <td>0.994687</td>\n",
              "      <td>0.021667</td>\n",
              "    </tr>\n",
              "    <tr>\n",
              "      <th>2283</th>\n",
              "      <td>0.790879</td>\n",
              "      <td>0.994687</td>\n",
              "      <td>0.021096</td>\n",
              "    </tr>\n",
              "    <tr>\n",
              "      <th>2284</th>\n",
              "      <td>0.790879</td>\n",
              "      <td>0.995096</td>\n",
              "      <td>0.021094</td>\n",
              "    </tr>\n",
              "    <tr>\n",
              "      <th>2285</th>\n",
              "      <td>0.799479</td>\n",
              "      <td>0.995096</td>\n",
              "      <td>0.020297</td>\n",
              "    </tr>\n",
              "    <tr>\n",
              "      <th>2286</th>\n",
              "      <td>0.799479</td>\n",
              "      <td>0.995505</td>\n",
              "      <td>0.020289</td>\n",
              "    </tr>\n",
              "  </tbody>\n",
              "</table>\n",
              "<p>2287 rows × 3 columns</p>\n",
              "</div>"
            ],
            "text/plain": [
              "      Falsos positivos  Verdaderos positivos    Umbral\n",
              "0             0.000000              0.000000       inf\n",
              "1             0.000000              0.000409  0.998919\n",
              "2             0.000000              0.006539  0.993138\n",
              "3             0.000113              0.006539  0.993122\n",
              "4             0.000113              0.008582  0.990742\n",
              "...                ...                   ...       ...\n",
              "2282          0.784542              0.994687  0.021667\n",
              "2283          0.790879              0.994687  0.021096\n",
              "2284          0.790879              0.995096  0.021094\n",
              "2285          0.799479              0.995096  0.020297\n",
              "2286          0.799479              0.995505  0.020289\n",
              "\n",
              "[2287 rows x 3 columns]"
            ]
          },
          "execution_count": 97,
          "metadata": {},
          "output_type": "execute_result"
        }
      ],
      "source": [
        "df_resumen[df_resumen['Falsos positivos'] < 0.8]"
      ]
    },
    {
      "cell_type": "code",
      "execution_count": null,
      "metadata": {
        "id": "0Z6moqpRAMWV",
        "outputId": "ae6e695e-5413-487d-b109-f86227c1507b"
      },
      "outputs": [
        {
          "data": {
            "text/html": [
              "<div>\n",
              "<style scoped>\n",
              "    .dataframe tbody tr th:only-of-type {\n",
              "        vertical-align: middle;\n",
              "    }\n",
              "\n",
              "    .dataframe tbody tr th {\n",
              "        vertical-align: top;\n",
              "    }\n",
              "\n",
              "    .dataframe thead th {\n",
              "        text-align: right;\n",
              "    }\n",
              "</style>\n",
              "<table border=\"1\" class=\"dataframe\">\n",
              "  <thead>\n",
              "    <tr style=\"text-align: right;\">\n",
              "      <th></th>\n",
              "      <th>Falsos positivos</th>\n",
              "      <th>Verdaderos positivos</th>\n",
              "      <th>Umbral</th>\n",
              "    </tr>\n",
              "  </thead>\n",
              "  <tbody>\n",
              "    <tr>\n",
              "      <th>2287</th>\n",
              "      <td>0.806043</td>\n",
              "      <td>0.995505</td>\n",
              "      <td>0.019714</td>\n",
              "    </tr>\n",
              "    <tr>\n",
              "      <th>2288</th>\n",
              "      <td>0.806043</td>\n",
              "      <td>0.995913</td>\n",
              "      <td>0.019701</td>\n",
              "    </tr>\n",
              "    <tr>\n",
              "      <th>2289</th>\n",
              "      <td>0.823356</td>\n",
              "      <td>0.995913</td>\n",
              "      <td>0.018172</td>\n",
              "    </tr>\n",
              "    <tr>\n",
              "      <th>2290</th>\n",
              "      <td>0.823356</td>\n",
              "      <td>0.996322</td>\n",
              "      <td>0.018161</td>\n",
              "    </tr>\n",
              "    <tr>\n",
              "      <th>2291</th>\n",
              "      <td>0.834333</td>\n",
              "      <td>0.996322</td>\n",
              "      <td>0.017232</td>\n",
              "    </tr>\n",
              "    <tr>\n",
              "      <th>2292</th>\n",
              "      <td>0.834333</td>\n",
              "      <td>0.996731</td>\n",
              "      <td>0.017231</td>\n",
              "    </tr>\n",
              "    <tr>\n",
              "      <th>2293</th>\n",
              "      <td>0.834899</td>\n",
              "      <td>0.996731</td>\n",
              "      <td>0.017131</td>\n",
              "    </tr>\n",
              "    <tr>\n",
              "      <th>2294</th>\n",
              "      <td>0.834899</td>\n",
              "      <td>0.997139</td>\n",
              "      <td>0.017125</td>\n",
              "    </tr>\n",
              "    <tr>\n",
              "      <th>2295</th>\n",
              "      <td>0.839312</td>\n",
              "      <td>0.997139</td>\n",
              "      <td>0.016686</td>\n",
              "    </tr>\n",
              "    <tr>\n",
              "      <th>2296</th>\n",
              "      <td>0.839312</td>\n",
              "      <td>0.997548</td>\n",
              "      <td>0.016680</td>\n",
              "    </tr>\n",
              "    <tr>\n",
              "      <th>2297</th>\n",
              "      <td>0.860473</td>\n",
              "      <td>0.997548</td>\n",
              "      <td>0.014898</td>\n",
              "    </tr>\n",
              "    <tr>\n",
              "      <th>2298</th>\n",
              "      <td>0.860473</td>\n",
              "      <td>0.997957</td>\n",
              "      <td>0.014884</td>\n",
              "    </tr>\n",
              "    <tr>\n",
              "      <th>2299</th>\n",
              "      <td>0.889782</td>\n",
              "      <td>0.997957</td>\n",
              "      <td>0.012568</td>\n",
              "    </tr>\n",
              "    <tr>\n",
              "      <th>2300</th>\n",
              "      <td>0.889782</td>\n",
              "      <td>0.998365</td>\n",
              "      <td>0.012530</td>\n",
              "    </tr>\n",
              "    <tr>\n",
              "      <th>2301</th>\n",
              "      <td>0.902569</td>\n",
              "      <td>0.998365</td>\n",
              "      <td>0.011479</td>\n",
              "    </tr>\n",
              "    <tr>\n",
              "      <th>2302</th>\n",
              "      <td>0.902569</td>\n",
              "      <td>0.998774</td>\n",
              "      <td>0.011472</td>\n",
              "    </tr>\n",
              "    <tr>\n",
              "      <th>2303</th>\n",
              "      <td>0.916487</td>\n",
              "      <td>0.998774</td>\n",
              "      <td>0.010565</td>\n",
              "    </tr>\n",
              "    <tr>\n",
              "      <th>2304</th>\n",
              "      <td>0.916487</td>\n",
              "      <td>0.999183</td>\n",
              "      <td>0.010557</td>\n",
              "    </tr>\n",
              "    <tr>\n",
              "      <th>2305</th>\n",
              "      <td>0.937083</td>\n",
              "      <td>0.999183</td>\n",
              "      <td>0.008932</td>\n",
              "    </tr>\n",
              "    <tr>\n",
              "      <th>2306</th>\n",
              "      <td>0.937083</td>\n",
              "      <td>0.999591</td>\n",
              "      <td>0.008932</td>\n",
              "    </tr>\n",
              "    <tr>\n",
              "      <th>2307</th>\n",
              "      <td>0.943193</td>\n",
              "      <td>0.999591</td>\n",
              "      <td>0.008394</td>\n",
              "    </tr>\n",
              "    <tr>\n",
              "      <th>2308</th>\n",
              "      <td>0.943193</td>\n",
              "      <td>1.000000</td>\n",
              "      <td>0.008386</td>\n",
              "    </tr>\n",
              "    <tr>\n",
              "      <th>2309</th>\n",
              "      <td>1.000000</td>\n",
              "      <td>1.000000</td>\n",
              "      <td>0.001565</td>\n",
              "    </tr>\n",
              "  </tbody>\n",
              "</table>\n",
              "</div>"
            ],
            "text/plain": [
              "      Falsos positivos  Verdaderos positivos    Umbral\n",
              "2287          0.806043              0.995505  0.019714\n",
              "2288          0.806043              0.995913  0.019701\n",
              "2289          0.823356              0.995913  0.018172\n",
              "2290          0.823356              0.996322  0.018161\n",
              "2291          0.834333              0.996322  0.017232\n",
              "2292          0.834333              0.996731  0.017231\n",
              "2293          0.834899              0.996731  0.017131\n",
              "2294          0.834899              0.997139  0.017125\n",
              "2295          0.839312              0.997139  0.016686\n",
              "2296          0.839312              0.997548  0.016680\n",
              "2297          0.860473              0.997548  0.014898\n",
              "2298          0.860473              0.997957  0.014884\n",
              "2299          0.889782              0.997957  0.012568\n",
              "2300          0.889782              0.998365  0.012530\n",
              "2301          0.902569              0.998365  0.011479\n",
              "2302          0.902569              0.998774  0.011472\n",
              "2303          0.916487              0.998774  0.010565\n",
              "2304          0.916487              0.999183  0.010557\n",
              "2305          0.937083              0.999183  0.008932\n",
              "2306          0.937083              0.999591  0.008932\n",
              "2307          0.943193              0.999591  0.008394\n",
              "2308          0.943193              1.000000  0.008386\n",
              "2309          1.000000              1.000000  0.001565"
            ]
          },
          "execution_count": 98,
          "metadata": {},
          "output_type": "execute_result"
        }
      ],
      "source": [
        "df_resumen[df_resumen['Falsos positivos'] >= 0.8]"
      ]
    },
    {
      "cell_type": "code",
      "execution_count": null,
      "metadata": {
        "id": "BR7-bD7JAMWV"
      },
      "outputs": [],
      "source": [
        "punto_corte = 0.020289"
      ]
    },
    {
      "cell_type": "code",
      "execution_count": null,
      "metadata": {
        "id": "YIIzaBgXAMWV",
        "outputId": "9af71135-665c-454c-ac55-ac3314cc77db"
      },
      "outputs": [
        {
          "data": {
            "image/png": "[encoded data removed]",
            "text/plain": [
              "<Figure size 640x480 with 1 Axes>"
            ]
          },
          "metadata": {},
          "output_type": "display_data"
        }
      ],
      "source": [
        "import matplotlib.pyplot as plt\n",
        "from sklearn.metrics import roc_auc_score\n",
        "from sklearn.metrics import roc_curve\n",
        "plt.style.use('ggplot')\n",
        "# ROC curve\n",
        "logit_roc_auc = roc_auc_score(y_test, y_pred)\n",
        "fpr, tpr, thresholds = roc_curve(y_test, y_pred) # entrega 3 array\n",
        "plt.figure()\n",
        "plt.plot(fpr, tpr, label='Logistic Regression (area = %0.2f)' % logit_roc_auc, color = 'dodgerblue')\n",
        "# extra para que se vea \"bien\"\n",
        "plt.fill_between(fpr, tpr, color='dodgerblue')\n",
        "plt.plot([0, 1], [0, 1],'b--')\n",
        "plt.xlabel('Falsos positivos')\n",
        "plt.ylabel('Verdaderos positivos')\n",
        "plt.legend(loc=\"lower right\")\n",
        "plt.title('ROC Curve')\n",
        "plt.show();"
      ]
    },
    {
      "cell_type": "markdown",
      "source": [
        "Valores entre el 75 % y 90% aprox. son considerados\n",
        "como un buen ajuste. Esto quiere decir que el modelo\n",
        "logra discriminar de buena forma los datos.\n"
      ],
      "metadata": {
        "id": "m4RGRhsAVEuW"
      }
    },
    {
      "cell_type": "code",
      "execution_count": null,
      "metadata": {
        "id": "5J5Vm4LRAMWV"
      },
      "outputs": [],
      "source": [
        "from sklearn.metrics import confusion_matrix"
      ]
    },
    {
      "cell_type": "code",
      "execution_count": null,
      "metadata": {
        "id": "Av2mCcZGKdxl"
      },
      "outputs": [],
      "source": [
        "y_prob = model.predict(X_train)"
      ]
    },
    {
      "cell_type": "code",
      "execution_count": null,
      "metadata": {
        "id": "Nsco_f7lKdxl"
      },
      "outputs": [],
      "source": [
        "y_prob2 = np.array(pd.concat([1-y_prob, y_prob], axis = 1))"
      ]
    },
    {
      "cell_type": "code",
      "execution_count": null,
      "metadata": {
        "id": "086-ti2XKdxm",
        "outputId": "27e819bf-5809-45e6-a294-85f47e37ef32"
      },
      "outputs": [
        {
          "data": {
            "text/plain": [
              "31665    0.048462\n",
              "36405    0.431338\n",
              "35309    0.012016\n",
              "24159    0.229113\n",
              "27018    0.404762\n",
              "           ...   \n",
              "38817    0.069858\n",
              "51895    0.041811\n",
              "47558    0.450753\n",
              "22041    0.856849\n",
              "54103    0.109291\n",
              "Length: 45136, dtype: float64"
            ]
          },
          "execution_count": 104,
          "metadata": {},
          "output_type": "execute_result"
        }
      ],
      "source": [
        "y_prob"
      ]
    },
    {
      "cell_type": "code",
      "execution_count": null,
      "metadata": {
        "id": "Q8xTXII2Kdxm"
      },
      "outputs": [],
      "source": [
        "import random\n",
        "from sklearn.model_selection import train_test_split"
      ]
    },
    {
      "cell_type": "code",
      "execution_count": null,
      "metadata": {
        "id": "RBvHds28Kdxm"
      },
      "outputs": [],
      "source": [
        "#%pip install scikit-plot"
      ]
    },
    {
      "cell_type": "code",
      "execution_count": null,
      "metadata": {
        "id": "D9ahlZc4Kdxn"
      },
      "outputs": [],
      "source": [
        "import scikitplot.metrics as skplt"
      ]
    },
    {
      "cell_type": "code",
      "execution_count": null,
      "metadata": {
        "id": "xbg4tiabKdxn",
        "outputId": "db178549-3cd0-4ac3-ba6f-ec2163e1f25c"
      },
      "outputs": [
        {
          "data": {
            "image/png": "[encoded data removed]",
            "text/plain": [
              "<Figure size 640x480 with 1 Axes>"
            ]
          },
          "metadata": {},
          "output_type": "display_data"
        }
      ],
      "source": [
        "skplt.plot_ks_statistic(y_train, y_prob2);"
      ]
    },
    {
      "cell_type": "markdown",
      "source": [
        "en relacion a la base del test, nuestro KS es de 0,42 lo que indica que las distribuciones tienen una separación notable pero no extrema. Esto significa que hay diferencias significativas entre las distribuciones acumuladas de probabilidad de los dos conjuntos de datos, pero no son completamente disjuntas."
      ],
      "metadata": {
        "id": "W5JA82XkU_sg"
      }
    },
    {
      "cell_type": "markdown",
      "metadata": {
        "id": "yG0zzCSHAMWV"
      },
      "source": [
        "### Pregunta 11\n",
        "Considerando la base de test, obtenga nuevamente la curva ROC y KS asociada al modelo, ¿cómo han variado los indicadores?, además, utilizando el punto de corte obtenido, obtenga la precisión."
      ]
    },
    {
      "cell_type": "code",
      "execution_count": null,
      "metadata": {
        "id": "my-atDIHKdxn"
      },
      "outputs": [],
      "source": [
        "y_pred_train = (model.predict(X_train) > punto_corte).astype(int)\n",
        "y_pred_test = (model.predict(X_test) >= punto_corte).astype(int)"
      ]
    },
    {
      "cell_type": "code",
      "execution_count": null,
      "metadata": {
        "id": "Gq54Mw3iKdxn",
        "outputId": "297ae778-6149-40ac-94bd-997bd76ea4f6"
      },
      "outputs": [
        {
          "data": {
            "text/plain": [
              "0.020289"
            ]
          },
          "execution_count": 110,
          "metadata": {},
          "output_type": "execute_result"
        }
      ],
      "source": [
        "punto_corte"
      ]
    },
    {
      "cell_type": "code",
      "execution_count": null,
      "metadata": {
        "id": "XmFa6K_TKdxo"
      },
      "outputs": [],
      "source": [
        "confusion = confusion_matrix(y_train, y_pred_train, labels = [0, 1])"
      ]
    },
    {
      "cell_type": "code",
      "execution_count": null,
      "metadata": {
        "id": "EzggSi9SKdxo",
        "outputId": "1c50930c-e45d-4dbf-b5c1-fe1dd04f4157"
      },
      "outputs": [
        {
          "name": "stdout",
          "output_type": "stream",
          "text": [
            "Sensibilidad:  0.9952905811623246\n",
            "Especificidad: 0.20374900443736488\n",
            "Precisión: 0.2619047619047619\n",
            "F1-Score 0.4146870955621425\n",
            "Área bajo la curva: 0.3787663948954271\n"
          ]
        }
      ],
      "source": [
        "TP = confusion[1,1] # true positive\n",
        "TN = confusion[0,0] # true negatives\n",
        "FP = confusion[0,1] # false positives\n",
        "FN = confusion[1,0] # false negatives\n",
        "\n",
        "sensibilidad_train = TP / float(TP+FN)\n",
        "print('Sensibilidad: ', sensibilidad_train)\n",
        "especificidad_train = TN / float(TN+FP)\n",
        "print('Especificidad:', especificidad_train)\n",
        "precision_train = (TP) /(TP + FP)\n",
        "print('Precisión:', precision_train)\n",
        "#F1 = 2 * (precision * recall) / (precision + recall)\n",
        "recall = TP / (TP + FN)\n",
        "precision = (TP) /(TP + FP)\n",
        "F1_train = 2 * (precision * recall) / (precision + recall)\n",
        "print('F1-Score', F1_train)\n",
        "auc_train = (TP + TN) /(TP + TN + FN + FP)\n",
        "print('Área bajo la curva:', auc_train)"
      ]
    },
    {
      "cell_type": "code",
      "execution_count": null,
      "metadata": {
        "id": "dfk0Vzr0Kdxo"
      },
      "outputs": [],
      "source": [
        "confusion = confusion_matrix(y_test, y_pred_test, labels = [0, 1])"
      ]
    },
    {
      "cell_type": "code",
      "execution_count": null,
      "metadata": {
        "id": "WG7BPr1jKdxo",
        "outputId": "bbe3fadd-1896-43f8-b625-653b624ddc6d"
      },
      "outputs": [
        {
          "data": {
            "text/plain": [
              "14215    1\n",
              "35351    1\n",
              "40305    1\n",
              "27060    0\n",
              "17976    1\n",
              "        ..\n",
              "53304    1\n",
              "47149    0\n",
              "46165    1\n",
              "42598    1\n",
              "50157    1\n",
              "Length: 11284, dtype: int32"
            ]
          },
          "execution_count": 114,
          "metadata": {},
          "output_type": "execute_result"
        }
      ],
      "source": [
        "y_pred_test"
      ]
    },
    {
      "cell_type": "code",
      "execution_count": null,
      "metadata": {
        "id": "RwF1O6J8Kdxo",
        "outputId": "889a82ab-7207-4e0b-fc64-90e18720b263"
      },
      "outputs": [
        {
          "name": "stdout",
          "output_type": "stream",
          "text": [
            "Sensibilidad:  0.9955046996322027\n",
            "Especificidad: 0.2005205386443363\n",
            "Precisión: 0.2563940637827597\n",
            "F1-Score 0.4077669902912622\n",
            "Área bajo la curva: 0.3729174051754697\n"
          ]
        }
      ],
      "source": [
        "TP = confusion[1,1] # true positive\n",
        "TN = confusion[0,0] # true negatives\n",
        "FP = confusion[0,1] # false positives\n",
        "FN = confusion[1,0] # false negatives\n",
        "\n",
        "sensibilidad_test = TP / float(TP+FN)\n",
        "print('Sensibilidad: ', sensibilidad_test)\n",
        "especificidad_test = TN / float(TN+FP)\n",
        "print('Especificidad:', especificidad_test)\n",
        "precision_test = (TP) /(TP + FP)\n",
        "print('Precisión:', precision_test)\n",
        "#F1 = 2 * (precision * recall) / (precision + recall)\n",
        "recall = TP / (TP + FN)\n",
        "precision = (TP) /(TP + FP)\n",
        "F1_test = 2 * (precision * recall) / (precision + recall)\n",
        "print('F1-Score', F1_test)\n",
        "auc_test = (TP + TN) /(TP + TN + FN + FP)\n",
        "print('Área bajo la curva:', auc_test)"
      ]
    },
    {
      "cell_type": "code",
      "execution_count": null,
      "metadata": {
        "id": "LA9otBmAKdxy"
      },
      "outputs": [],
      "source": [
        "train = [sensibilidad_train, especificidad_train, precision_train, F1_train, auc_train]\n",
        "test = [sensibilidad_test, especificidad_test, precision_test, F1_test, auc_test]"
      ]
    },
    {
      "cell_type": "code",
      "execution_count": null,
      "metadata": {
        "id": "F00bnxUOKdxy",
        "outputId": "dd4826b9-1f17-400a-a6c1-8f7044e7b8ec"
      },
      "outputs": [
        {
          "data": {
            "text/html": [
              "<div>\n",
              "<style scoped>\n",
              "    .dataframe tbody tr th:only-of-type {\n",
              "        vertical-align: middle;\n",
              "    }\n",
              "\n",
              "    .dataframe tbody tr th {\n",
              "        vertical-align: top;\n",
              "    }\n",
              "\n",
              "    .dataframe thead th {\n",
              "        text-align: right;\n",
              "    }\n",
              "</style>\n",
              "<table border=\"1\" class=\"dataframe\">\n",
              "  <thead>\n",
              "    <tr style=\"text-align: right;\">\n",
              "      <th></th>\n",
              "      <th>Entrenamineto</th>\n",
              "      <th>Validación</th>\n",
              "    </tr>\n",
              "  </thead>\n",
              "  <tbody>\n",
              "    <tr>\n",
              "      <th>Sensibilidad</th>\n",
              "      <td>0.995291</td>\n",
              "      <td>0.995505</td>\n",
              "    </tr>\n",
              "    <tr>\n",
              "      <th>Especificidad</th>\n",
              "      <td>0.203749</td>\n",
              "      <td>0.200521</td>\n",
              "    </tr>\n",
              "    <tr>\n",
              "      <th>Precisión</th>\n",
              "      <td>0.261905</td>\n",
              "      <td>0.256394</td>\n",
              "    </tr>\n",
              "    <tr>\n",
              "      <th>F1</th>\n",
              "      <td>0.414687</td>\n",
              "      <td>0.407767</td>\n",
              "    </tr>\n",
              "    <tr>\n",
              "      <th>AUC</th>\n",
              "      <td>0.378766</td>\n",
              "      <td>0.372917</td>\n",
              "    </tr>\n",
              "  </tbody>\n",
              "</table>\n",
              "</div>"
            ],
            "text/plain": [
              "               Entrenamineto  Validación\n",
              "Sensibilidad        0.995291    0.995505\n",
              "Especificidad       0.203749    0.200521\n",
              "Precisión           0.261905    0.256394\n",
              "F1                  0.414687    0.407767\n",
              "AUC                 0.378766    0.372917"
            ]
          },
          "execution_count": 117,
          "metadata": {},
          "output_type": "execute_result"
        }
      ],
      "source": [
        "pd.DataFrame({'Entrenamineto': train,\n",
        "              'Validación': test},\n",
        "            index = ['Sensibilidad', 'Especificidad', 'Precisión','F1', 'AUC'])"
      ]
    },
    {
      "cell_type": "code",
      "execution_count": null,
      "metadata": {
        "id": "ov7--nnLKdxz",
        "outputId": "287098d1-c3d2-45cc-aa76-6e3fc32f978a"
      },
      "outputs": [
        {
          "data": {
            "image/png": "[encoded data removed]",
            "text/plain": [
              "<Figure size 640x480 with 1 Axes>"
            ]
          },
          "metadata": {},
          "output_type": "display_data"
        }
      ],
      "source": [
        "import matplotlib.pyplot as plt\n",
        "from sklearn.metrics import roc_auc_score\n",
        "from sklearn.metrics import roc_curve\n",
        "plt.style.use('ggplot')\n",
        "# ROC curve\n",
        "logit_roc_auc = roc_auc_score(y_test, model.predict(X_test))\n",
        "fpr, tpr, thresholds = roc_curve(y_test,model.predict(X_test)) # entrega 3 array\n",
        "plt.figure()\n",
        "plt.plot(fpr, tpr, label='Logistic Regression (area = %0.2f)' % logit_roc_auc, color = 'dodgerblue')\n",
        "# extra para que se vea \"bien\"\n",
        "plt.fill_between(fpr, tpr, color='dodgerblue')\n",
        "plt.plot([0, 1], [0, 1],'b--')\n",
        "plt.xlabel('Falsos positivos')\n",
        "plt.ylabel('Verdaderos positivos')\n",
        "plt.legend(loc=\"lower right\")\n",
        "plt.title('ROC Curve')\n",
        "plt.show();"
      ]
    },
    {
      "cell_type": "markdown",
      "metadata": {
        "id": "UrVtmzgZKdxz"
      },
      "source": [
        "Valores entre el 75 % y 90% aprox. son considerados\n",
        "como un buen ajuste. Esto quiere decir que el modelo\n",
        "logra discriminar de buena forma los datos."
      ]
    },
    {
      "cell_type": "code",
      "execution_count": null,
      "metadata": {
        "id": "7U2-ou4WKdxz"
      },
      "outputs": [],
      "source": [
        "y_pred2 = np.array(pd.concat([1-y_pred, y_pred], axis = 1))"
      ]
    },
    {
      "cell_type": "code",
      "execution_count": null,
      "metadata": {
        "id": "m1PDLBXcKdx0",
        "outputId": "a668bc2b-9cc6-4419-cdfb-cff56fab5ce2"
      },
      "outputs": [
        {
          "data": {
            "text/plain": [
              "<Axes: title={'center': 'KS Statistic Plot'}, xlabel='Threshold', ylabel='Percentage below threshold'>"
            ]
          },
          "execution_count": 120,
          "metadata": {},
          "output_type": "execute_result"
        },
        {
          "data": {
            "image/png": "[encoded data removed]",
            "text/plain": [
              "<Figure size 640x480 with 1 Axes>"
            ]
          },
          "metadata": {},
          "output_type": "display_data"
        }
      ],
      "source": [
        "# Test Kolmogorov-Smirnov\n",
        "# H0: si la distribución empirica es similar a la teorica\n",
        "# H1: si la distribución empirica no es similar a la teorica\n",
        "import scikitplot.metrics as skplt\n",
        "skplt.plot_ks_statistic(y_test, y_pred2)"
      ]
    },
    {
      "cell_type": "code",
      "execution_count": null,
      "metadata": {
        "id": "NWhXmIZnKdx0"
      },
      "outputs": [],
      "source": [
        "y_prob_test = model.predict(X_test)\n",
        "y_prob3 = np.array(pd.concat([1-y_prob_test, y_prob_test], axis = 1))"
      ]
    },
    {
      "cell_type": "code",
      "execution_count": null,
      "metadata": {
        "id": "yYYeP0QsKdx0",
        "outputId": "bf7b4382-138a-4209-d65b-3b009496f946"
      },
      "outputs": [
        {
          "data": {
            "image/png": "[encoded data removed]",
            "text/plain": [
              "<Figure size 640x480 with 1 Axes>"
            ]
          },
          "metadata": {},
          "output_type": "display_data"
        }
      ],
      "source": [
        "import scikitplot.metrics as skplt\n",
        "skplt.plot_ks_statistic(y_test, y_prob3);"
      ]
    },
    {
      "cell_type": "markdown",
      "source": [
        "en relacion a la base del test, nuestro KS es de 0,425 lo que indica que las distribuciones tienen una separación notable pero no extrema. Esto significa que hay diferencias significativas entre las distribuciones acumuladas de probabilidad de los dos conjuntos de datos, pero no son completamente disjuntas."
      ],
      "metadata": {
        "id": "tmNXqUe6Rw1q"
      }
    },
    {
      "cell_type": "markdown",
      "metadata": {
        "id": "tfJ2f8q4Kdx0"
      },
      "source": [
        "### Pregunta 12\n",
        "Utilizando el punto de corte encontrado, determine si el día de mañana lloverá."
      ]
    },
    {
      "cell_type": "code",
      "execution_count": null,
      "metadata": {
        "id": "weQ5dwkrKdx0"
      },
      "outputs": [],
      "source": [
        "# Suponiendo que ya tienes el modelo de regresión logística entrenado y se llama 'modelo_entrenado'\n",
        "# Suponiendo que el punto de corte es 0.020289\n",
        "\n",
        "# Define los datos del día de mañana en el mismo formato que se utilizó para entrenar el modelo\n",
        "nuevo_dia = pd.DataFrame({'MinTemp': [7],\n",
        "                          'MaxTemp': [18],\n",
        "                          'Lluvia': [0],\n",
        "                          'Evaporacion': [7],\n",
        "                          'Sol': [12],\n",
        "                          'VelRafaga': [72],\n",
        "                          'Vel9am': [10],\n",
        "                          'Vel3pm': [54],\n",
        "                          'Hum9am': [65],\n",
        "                          'Hum3pm': [77],\n",
        "                          'Pres9am': [1001],\n",
        "                          'Pre3pm': [1025],\n",
        "                          'Nub9am': [3],\n",
        "                          'Nub3pm': [2],\n",
        "                          'Temp9am': [11.4],\n",
        "                          'Temp3pm': [16.2],\n",
        "                          'LluviaHoy': ['No'],\n",
        "                          'Koppen': ['Subtropical'],\n",
        "                          'Estacion': ['Primavera']},\n",
        "                         index=['1'])\n",
        "\n"
      ]
    },
    {
      "cell_type": "code",
      "execution_count": null,
      "metadata": {
        "id": "16KEzw59Kdx1",
        "outputId": "47840143-4854-4602-9bb0-3f367d953ec0"
      },
      "outputs": [
        {
          "data": {
            "text/plain": [
              "1    0.026503\n",
              "dtype: float64"
            ]
          },
          "execution_count": 124,
          "metadata": {},
          "output_type": "execute_result"
        }
      ],
      "source": [
        "model.predict(nuevo_dia)"
      ]
    },
    {
      "cell_type": "markdown",
      "source": [
        "Dado que estás trabajando con un modelo de regresión logística, las predicciones que obtienes son valores de probabilidad. En este caso, el valor 0.026503 sugiere que el modelo considera que es poco probable que ocurra lluvia en el nuevo día, basándose en las características específicas que proporcionaste para ese día."
      ],
      "metadata": {
        "id": "P4J-u_vmKiap"
      }
    }
  ],
  "metadata": {
    "colab": {
      "provenance": []
    },
    "kernelspec": {
      "display_name": "default",
      "language": "python",
      "name": "python3"
    },
    "language_info": {
      "codemirror_mode": {
        "name": "ipython",
        "version": 3
      },
      "file_extension": ".py",
      "mimetype": "text/x-python",
      "name": "python",
      "nbconvert_exporter": "python",
      "pygments_lexer": "ipython3",
      "version": "3.9.12"
    },
    "orig_nbformat": 4
  },
  "nbformat": 4,
  "nbformat_minor": 0
}